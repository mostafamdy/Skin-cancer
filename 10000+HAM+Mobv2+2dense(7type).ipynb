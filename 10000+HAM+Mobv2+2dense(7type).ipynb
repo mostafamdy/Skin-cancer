{
  "nbformat": 4,
  "nbformat_minor": 0,
  "metadata": {
    "colab": {
      "provenance": [],
      "collapsed_sections": []
    },
    "kernelspec": {
      "name": "python3",
      "display_name": "Python 3"
    },
    "language_info": {
      "name": "python"
    },
    "accelerator": "GPU"
  },
  "cells": [
    {
      "cell_type": "code",
      "source": [
        "seed=101\n",
        "records_count=10000"
      ],
      "metadata": {
        "id": "hapacCFSccif"
      },
      "execution_count": null,
      "outputs": []
    },
    {
      "cell_type": "code",
      "execution_count": null,
      "metadata": {
        "id": "Mafn_4c2M-v-"
      },
      "outputs": [],
      "source": [
        "import os\n",
        "import cv2\n",
        "import shutil\n",
        "import numpy as np\n",
        "import pandas as pd\n",
        "import matplotlib.pyplot as plt\n",
        "import matplotlib.patches as patches\n",
        "from keras.applications.resnet import ResNet50\n",
        "from sklearn import preprocessing\n",
        "from sklearn.model_selection import train_test_split\n",
        "from sklearn.ensemble import RandomForestClassifier\n",
        "from sklearn import metrics"
      ]
    },
    {
      "cell_type": "code",
      "execution_count": null,
      "metadata": {
        "id": "Aa36bMKLze3z"
      },
      "outputs": [],
      "source": [
        "import pandas as pd\n",
        "import numpy as np\n",
        "import os\n",
        "import tensorflow as tf\n",
        "import cv2\n",
        "from keras import backend as K\n",
        "from keras.layers import Layer,InputSpec\n",
        "import keras.layers as kl\n",
        "from glob import glob\n",
        "from sklearn.metrics import roc_curve, auc\n",
        "from keras.preprocessing import image\n",
        "from keras.models import Sequential\n",
        "from sklearn.metrics import roc_auc_score\n",
        "from keras import callbacks \n",
        "from keras.callbacks import ModelCheckpoint,EarlyStopping\n",
        "from  matplotlib import pyplot as plt\n",
        "from keras import Model\n",
        "from keras.layers import concatenate,Dense, Conv2D, MaxPooling2D, Flatten,Input,Activation,add,AveragePooling2D,GlobalAveragePooling2D,BatchNormalization,Dropout\n",
        "import shutil\n",
        "from sklearn.metrics import  precision_score, recall_score, accuracy_score,classification_report ,confusion_matrix\n",
        "from tensorflow.python.platform import build_info as tf_build_info\n",
        "from keras.preprocessing.image import ImageDataGenerator\n",
        "from sklearn.model_selection import train_test_split\n",
        "\n",
        "from PIL import ImageFile\n",
        "ImageFile.LOAD_TRUNCATED_IMAGES = True"
      ]
    },
    {
      "cell_type": "markdown",
      "source": [
        "#download dataset"
      ],
      "metadata": {
        "id": "dNboS1imgldM"
      }
    },
    {
      "cell_type": "code",
      "source": [
        "! pip install -q kaggle"
      ],
      "metadata": {
        "id": "4zee-y6l3c4k"
      },
      "execution_count": null,
      "outputs": []
    },
    {
      "cell_type": "code",
      "source": [
        "from google.colab import files\n",
        "files.upload()"
      ],
      "metadata": {
        "colab": {
          "base_uri": "https://localhost:8080/",
          "height": 91
        },
        "id": "h2JiNSxD4tme",
        "outputId": "4e8a0a51-fa30-47c0-d598-1098d91e0603"
      },
      "execution_count": null,
      "outputs": [
        {
          "output_type": "display_data",
          "data": {
            "text/plain": [
              "<IPython.core.display.HTML object>"
            ],
            "text/html": [
              "\n",
              "     <input type=\"file\" id=\"files-53109a3d-a68a-4254-a9d7-a5f9ee879617\" name=\"files[]\" multiple disabled\n",
              "        style=\"border:none\" />\n",
              "     <output id=\"result-53109a3d-a68a-4254-a9d7-a5f9ee879617\">\n",
              "      Upload widget is only available when the cell has been executed in the\n",
              "      current browser session. Please rerun this cell to enable.\n",
              "      </output>\n",
              "      <script>// Copyright 2017 Google LLC\n",
              "//\n",
              "// Licensed under the Apache License, Version 2.0 (the \"License\");\n",
              "// you may not use this file except in compliance with the License.\n",
              "// You may obtain a copy of the License at\n",
              "//\n",
              "//      http://www.apache.org/licenses/LICENSE-2.0\n",
              "//\n",
              "// Unless required by applicable law or agreed to in writing, software\n",
              "// distributed under the License is distributed on an \"AS IS\" BASIS,\n",
              "// WITHOUT WARRANTIES OR CONDITIONS OF ANY KIND, either express or implied.\n",
              "// See the License for the specific language governing permissions and\n",
              "// limitations under the License.\n",
              "\n",
              "/**\n",
              " * @fileoverview Helpers for google.colab Python module.\n",
              " */\n",
              "(function(scope) {\n",
              "function span(text, styleAttributes = {}) {\n",
              "  const element = document.createElement('span');\n",
              "  element.textContent = text;\n",
              "  for (const key of Object.keys(styleAttributes)) {\n",
              "    element.style[key] = styleAttributes[key];\n",
              "  }\n",
              "  return element;\n",
              "}\n",
              "\n",
              "// Max number of bytes which will be uploaded at a time.\n",
              "const MAX_PAYLOAD_SIZE = 100 * 1024;\n",
              "\n",
              "function _uploadFiles(inputId, outputId) {\n",
              "  const steps = uploadFilesStep(inputId, outputId);\n",
              "  const outputElement = document.getElementById(outputId);\n",
              "  // Cache steps on the outputElement to make it available for the next call\n",
              "  // to uploadFilesContinue from Python.\n",
              "  outputElement.steps = steps;\n",
              "\n",
              "  return _uploadFilesContinue(outputId);\n",
              "}\n",
              "\n",
              "// This is roughly an async generator (not supported in the browser yet),\n",
              "// where there are multiple asynchronous steps and the Python side is going\n",
              "// to poll for completion of each step.\n",
              "// This uses a Promise to block the python side on completion of each step,\n",
              "// then passes the result of the previous step as the input to the next step.\n",
              "function _uploadFilesContinue(outputId) {\n",
              "  const outputElement = document.getElementById(outputId);\n",
              "  const steps = outputElement.steps;\n",
              "\n",
              "  const next = steps.next(outputElement.lastPromiseValue);\n",
              "  return Promise.resolve(next.value.promise).then((value) => {\n",
              "    // Cache the last promise value to make it available to the next\n",
              "    // step of the generator.\n",
              "    outputElement.lastPromiseValue = value;\n",
              "    return next.value.response;\n",
              "  });\n",
              "}\n",
              "\n",
              "/**\n",
              " * Generator function which is called between each async step of the upload\n",
              " * process.\n",
              " * @param {string} inputId Element ID of the input file picker element.\n",
              " * @param {string} outputId Element ID of the output display.\n",
              " * @return {!Iterable<!Object>} Iterable of next steps.\n",
              " */\n",
              "function* uploadFilesStep(inputId, outputId) {\n",
              "  const inputElement = document.getElementById(inputId);\n",
              "  inputElement.disabled = false;\n",
              "\n",
              "  const outputElement = document.getElementById(outputId);\n",
              "  outputElement.innerHTML = '';\n",
              "\n",
              "  const pickedPromise = new Promise((resolve) => {\n",
              "    inputElement.addEventListener('change', (e) => {\n",
              "      resolve(e.target.files);\n",
              "    });\n",
              "  });\n",
              "\n",
              "  const cancel = document.createElement('button');\n",
              "  inputElement.parentElement.appendChild(cancel);\n",
              "  cancel.textContent = 'Cancel upload';\n",
              "  const cancelPromise = new Promise((resolve) => {\n",
              "    cancel.onclick = () => {\n",
              "      resolve(null);\n",
              "    };\n",
              "  });\n",
              "\n",
              "  // Wait for the user to pick the files.\n",
              "  const files = yield {\n",
              "    promise: Promise.race([pickedPromise, cancelPromise]),\n",
              "    response: {\n",
              "      action: 'starting',\n",
              "    }\n",
              "  };\n",
              "\n",
              "  cancel.remove();\n",
              "\n",
              "  // Disable the input element since further picks are not allowed.\n",
              "  inputElement.disabled = true;\n",
              "\n",
              "  if (!files) {\n",
              "    return {\n",
              "      response: {\n",
              "        action: 'complete',\n",
              "      }\n",
              "    };\n",
              "  }\n",
              "\n",
              "  for (const file of files) {\n",
              "    const li = document.createElement('li');\n",
              "    li.append(span(file.name, {fontWeight: 'bold'}));\n",
              "    li.append(span(\n",
              "        `(${file.type || 'n/a'}) - ${file.size} bytes, ` +\n",
              "        `last modified: ${\n",
              "            file.lastModifiedDate ? file.lastModifiedDate.toLocaleDateString() :\n",
              "                                    'n/a'} - `));\n",
              "    const percent = span('0% done');\n",
              "    li.appendChild(percent);\n",
              "\n",
              "    outputElement.appendChild(li);\n",
              "\n",
              "    const fileDataPromise = new Promise((resolve) => {\n",
              "      const reader = new FileReader();\n",
              "      reader.onload = (e) => {\n",
              "        resolve(e.target.result);\n",
              "      };\n",
              "      reader.readAsArrayBuffer(file);\n",
              "    });\n",
              "    // Wait for the data to be ready.\n",
              "    let fileData = yield {\n",
              "      promise: fileDataPromise,\n",
              "      response: {\n",
              "        action: 'continue',\n",
              "      }\n",
              "    };\n",
              "\n",
              "    // Use a chunked sending to avoid message size limits. See b/62115660.\n",
              "    let position = 0;\n",
              "    do {\n",
              "      const length = Math.min(fileData.byteLength - position, MAX_PAYLOAD_SIZE);\n",
              "      const chunk = new Uint8Array(fileData, position, length);\n",
              "      position += length;\n",
              "\n",
              "      const base64 = btoa(String.fromCharCode.apply(null, chunk));\n",
              "      yield {\n",
              "        response: {\n",
              "          action: 'append',\n",
              "          file: file.name,\n",
              "          data: base64,\n",
              "        },\n",
              "      };\n",
              "\n",
              "      let percentDone = fileData.byteLength === 0 ?\n",
              "          100 :\n",
              "          Math.round((position / fileData.byteLength) * 100);\n",
              "      percent.textContent = `${percentDone}% done`;\n",
              "\n",
              "    } while (position < fileData.byteLength);\n",
              "  }\n",
              "\n",
              "  // All done.\n",
              "  yield {\n",
              "    response: {\n",
              "      action: 'complete',\n",
              "    }\n",
              "  };\n",
              "}\n",
              "\n",
              "scope.google = scope.google || {};\n",
              "scope.google.colab = scope.google.colab || {};\n",
              "scope.google.colab._files = {\n",
              "  _uploadFiles,\n",
              "  _uploadFilesContinue,\n",
              "};\n",
              "})(self);\n",
              "</script> "
            ]
          },
          "metadata": {}
        },
        {
          "output_type": "stream",
          "name": "stdout",
          "text": [
            "Saving kaggle.json to kaggle.json\n"
          ]
        },
        {
          "output_type": "execute_result",
          "data": {
            "text/plain": [
              "{'kaggle.json': b'{\"username\":\"nadakhater\",\"key\":\"e0cabe6cb91e5c18df198be8415307f1\"}'}"
            ]
          },
          "metadata": {},
          "execution_count": 5
        }
      ]
    },
    {
      "cell_type": "code",
      "source": [
        "! mkdir ~/.kaggle"
      ],
      "metadata": {
        "id": "DPiEwSTE48aI"
      },
      "execution_count": null,
      "outputs": []
    },
    {
      "cell_type": "code",
      "source": [
        "! cp kaggle.json ~/.kaggle/"
      ],
      "metadata": {
        "id": "nXH7S-uX4-Bs"
      },
      "execution_count": null,
      "outputs": []
    },
    {
      "cell_type": "code",
      "source": [
        "! chmod 600 ~/.kaggle/kaggle.json"
      ],
      "metadata": {
        "id": "fwfH9b8D5NwQ"
      },
      "execution_count": null,
      "outputs": []
    },
    {
      "cell_type": "code",
      "source": [
        "! kaggle datasets list"
      ],
      "metadata": {
        "colab": {
          "base_uri": "https://localhost:8080/"
        },
        "id": "dBIV5DHi5Vni",
        "outputId": "0250f3e3-7047-43d0-db4e-c5ed9310aeb4"
      },
      "execution_count": null,
      "outputs": [
        {
          "output_type": "stream",
          "name": "stdout",
          "text": [
            "ref                                                             title                                                size  lastUpdated          downloadCount  voteCount  usabilityRating  \n",
            "--------------------------------------------------------------  --------------------------------------------------  -----  -------------------  -------------  ---------  ---------------  \n",
            "akshaydattatraykhare/diabetes-dataset                           Diabetes Dataset                                      9KB  2022-10-06 08:55:25           5155        171  1.0              \n",
            "vittoriogiatti/bigmacprice                                      Bigmac Prices                                        14KB  2022-10-19 21:11:14           1133         32  1.0              \n",
            "whenamancodes/covid-19-coronavirus-pandemic-dataset             COVID -19 Coronavirus Pandemic Dataset               11KB  2022-09-30 04:05:11           4264        122  1.0              \n",
            "thedevastator/fast-food-restaurants-in-the-united-states        Fast Food Restaurants in the United States            4MB  2022-10-08 17:30:38           1468         41  1.0              \n",
            "whenamancodes/students-performance-in-exams                     Students Performance in Exams                         9KB  2022-09-14 15:14:54           7841        143  1.0              \n",
            "whenamancodes/student-performance                               Student Performance                                 104KB  2022-10-07 05:14:47           5658        133  1.0              \n",
            "anushabellam/cars-cars-2                                        Cars_India_dataset                                    4KB  2022-10-12 06:34:20            874         31  1.0              \n",
            "iamsouravbanerjee/computer-games-dataset                        Computer Games Dataset                               29KB  2022-10-11 14:36:33            617         44  1.0              \n",
            "whenamancodes/flight-delay-prediction                           Flight Delay Prediction                              31MB  2022-10-07 05:26:20           1519         36  0.88235295       \n",
            "narayan63/netflix-popular-movies-dataset                        Netflix popular movies dataset                        1MB  2022-09-24 08:23:22           3777         60  0.9411765        \n",
            "evangower/premier-league-matches-19922022                       Premier League Matches 1992-2022                     78KB  2022-10-03 02:18:33           1394         47  1.0              \n",
            "whenamancodes/alcohol-effects-on-study                          Alcohol Effects On Study                             18KB  2022-09-15 03:21:04           4899         91  1.0              \n",
            "kathuman/housing                                                Housing                                             400KB  2022-09-29 10:21:23            858         27  1.0              \n",
            "whenamancodes/the-global-hunger-index                           The Global Hunger Index                              27KB  2022-09-13 18:18:01           1560         41  1.0              \n",
            "eliasturk/world-happiness-based-on-cpi-20152020                 Happiness and Corruption 2015-2020                   29KB  2022-10-11 22:35:03            927         31  1.0              \n",
            "jfreyberg/spotify-artist-feature-collaboration-network          Spotify Artist Feature Collaboration Network         15MB  2022-10-10 14:11:34            587         33  0.9117647        \n",
            "pantanjali/unemployment-dataset                                 Unemployment dataset                                 17KB  2022-09-08 08:26:10           6752        145  1.0              \n",
            "adnananam/spotify-artist-stats                                  Spotify Artist Stats                                 28KB  2022-09-22 03:22:44           1667         39  1.0              \n",
            "thedevastator/fuel-economy-data-how-efficient-are-today-s-cars  Fuel Economy Data: How Efficient Are Today's Cars?    1MB  2022-10-09 16:47:41            959         31  0.9411765        \n",
            "thedevastator/a-complete-history-of-nobel-prize-winners         Nobel Prize Winners                                   1MB  2022-10-08 00:09:57            848         29  1.0              \n"
          ]
        }
      ]
    },
    {
      "cell_type": "code",
      "source": [
        "! kaggle datasets download -d kmader/skin-cancer-mnist-ham10000"
      ],
      "metadata": {
        "colab": {
          "base_uri": "https://localhost:8080/"
        },
        "id": "rpvss-nn5bor",
        "outputId": "cd88bcda-911a-45ab-83b0-c46fbea756be"
      },
      "execution_count": null,
      "outputs": [
        {
          "output_type": "stream",
          "name": "stdout",
          "text": [
            "Downloading skin-cancer-mnist-ham10000.zip to /content\n",
            "100% 5.19G/5.20G [00:45<00:00, 164MB/s]\n",
            "100% 5.20G/5.20G [00:45<00:00, 124MB/s]\n"
          ]
        }
      ]
    },
    {
      "cell_type": "code",
      "source": [
        "from zipfile import ZipFile\n",
        "\n",
        "file_name=\"/content/skin-cancer-mnist-ham10000.zip\"\n",
        "# opening the zip file in READ mode\n",
        "with ZipFile(file_name, 'r') as zip:\n",
        "\t# printing all the contents of the zip file\n",
        "\t# zip.printdir()\n",
        "\n",
        "\t# extracting all the files\n",
        "\tprint('Extracting all the files now...')\n",
        "\tzip.extractall()\n",
        "\tprint('Done!')"
      ],
      "metadata": {
        "id": "RPrjKvs12BAX",
        "colab": {
          "base_uri": "https://localhost:8080/"
        },
        "outputId": "6c741820-25f7-486b-a86d-34609e6f9c3b"
      },
      "execution_count": null,
      "outputs": [
        {
          "output_type": "stream",
          "name": "stdout",
          "text": [
            "Extracting all the files now...\n",
            "Done!\n"
          ]
        }
      ]
    },
    {
      "cell_type": "code",
      "execution_count": null,
      "metadata": {
        "colab": {
          "base_uri": "https://localhost:8080/",
          "height": 206
        },
        "id": "lnzRzk7e44HL",
        "outputId": "b26ba7b4-be1d-475c-f8c4-b3df33dd4703"
      },
      "outputs": [
        {
          "output_type": "execute_result",
          "data": {
            "text/plain": [
              "     lesion_id      image_id   dx dx_type   age   sex localization\n",
              "0  HAM_0000118  ISIC_0027419  bkl   histo  80.0  male        scalp\n",
              "1  HAM_0000118  ISIC_0025030  bkl   histo  80.0  male        scalp\n",
              "2  HAM_0002730  ISIC_0026769  bkl   histo  80.0  male        scalp\n",
              "3  HAM_0002730  ISIC_0025661  bkl   histo  80.0  male        scalp\n",
              "4  HAM_0001466  ISIC_0031633  bkl   histo  75.0  male          ear"
            ],
            "text/html": [
              "\n",
              "  <div id=\"df-80c8976b-3479-48ae-9ef3-be5d4aa448c0\">\n",
              "    <div class=\"colab-df-container\">\n",
              "      <div>\n",
              "<style scoped>\n",
              "    .dataframe tbody tr th:only-of-type {\n",
              "        vertical-align: middle;\n",
              "    }\n",
              "\n",
              "    .dataframe tbody tr th {\n",
              "        vertical-align: top;\n",
              "    }\n",
              "\n",
              "    .dataframe thead th {\n",
              "        text-align: right;\n",
              "    }\n",
              "</style>\n",
              "<table border=\"1\" class=\"dataframe\">\n",
              "  <thead>\n",
              "    <tr style=\"text-align: right;\">\n",
              "      <th></th>\n",
              "      <th>lesion_id</th>\n",
              "      <th>image_id</th>\n",
              "      <th>dx</th>\n",
              "      <th>dx_type</th>\n",
              "      <th>age</th>\n",
              "      <th>sex</th>\n",
              "      <th>localization</th>\n",
              "    </tr>\n",
              "  </thead>\n",
              "  <tbody>\n",
              "    <tr>\n",
              "      <th>0</th>\n",
              "      <td>HAM_0000118</td>\n",
              "      <td>ISIC_0027419</td>\n",
              "      <td>bkl</td>\n",
              "      <td>histo</td>\n",
              "      <td>80.0</td>\n",
              "      <td>male</td>\n",
              "      <td>scalp</td>\n",
              "    </tr>\n",
              "    <tr>\n",
              "      <th>1</th>\n",
              "      <td>HAM_0000118</td>\n",
              "      <td>ISIC_0025030</td>\n",
              "      <td>bkl</td>\n",
              "      <td>histo</td>\n",
              "      <td>80.0</td>\n",
              "      <td>male</td>\n",
              "      <td>scalp</td>\n",
              "    </tr>\n",
              "    <tr>\n",
              "      <th>2</th>\n",
              "      <td>HAM_0002730</td>\n",
              "      <td>ISIC_0026769</td>\n",
              "      <td>bkl</td>\n",
              "      <td>histo</td>\n",
              "      <td>80.0</td>\n",
              "      <td>male</td>\n",
              "      <td>scalp</td>\n",
              "    </tr>\n",
              "    <tr>\n",
              "      <th>3</th>\n",
              "      <td>HAM_0002730</td>\n",
              "      <td>ISIC_0025661</td>\n",
              "      <td>bkl</td>\n",
              "      <td>histo</td>\n",
              "      <td>80.0</td>\n",
              "      <td>male</td>\n",
              "      <td>scalp</td>\n",
              "    </tr>\n",
              "    <tr>\n",
              "      <th>4</th>\n",
              "      <td>HAM_0001466</td>\n",
              "      <td>ISIC_0031633</td>\n",
              "      <td>bkl</td>\n",
              "      <td>histo</td>\n",
              "      <td>75.0</td>\n",
              "      <td>male</td>\n",
              "      <td>ear</td>\n",
              "    </tr>\n",
              "  </tbody>\n",
              "</table>\n",
              "</div>\n",
              "      <button class=\"colab-df-convert\" onclick=\"convertToInteractive('df-80c8976b-3479-48ae-9ef3-be5d4aa448c0')\"\n",
              "              title=\"Convert this dataframe to an interactive table.\"\n",
              "              style=\"display:none;\">\n",
              "        \n",
              "  <svg xmlns=\"http://www.w3.org/2000/svg\" height=\"24px\"viewBox=\"0 0 24 24\"\n",
              "       width=\"24px\">\n",
              "    <path d=\"M0 0h24v24H0V0z\" fill=\"none\"/>\n",
              "    <path d=\"M18.56 5.44l.94 2.06.94-2.06 2.06-.94-2.06-.94-.94-2.06-.94 2.06-2.06.94zm-11 1L8.5 8.5l.94-2.06 2.06-.94-2.06-.94L8.5 2.5l-.94 2.06-2.06.94zm10 10l.94 2.06.94-2.06 2.06-.94-2.06-.94-.94-2.06-.94 2.06-2.06.94z\"/><path d=\"M17.41 7.96l-1.37-1.37c-.4-.4-.92-.59-1.43-.59-.52 0-1.04.2-1.43.59L10.3 9.45l-7.72 7.72c-.78.78-.78 2.05 0 2.83L4 21.41c.39.39.9.59 1.41.59.51 0 1.02-.2 1.41-.59l7.78-7.78 2.81-2.81c.8-.78.8-2.07 0-2.86zM5.41 20L4 18.59l7.72-7.72 1.47 1.35L5.41 20z\"/>\n",
              "  </svg>\n",
              "      </button>\n",
              "      \n",
              "  <style>\n",
              "    .colab-df-container {\n",
              "      display:flex;\n",
              "      flex-wrap:wrap;\n",
              "      gap: 12px;\n",
              "    }\n",
              "\n",
              "    .colab-df-convert {\n",
              "      background-color: #E8F0FE;\n",
              "      border: none;\n",
              "      border-radius: 50%;\n",
              "      cursor: pointer;\n",
              "      display: none;\n",
              "      fill: #1967D2;\n",
              "      height: 32px;\n",
              "      padding: 0 0 0 0;\n",
              "      width: 32px;\n",
              "    }\n",
              "\n",
              "    .colab-df-convert:hover {\n",
              "      background-color: #E2EBFA;\n",
              "      box-shadow: 0px 1px 2px rgba(60, 64, 67, 0.3), 0px 1px 3px 1px rgba(60, 64, 67, 0.15);\n",
              "      fill: #174EA6;\n",
              "    }\n",
              "\n",
              "    [theme=dark] .colab-df-convert {\n",
              "      background-color: #3B4455;\n",
              "      fill: #D2E3FC;\n",
              "    }\n",
              "\n",
              "    [theme=dark] .colab-df-convert:hover {\n",
              "      background-color: #434B5C;\n",
              "      box-shadow: 0px 1px 3px 1px rgba(0, 0, 0, 0.15);\n",
              "      filter: drop-shadow(0px 1px 2px rgba(0, 0, 0, 0.3));\n",
              "      fill: #FFFFFF;\n",
              "    }\n",
              "  </style>\n",
              "\n",
              "      <script>\n",
              "        const buttonEl =\n",
              "          document.querySelector('#df-80c8976b-3479-48ae-9ef3-be5d4aa448c0 button.colab-df-convert');\n",
              "        buttonEl.style.display =\n",
              "          google.colab.kernel.accessAllowed ? 'block' : 'none';\n",
              "\n",
              "        async function convertToInteractive(key) {\n",
              "          const element = document.querySelector('#df-80c8976b-3479-48ae-9ef3-be5d4aa448c0');\n",
              "          const dataTable =\n",
              "            await google.colab.kernel.invokeFunction('convertToInteractive',\n",
              "                                                     [key], {});\n",
              "          if (!dataTable) return;\n",
              "\n",
              "          const docLinkHtml = 'Like what you see? Visit the ' +\n",
              "            '<a target=\"_blank\" href=https://colab.research.google.com/notebooks/data_table.ipynb>data table notebook</a>'\n",
              "            + ' to learn more about interactive tables.';\n",
              "          element.innerHTML = '';\n",
              "          dataTable['output_type'] = 'display_data';\n",
              "          await google.colab.output.renderOutput(dataTable, element);\n",
              "          const docLink = document.createElement('div');\n",
              "          docLink.innerHTML = docLinkHtml;\n",
              "          element.appendChild(docLink);\n",
              "        }\n",
              "      </script>\n",
              "    </div>\n",
              "  </div>\n",
              "  "
            ]
          },
          "metadata": {},
          "execution_count": 12
        }
      ],
      "source": [
        "data_pd = pd.read_csv('/content/HAM10000_metadata.csv')\n",
        "data_pd.head()"
      ]
    },
    {
      "cell_type": "code",
      "source": [
        "import os\n",
        "os.mkdir('HAM10000')"
      ],
      "metadata": {
        "id": "QAySxU9V_Kbs"
      },
      "execution_count": null,
      "outputs": []
    },
    {
      "cell_type": "code",
      "source": [
        "source_dir=\"/content/HAM10000_images_part_1\"\n",
        "file_names = os.listdir(source_dir)\n",
        "for file_name in file_names:\n",
        "    # print(os.path.join(source_dir, file_name))\n",
        "    shutil.move(os.path.join(source_dir, file_name), \"/content/HAM10000\")\n",
        "\n",
        "source_dir=\"/content/HAM10000_images_part_2\"\n",
        "file_names = os.listdir(source_dir)\n",
        "for file_name in file_names:\n",
        "    # print(os.path.join(source_dir, file_name))\n",
        "    shutil.move(os.path.join(source_dir, file_name), \"/content/HAM10000\")\n"
      ],
      "metadata": {
        "id": "-EOpinGc_5fv"
      },
      "execution_count": null,
      "outputs": []
    },
    {
      "cell_type": "markdown",
      "source": [
        "# read meta"
      ],
      "metadata": {
        "id": "FtfYh-wlJHej"
      }
    },
    {
      "cell_type": "code",
      "source": [
        "metadata_path=\"/content/HAM10000_metadata.csv\"\n",
        "meta = pd.read_csv(metadata_path)\n",
        "meta=meta[:records_count]\n",
        "images = meta['image_id']\n",
        "target = meta['dx']"
      ],
      "metadata": {
        "id": "fTS_QdvSL042"
      },
      "execution_count": null,
      "outputs": []
    },
    {
      "cell_type": "code",
      "source": [
        "meta['sex']=meta['sex'].map({'female': 2, 'male': 1})\n",
        "meta['sex']=meta['sex'].fillna(0)"
      ],
      "metadata": {
        "id": "bwZny2nrStzy"
      },
      "execution_count": null,
      "outputs": []
    },
    {
      "cell_type": "code",
      "source": [
        "meta['dx_type'].count()"
      ],
      "metadata": {
        "id": "Xtlur8UW1an3",
        "outputId": "08fc7266-0620-4917-99fa-7fa7ae8de482",
        "colab": {
          "base_uri": "https://localhost:8080/"
        }
      },
      "execution_count": null,
      "outputs": [
        {
          "output_type": "execute_result",
          "data": {
            "text/plain": [
              "10000"
            ]
          },
          "metadata": {},
          "execution_count": 17
        }
      ]
    },
    {
      "cell_type": "code",
      "source": [
        "meta['age'].count()"
      ],
      "metadata": {
        "id": "LcGWYNaw1rr_",
        "outputId": "476c8603-d6bf-479b-8f1a-4f91fd242b5c",
        "colab": {
          "base_uri": "https://localhost:8080/"
        }
      },
      "execution_count": null,
      "outputs": [
        {
          "output_type": "execute_result",
          "data": {
            "text/plain": [
              "9943"
            ]
          },
          "metadata": {},
          "execution_count": 18
        }
      ]
    },
    {
      "cell_type": "code",
      "source": [
        "meta['age']=meta['age'].fillna(-1)"
      ],
      "metadata": {
        "id": "lQgeJeod14Ts"
      },
      "execution_count": null,
      "outputs": []
    },
    {
      "cell_type": "code",
      "source": [
        "meta['age'].count()"
      ],
      "metadata": {
        "outputId": "8d85c94a-1dc6-47fa-f6a0-ef20a55e24a3",
        "colab": {
          "base_uri": "https://localhost:8080/"
        },
        "id": "RnYWSUoexd_p"
      },
      "execution_count": null,
      "outputs": [
        {
          "output_type": "execute_result",
          "data": {
            "text/plain": [
              "10000"
            ]
          },
          "metadata": {},
          "execution_count": 20
        }
      ]
    },
    {
      "cell_type": "code",
      "source": [
        "will_be_hot=[]\n",
        "for i in meta.columns:\n",
        "  if meta[i].dtypes=='O':\n",
        "    print(i)\n",
        "    will_be_hot.append(i)"
      ],
      "metadata": {
        "colab": {
          "base_uri": "https://localhost:8080/"
        },
        "id": "zQaxI23pTCb6",
        "outputId": "987349a6-ab27-4203-c45b-1376ca55c25e"
      },
      "execution_count": null,
      "outputs": [
        {
          "output_type": "stream",
          "name": "stdout",
          "text": [
            "lesion_id\n",
            "image_id\n",
            "dx\n",
            "dx_type\n",
            "localization\n"
          ]
        }
      ]
    },
    {
      "cell_type": "markdown",
      "source": [
        "#pre-processing"
      ],
      "metadata": {
        "id": "MriVq4rYpEiF"
      }
    },
    {
      "cell_type": "code",
      "source": [
        "for hot in will_be_hot:\n",
        "  if hot==\"image_id\" :\n",
        "    continue\n",
        "  ls=meta[hot].values.tolist()\n",
        "  le = preprocessing.LabelEncoder()\n",
        "  meta[hot] = le.fit_transform(meta[hot]) "
      ],
      "metadata": {
        "id": "5T0VTNqAr1RS"
      },
      "execution_count": null,
      "outputs": []
    },
    {
      "cell_type": "code",
      "source": [
        "# #getting features from images\n",
        "from keras.applications.efficientnet import EfficientNetB4\n",
        "import random as rn\n",
        "import tensorflow as tf\n",
        "import numpy as np\n",
        "from keras import backend as K\n",
        "\n",
        "from keras import applications\n",
        "from keras.applications.efficientnet import EfficientNetB4\n",
        "from keras.models import Sequential\n",
        "from keras.layers import Dense, Dropout, Activation\n",
        "\n",
        "# seed=1   \n",
        "num_cores=1  \n",
        "os.environ['PYTHONHASHSEED'] = '0'                      \n",
        "np.random.seed(seed)\n",
        "rn.seed(seed)\n",
        "tf.random.set_seed(seed)\n",
        "session_conf = tf.compat.v1.ConfigProto(intra_op_parallelism_threads=num_cores,\n",
        "                              inter_op_parallelism_threads=num_cores, \n",
        "                              allow_soft_placement=True,\n",
        "                              device_count = {'CPU' : 1, 'GPU' : 0})\n",
        "sess = tf.compat.v1.Session(graph=tf.compat.v1.get_default_graph(), config=session_conf)\n",
        "K.set_session(sess)\n",
        "\n",
        "#getting features from images\n",
        "model = tf.keras.applications.MobileNetV2(input_shape=(380, 380, 3), include_top=False, weights='imagenet')"
      ],
      "metadata": {
        "id": "lIDJKUQGOI_9",
        "colab": {
          "base_uri": "https://localhost:8080/"
        },
        "outputId": "59c304d2-2c27-4ac5-e41b-d55a3f847cf3"
      },
      "execution_count": null,
      "outputs": [
        {
          "output_type": "stream",
          "name": "stderr",
          "text": [
            "WARNING:tensorflow:`input_shape` is undefined or non-square, or `rows` is not in [96, 128, 160, 192, 224]. Weights for input shape (224, 224) will be loaded as the default.\n"
          ]
        },
        {
          "output_type": "stream",
          "name": "stdout",
          "text": [
            "Downloading data from https://storage.googleapis.com/tensorflow/keras-applications/mobilenet_v2/mobilenet_v2_weights_tf_dim_ordering_tf_kernels_1.0_224_no_top.h5\n",
            "9406464/9406464 [==============================] - 0s 0us/step\n"
          ]
        }
      ]
    },
    {
      "cell_type": "code",
      "source": [
        "from tqdm import tqdm\n",
        "for indx,i in enumerate(tqdm(meta['image_id'][:5000])):\n",
        "    path=os.path.join(\"/content/HAM10000/\",i)\n",
        "    image=tf.keras.utils.load_img(path+'.jpg',target_size=(380,380))\n",
        "    input_arr = tf.keras.preprocessing.image.img_to_array(image)\n",
        "    input_arr = cv2.cvtColor(input_arr,cv2.COLOR_BGR2RGB)\n",
        "    input_arr=np.array([input_arr])\n",
        "    input_arr=input_arr/255\n",
        "    features=model.predict(input_arr)\n",
        "    nx, ny,_ = features[0].shape\n",
        "    d2_train_dataset = features[0].reshape(nx*ny*_)\n",
        "    meta['image_id'][indx]=d2_train_dataset"
      ],
      "metadata": {
        "id": "zoV9VIyNpklF"
      },
      "execution_count": null,
      "outputs": []
    },
    {
      "cell_type": "code",
      "source": [
        "from tqdm import tqdm\n",
        "for indx,i in enumerate(tqdm(meta['image_id'][5000:])):\n",
        "    path=os.path.join(\"/content/HAM10000/\",i)\n",
        "    image=tf.keras.utils.load_img(path+'.jpg',target_size=(380,380))\n",
        "    input_arr = tf.keras.preprocessing.image.img_to_array(image)\n",
        "    input_arr = cv2.cvtColor(input_arr,cv2.COLOR_BGR2RGB)\n",
        "    input_arr=np.array([input_arr])\n",
        "    input_arr=input_arr/255\n",
        "    features=model.predict(input_arr)\n",
        "    nx, ny,_ = features[0].shape\n",
        "    d2_train_dataset = features[0].reshape(nx*ny*_)\n",
        "    meta['image_id'][indx]=d2_train_dataset"
      ],
      "metadata": {
        "id": "AhrDVTKjzqgl"
      },
      "execution_count": null,
      "outputs": []
    },
    {
      "cell_type": "code",
      "source": [
        "type(i)==int"
      ],
      "metadata": {
        "id": "JeRelAwa4lMi",
        "outputId": "0a94d42f-8954-4154-862f-92be9c394d70",
        "colab": {
          "base_uri": "https://localhost:8080/"
        }
      },
      "execution_count": null,
      "outputs": [
        {
          "output_type": "execute_result",
          "data": {
            "text/plain": [
              "False"
            ]
          },
          "metadata": {},
          "execution_count": 26
        }
      ]
    },
    {
      "cell_type": "code",
      "source": [
        "for indx,i in enumerate(tqdm(meta['image_id'])):\n",
        "    if type(i)==str:\n",
        "      path=os.path.join(\"/content/HAM10000/\",i)\n",
        "      image=tf.keras.utils.load_img(path+'.jpg',target_size=(380,380))\n",
        "      input_arr = tf.keras.preprocessing.image.img_to_array(image)\n",
        "      input_arr = cv2.cvtColor(input_arr,cv2.COLOR_BGR2RGB)\n",
        "      input_arr=np.array([input_arr])\n",
        "      input_arr=input_arr/255\n",
        "      features=model.predict(input_arr)\n",
        "      nx, ny,_ = features[0].shape\n",
        "      d2_train_dataset = features[0].reshape(nx*ny*_)\n",
        "      meta['image_id'][indx]=d2_train_dataset\n",
        "      "
      ],
      "metadata": {
        "id": "OXjqaPP64drM"
      },
      "execution_count": null,
      "outputs": []
    },
    {
      "cell_type": "markdown",
      "source": [
        "#split data"
      ],
      "metadata": {
        "id": "SH4i9YhcJlUR"
      }
    },
    {
      "cell_type": "code",
      "source": [
        "train,test0=train_test_split(meta,test_size=0.2,random_state=seed)\n",
        "valid,test=train_test_split(test0,test_size=0.5,random_state=seed)"
      ],
      "metadata": {
        "id": "CZJ_JBEuTJ3t"
      },
      "execution_count": null,
      "outputs": []
    },
    {
      "cell_type": "code",
      "source": [
        "train['image_id'].shape"
      ],
      "metadata": {
        "id": "5EsQDoWRxS-4",
        "outputId": "27a425c8-9962-4385-ad96-9deb7752f017",
        "colab": {
          "base_uri": "https://localhost:8080/"
        }
      },
      "execution_count": null,
      "outputs": [
        {
          "output_type": "execute_result",
          "data": {
            "text/plain": [
              "(8000,)"
            ]
          },
          "metadata": {},
          "execution_count": 29
        }
      ]
    },
    {
      "cell_type": "code",
      "source": [
        "meta[:records_count]['dx'].unique()"
      ],
      "metadata": {
        "id": "KkGPVwpjBc-i",
        "outputId": "08e536fb-e409-4db4-9895-d63e1cd7e5ca",
        "colab": {
          "base_uri": "https://localhost:8080/"
        }
      },
      "execution_count": null,
      "outputs": [
        {
          "output_type": "execute_result",
          "data": {
            "text/plain": [
              "array([2, 5, 3, 4, 6, 1, 0])"
            ]
          },
          "metadata": {},
          "execution_count": 30
        }
      ]
    },
    {
      "cell_type": "code",
      "source": [
        "meta['dx'].unique()"
      ],
      "metadata": {
        "id": "0c7bFagWBnOm",
        "outputId": "20ff78fd-5c07-4771-dfba-3d2cf8bcab0e",
        "colab": {
          "base_uri": "https://localhost:8080/"
        }
      },
      "execution_count": null,
      "outputs": [
        {
          "output_type": "execute_result",
          "data": {
            "text/plain": [
              "array([2, 5, 3, 4, 6, 1, 0])"
            ]
          },
          "metadata": {},
          "execution_count": 31
        }
      ]
    },
    {
      "cell_type": "code",
      "source": [
        "imgF=[]\n",
        "for indx in train.index:\n",
        "  imgF.append(train['image_id'][indx])\n",
        "imgF_tst=[]\n",
        "for indx in test.index:\n",
        "  imgF_tst.append(test['image_id'][indx])"
      ],
      "metadata": {
        "id": "HOyoKBD8QE2v"
      },
      "execution_count": null,
      "outputs": []
    },
    {
      "cell_type": "code",
      "source": [
        "imgF_valid=[]\n",
        "for indx in valid.index:\n",
        "  imgF_valid.append(valid['image_id'][indx])"
      ],
      "metadata": {
        "id": "7KC8xBT6EFlt"
      },
      "execution_count": null,
      "outputs": []
    },
    {
      "cell_type": "code",
      "source": [
        "target=train['dx']\n",
        "x=train.drop(['dx','image_id'],axis=1)\n",
        "\n",
        "target_test=test['dx']\n",
        "x_test=test.drop(['dx','image_id'],axis=1)"
      ],
      "metadata": {
        "id": "7X8uL8L4z0k4"
      },
      "execution_count": null,
      "outputs": []
    },
    {
      "cell_type": "code",
      "source": [
        "target_valid=valid['dx']\n",
        "x_valid=valid.drop(['dx','image_id'],axis=1)"
      ],
      "metadata": {
        "id": "C7EJ0T3ZETem"
      },
      "execution_count": null,
      "outputs": []
    },
    {
      "cell_type": "code",
      "source": [
        "np.unique(target)"
      ],
      "metadata": {
        "id": "mK5N_YOYdI2e",
        "outputId": "189fdeb1-2b15-4c21-c0ed-60d4b90d3425",
        "colab": {
          "base_uri": "https://localhost:8080/"
        }
      },
      "execution_count": null,
      "outputs": [
        {
          "output_type": "execute_result",
          "data": {
            "text/plain": [
              "array([0, 1, 2, 3, 4, 5, 6])"
            ]
          },
          "metadata": {},
          "execution_count": 37
        }
      ]
    },
    {
      "cell_type": "code",
      "source": [
        "from sklearn.ensemble import RandomForestClassifier\n",
        "from sklearn.linear_model import LogisticRegression\n",
        "from sklearn.linear_model import SGDClassifier\n",
        "\n",
        "meta_clf = RandomForestClassifier(random_state=seed)\n",
        "img_clf = LogisticRegression(random_state=seed,warm_start=True)\n",
        "img_clf.fit(imgF[1000:2000], target[1000:2000])\n",
        "img_clf.fit(imgF[2000:3000], target[2000:3000])\n",
        "img_clf.fit(imgF[3000:4000], target[3000:4000])\n",
        "img_clf.fit(imgF[4000:5000], target[4000:5000])\n",
        "img_clf.fit(imgF[5000:6000], target[5000:6000])"
      ],
      "metadata": {
        "id": "0jbQaWJM3cnn",
        "colab": {
          "base_uri": "https://localhost:8080/"
        },
        "outputId": "4c3eec79-c235-4401-fd2b-07de0053c901"
      },
      "execution_count": null,
      "outputs": [
        {
          "output_type": "stream",
          "name": "stderr",
          "text": [
            "/usr/local/lib/python3.7/dist-packages/sklearn/linear_model/_logistic.py:818: ConvergenceWarning: lbfgs failed to converge (status=1):\n",
            "STOP: TOTAL NO. of ITERATIONS REACHED LIMIT.\n",
            "\n",
            "Increase the number of iterations (max_iter) or scale the data as shown in:\n",
            "    https://scikit-learn.org/stable/modules/preprocessing.html\n",
            "Please also refer to the documentation for alternative solver options:\n",
            "    https://scikit-learn.org/stable/modules/linear_model.html#logistic-regression\n",
            "  extra_warning_msg=_LOGISTIC_SOLVER_CONVERGENCE_MSG,\n",
            "/usr/local/lib/python3.7/dist-packages/sklearn/linear_model/_logistic.py:818: ConvergenceWarning: lbfgs failed to converge (status=1):\n",
            "STOP: TOTAL NO. of ITERATIONS REACHED LIMIT.\n",
            "\n",
            "Increase the number of iterations (max_iter) or scale the data as shown in:\n",
            "    https://scikit-learn.org/stable/modules/preprocessing.html\n",
            "Please also refer to the documentation for alternative solver options:\n",
            "    https://scikit-learn.org/stable/modules/linear_model.html#logistic-regression\n",
            "  extra_warning_msg=_LOGISTIC_SOLVER_CONVERGENCE_MSG,\n",
            "/usr/local/lib/python3.7/dist-packages/sklearn/linear_model/_logistic.py:818: ConvergenceWarning: lbfgs failed to converge (status=1):\n",
            "STOP: TOTAL NO. of ITERATIONS REACHED LIMIT.\n",
            "\n",
            "Increase the number of iterations (max_iter) or scale the data as shown in:\n",
            "    https://scikit-learn.org/stable/modules/preprocessing.html\n",
            "Please also refer to the documentation for alternative solver options:\n",
            "    https://scikit-learn.org/stable/modules/linear_model.html#logistic-regression\n",
            "  extra_warning_msg=_LOGISTIC_SOLVER_CONVERGENCE_MSG,\n",
            "/usr/local/lib/python3.7/dist-packages/sklearn/linear_model/_logistic.py:818: ConvergenceWarning: lbfgs failed to converge (status=1):\n",
            "STOP: TOTAL NO. of ITERATIONS REACHED LIMIT.\n",
            "\n",
            "Increase the number of iterations (max_iter) or scale the data as shown in:\n",
            "    https://scikit-learn.org/stable/modules/preprocessing.html\n",
            "Please also refer to the documentation for alternative solver options:\n",
            "    https://scikit-learn.org/stable/modules/linear_model.html#logistic-regression\n",
            "  extra_warning_msg=_LOGISTIC_SOLVER_CONVERGENCE_MSG,\n",
            "/usr/local/lib/python3.7/dist-packages/sklearn/linear_model/_logistic.py:818: ConvergenceWarning: lbfgs failed to converge (status=1):\n",
            "STOP: TOTAL NO. of ITERATIONS REACHED LIMIT.\n",
            "\n",
            "Increase the number of iterations (max_iter) or scale the data as shown in:\n",
            "    https://scikit-learn.org/stable/modules/preprocessing.html\n",
            "Please also refer to the documentation for alternative solver options:\n",
            "    https://scikit-learn.org/stable/modules/linear_model.html#logistic-regression\n",
            "  extra_warning_msg=_LOGISTIC_SOLVER_CONVERGENCE_MSG,\n"
          ]
        },
        {
          "output_type": "execute_result",
          "data": {
            "text/plain": [
              "LogisticRegression(random_state=101, warm_start=True)"
            ]
          },
          "metadata": {},
          "execution_count": 39
        }
      ]
    },
    {
      "cell_type": "code",
      "source": [
        "img_clf.fit(imgF[:1000], target[:1000])\n",
        "img_clf.fit(imgF[6000:7000], target[6000:7000])\n",
        "img_clf.fit(imgF[7000:8000], target[7000:8000])"
      ],
      "metadata": {
        "id": "thKjzFankSFV",
        "outputId": "90b82f13-fe9c-4be3-9ea5-7fc470f4ccd4",
        "colab": {
          "base_uri": "https://localhost:8080/"
        }
      },
      "execution_count": null,
      "outputs": [
        {
          "output_type": "stream",
          "name": "stderr",
          "text": [
            "/usr/local/lib/python3.7/dist-packages/sklearn/linear_model/_logistic.py:818: ConvergenceWarning: lbfgs failed to converge (status=1):\n",
            "STOP: TOTAL NO. of ITERATIONS REACHED LIMIT.\n",
            "\n",
            "Increase the number of iterations (max_iter) or scale the data as shown in:\n",
            "    https://scikit-learn.org/stable/modules/preprocessing.html\n",
            "Please also refer to the documentation for alternative solver options:\n",
            "    https://scikit-learn.org/stable/modules/linear_model.html#logistic-regression\n",
            "  extra_warning_msg=_LOGISTIC_SOLVER_CONVERGENCE_MSG,\n",
            "/usr/local/lib/python3.7/dist-packages/sklearn/linear_model/_logistic.py:818: ConvergenceWarning: lbfgs failed to converge (status=1):\n",
            "STOP: TOTAL NO. of ITERATIONS REACHED LIMIT.\n",
            "\n",
            "Increase the number of iterations (max_iter) or scale the data as shown in:\n",
            "    https://scikit-learn.org/stable/modules/preprocessing.html\n",
            "Please also refer to the documentation for alternative solver options:\n",
            "    https://scikit-learn.org/stable/modules/linear_model.html#logistic-regression\n",
            "  extra_warning_msg=_LOGISTIC_SOLVER_CONVERGENCE_MSG,\n",
            "/usr/local/lib/python3.7/dist-packages/sklearn/linear_model/_logistic.py:818: ConvergenceWarning: lbfgs failed to converge (status=1):\n",
            "STOP: TOTAL NO. of ITERATIONS REACHED LIMIT.\n",
            "\n",
            "Increase the number of iterations (max_iter) or scale the data as shown in:\n",
            "    https://scikit-learn.org/stable/modules/preprocessing.html\n",
            "Please also refer to the documentation for alternative solver options:\n",
            "    https://scikit-learn.org/stable/modules/linear_model.html#logistic-regression\n",
            "  extra_warning_msg=_LOGISTIC_SOLVER_CONVERGENCE_MSG,\n"
          ]
        },
        {
          "output_type": "execute_result",
          "data": {
            "text/plain": [
              "LogisticRegression(random_state=101, warm_start=True)"
            ]
          },
          "metadata": {},
          "execution_count": 40
        }
      ]
    },
    {
      "cell_type": "code",
      "source": [
        "meta_clf.fit(x, target)"
      ],
      "metadata": {
        "id": "P3j4Aabw7RrE",
        "outputId": "cafecd1f-1da4-404f-a45a-63a9333f3a21",
        "colab": {
          "base_uri": "https://localhost:8080/"
        }
      },
      "execution_count": null,
      "outputs": [
        {
          "output_type": "execute_result",
          "data": {
            "text/plain": [
              "RandomForestClassifier(random_state=101)"
            ]
          },
          "metadata": {},
          "execution_count": 41
        }
      ]
    },
    {
      "cell_type": "code",
      "source": [
        "import numpy as np\n",
        "from sklearn import metrics\n",
        "import matplotlib.pyplot as plt\n",
        "from sklearn.preprocessing import LabelBinarizer\n",
        "import seaborn as sns\n",
        "\n",
        "def multiclass_roc_auc_score(y_test, y_pred, average=\"weighted\"):\n",
        "        lb = LabelBinarizer()\n",
        "        lb.fit(y_test)\n",
        "        y_test = lb.transform(y_test)\n",
        "        y_pred = lb.transform(y_pred)\n",
        "\n",
        "        return  metrics.accuracy_score(y_test,y_pred)\n",
        "        # return metrics.roc_auc_score(y_test, y_pred, average=average)"
      ],
      "metadata": {
        "id": "eRuzKwf8Xcxw"
      },
      "execution_count": null,
      "outputs": []
    },
    {
      "cell_type": "markdown",
      "source": [
        "#meta + image in one model"
      ],
      "metadata": {
        "id": "lErH-F2YZQDe"
      }
    },
    {
      "cell_type": "code",
      "source": [
        "predicted_img_labels_tst = img_clf.predict_proba(imgF_tst)\n",
        "predicted_meta_labels_tst = meta_clf.predict_proba(x_test)"
      ],
      "metadata": {
        "id": "pSYE0lZ-DclU"
      },
      "execution_count": null,
      "outputs": []
    },
    {
      "cell_type": "code",
      "source": [
        "predicted_img_labels_valid = img_clf.predict_proba(imgF_valid)\n",
        "predicted_meta_labels_valid = meta_clf.predict_proba(x_valid)"
      ],
      "metadata": {
        "id": "nzImJvPVEhds"
      },
      "execution_count": null,
      "outputs": []
    },
    {
      "cell_type": "code",
      "source": [
        "# pre_img=[]\n",
        "# for i in predicted_img_labels_valid:\n",
        "#   pre_img.append(np.argmax(i))\n",
        "# pre_meta=[]\n",
        "# for i in predicted_meta_labels_valid:\n",
        "#   pre_meta.append(np.argmax(i))\n",
        "\n",
        "pre_img=[]\n",
        "for i in predicted_img_labels_tst:\n",
        "  pre_img.append(np.argmax(i))\n",
        "pre_meta=[]\n",
        "for i in predicted_meta_labels_tst:\n",
        "  pre_meta.append(np.argmax(i))"
      ],
      "metadata": {
        "id": "qVBDJ7JIiKb5"
      },
      "execution_count": null,
      "outputs": []
    },
    {
      "cell_type": "code",
      "source": [
        "print('img',multiclass_roc_auc_score(pre_img,target_test)*100)\n",
        "print('meta',multiclass_roc_auc_score(pre_meta,target_test)*100)"
      ],
      "metadata": {
        "id": "x2pwx5Pt_ZrX",
        "outputId": "f8884671-6eee-46e7-fca0-c106af2f26af",
        "colab": {
          "base_uri": "https://localhost:8080/"
        }
      },
      "execution_count": null,
      "outputs": [
        {
          "output_type": "stream",
          "name": "stdout",
          "text": [
            "img 48.699999999999996\n",
            "meta 87.0\n"
          ]
        }
      ]
    },
    {
      "cell_type": "code",
      "source": [
        "from sklearn.metrics import precision_score, recall_score, f1_score\n",
        "print(\"Precision_score: \",precision_score(pre_img,target_test, average='weighted')*100)\n",
        "print(\"Recall_score: \",recall_score(pre_img,target_test, average='weighted')*100)\n",
        "print(\"F1_score: \",f1_score(pre_img,target_test, average='weighted')*100)"
      ],
      "metadata": {
        "id": "R42BqBmQakcW",
        "outputId": "159594f7-020e-4619-9c72-118fe3a6d7a4",
        "colab": {
          "base_uri": "https://localhost:8080/"
        }
      },
      "execution_count": null,
      "outputs": [
        {
          "output_type": "stream",
          "name": "stdout",
          "text": [
            "Precision_score:  51.798240496717526\n",
            "Recall_score:  48.699999999999996\n",
            "F1_score:  50.09122344037632\n"
          ]
        }
      ]
    },
    {
      "cell_type": "code",
      "source": [
        "from sklearn.metrics import precision_score, recall_score, f1_score\n",
        "print(\"Precision_score: \",precision_score(pre_meta,target_test, average='weighted')*100)\n",
        "print(\"Recall_score: \",recall_score(pre_meta,target_test, average='weighted')*100)\n",
        "print(\"F1_score: \",f1_score(pre_meta,target_test, average='weighted')*100)"
      ],
      "metadata": {
        "id": "pydemIBSal80",
        "outputId": "82f9d739-cf64-4b83-fd69-0b5511caeb78",
        "colab": {
          "base_uri": "https://localhost:8080/"
        }
      },
      "execution_count": null,
      "outputs": [
        {
          "output_type": "stream",
          "name": "stdout",
          "text": [
            "Precision_score:  87.57942643751657\n",
            "Recall_score:  87.0\n",
            "F1_score:  87.17564540382831\n"
          ]
        }
      ]
    },
    {
      "cell_type": "code",
      "source": [
        "all_x=[]\n",
        "all_im=[]\n",
        "all_y=[]\n",
        "for i in range(len(predicted_meta_labels_valid)):\n",
        "  all_x.append(predicted_meta_labels_valid[i])\n",
        "  all_im.append(predicted_img_labels_valid[i])\n",
        "  all_y.append(target_valid.iloc[i])\n",
        "\n",
        "  \n",
        "  all_x.append(predicted_meta_labels_tst[i])\n",
        "  all_im.append(predicted_img_labels_tst[i])\n",
        "  all_y.append(target_test.iloc[i])"
      ],
      "metadata": {
        "id": "1kti0Ihw4UiN"
      },
      "execution_count": null,
      "outputs": []
    },
    {
      "cell_type": "code",
      "source": [
        "# df = pd.DataFrame(lst)\n",
        "dict = {'meta': all_x, 'image': all_im, 'label': all_y} \n",
        "df = pd.DataFrame(dict)"
      ],
      "metadata": {
        "id": "tbV_QqmwJxZQ"
      },
      "execution_count": null,
      "outputs": []
    },
    {
      "cell_type": "code",
      "source": [
        "df"
      ],
      "metadata": {
        "id": "oeHFFjSfLGnQ",
        "outputId": "65c34c66-f6e9-4ea7-e006-768535de4cc1",
        "colab": {
          "base_uri": "https://localhost:8080/",
          "height": 424
        }
      },
      "execution_count": null,
      "outputs": [
        {
          "output_type": "execute_result",
          "data": {
            "text/plain": [
              "                                        meta  \\\n",
              "0     [0.01, 0.03, 0.0, 0.0, 0.3, 0.66, 0.0]   \n",
              "1      [0.0, 0.0, 0.0, 0.01, 0.3, 0.69, 0.0]   \n",
              "2     [0.0, 0.01, 0.0, 0.0, 0.01, 0.98, 0.0]   \n",
              "3     [0.0, 0.34, 0.65, 0.0, 0.01, 0.0, 0.0]   \n",
              "4      [0.0, 0.0, 0.9, 0.0, 0.03, 0.07, 0.0]   \n",
              "...                                      ...   \n",
              "1995     [0.0, 0.0, 0.0, 0.0, 0.0, 1.0, 0.0]   \n",
              "1996     [0.0, 0.0, 0.0, 0.0, 0.0, 1.0, 0.0]   \n",
              "1997   [0.0, 0.0, 0.0, 0.0, 0.04, 0.96, 0.0]   \n",
              "1998     [0.0, 0.0, 0.0, 0.0, 0.0, 1.0, 0.0]   \n",
              "1999  [0.0, 0.0, 0.0, 0.0, 0.85, 0.01, 0.14]   \n",
              "\n",
              "                                                  image  label  \n",
              "0     [8.672333626821304e-12, 4.134649027206074e-14,...      5  \n",
              "1     [3.336301682963103e-17, 3.200665658747231e-10,...      5  \n",
              "2     [5.164703419762506e-10, 9.157586944524229e-06,...      5  \n",
              "3     [4.2013930856785045e-17, 1.5840299656967075e-2...      2  \n",
              "4     [5.617496013267208e-17, 1.0231953826053212e-09...      2  \n",
              "...                                                 ...    ...  \n",
              "1995  [6.358985908930893e-11, 0.07964209652581931, 0...      5  \n",
              "1996  [1.0226580195083473e-10, 4.441811155761645e-09...      5  \n",
              "1997  [8.29443100928913e-14, 0.006884381145093782, 8...      5  \n",
              "1998  [0.10756629059514798, 0.21300263759519306, 8.1...      5  \n",
              "1999  [3.809190985793171e-23, 8.283773709900512e-17,...      4  \n",
              "\n",
              "[2000 rows x 3 columns]"
            ],
            "text/html": [
              "\n",
              "  <div id=\"df-f1807970-3488-48ab-a787-bd911f024548\">\n",
              "    <div class=\"colab-df-container\">\n",
              "      <div>\n",
              "<style scoped>\n",
              "    .dataframe tbody tr th:only-of-type {\n",
              "        vertical-align: middle;\n",
              "    }\n",
              "\n",
              "    .dataframe tbody tr th {\n",
              "        vertical-align: top;\n",
              "    }\n",
              "\n",
              "    .dataframe thead th {\n",
              "        text-align: right;\n",
              "    }\n",
              "</style>\n",
              "<table border=\"1\" class=\"dataframe\">\n",
              "  <thead>\n",
              "    <tr style=\"text-align: right;\">\n",
              "      <th></th>\n",
              "      <th>meta</th>\n",
              "      <th>image</th>\n",
              "      <th>label</th>\n",
              "    </tr>\n",
              "  </thead>\n",
              "  <tbody>\n",
              "    <tr>\n",
              "      <th>0</th>\n",
              "      <td>[0.01, 0.03, 0.0, 0.0, 0.3, 0.66, 0.0]</td>\n",
              "      <td>[8.672333626821304e-12, 4.134649027206074e-14,...</td>\n",
              "      <td>5</td>\n",
              "    </tr>\n",
              "    <tr>\n",
              "      <th>1</th>\n",
              "      <td>[0.0, 0.0, 0.0, 0.01, 0.3, 0.69, 0.0]</td>\n",
              "      <td>[3.336301682963103e-17, 3.200665658747231e-10,...</td>\n",
              "      <td>5</td>\n",
              "    </tr>\n",
              "    <tr>\n",
              "      <th>2</th>\n",
              "      <td>[0.0, 0.01, 0.0, 0.0, 0.01, 0.98, 0.0]</td>\n",
              "      <td>[5.164703419762506e-10, 9.157586944524229e-06,...</td>\n",
              "      <td>5</td>\n",
              "    </tr>\n",
              "    <tr>\n",
              "      <th>3</th>\n",
              "      <td>[0.0, 0.34, 0.65, 0.0, 0.01, 0.0, 0.0]</td>\n",
              "      <td>[4.2013930856785045e-17, 1.5840299656967075e-2...</td>\n",
              "      <td>2</td>\n",
              "    </tr>\n",
              "    <tr>\n",
              "      <th>4</th>\n",
              "      <td>[0.0, 0.0, 0.9, 0.0, 0.03, 0.07, 0.0]</td>\n",
              "      <td>[5.617496013267208e-17, 1.0231953826053212e-09...</td>\n",
              "      <td>2</td>\n",
              "    </tr>\n",
              "    <tr>\n",
              "      <th>...</th>\n",
              "      <td>...</td>\n",
              "      <td>...</td>\n",
              "      <td>...</td>\n",
              "    </tr>\n",
              "    <tr>\n",
              "      <th>1995</th>\n",
              "      <td>[0.0, 0.0, 0.0, 0.0, 0.0, 1.0, 0.0]</td>\n",
              "      <td>[6.358985908930893e-11, 0.07964209652581931, 0...</td>\n",
              "      <td>5</td>\n",
              "    </tr>\n",
              "    <tr>\n",
              "      <th>1996</th>\n",
              "      <td>[0.0, 0.0, 0.0, 0.0, 0.0, 1.0, 0.0]</td>\n",
              "      <td>[1.0226580195083473e-10, 4.441811155761645e-09...</td>\n",
              "      <td>5</td>\n",
              "    </tr>\n",
              "    <tr>\n",
              "      <th>1997</th>\n",
              "      <td>[0.0, 0.0, 0.0, 0.0, 0.04, 0.96, 0.0]</td>\n",
              "      <td>[8.29443100928913e-14, 0.006884381145093782, 8...</td>\n",
              "      <td>5</td>\n",
              "    </tr>\n",
              "    <tr>\n",
              "      <th>1998</th>\n",
              "      <td>[0.0, 0.0, 0.0, 0.0, 0.0, 1.0, 0.0]</td>\n",
              "      <td>[0.10756629059514798, 0.21300263759519306, 8.1...</td>\n",
              "      <td>5</td>\n",
              "    </tr>\n",
              "    <tr>\n",
              "      <th>1999</th>\n",
              "      <td>[0.0, 0.0, 0.0, 0.0, 0.85, 0.01, 0.14]</td>\n",
              "      <td>[3.809190985793171e-23, 8.283773709900512e-17,...</td>\n",
              "      <td>4</td>\n",
              "    </tr>\n",
              "  </tbody>\n",
              "</table>\n",
              "<p>2000 rows × 3 columns</p>\n",
              "</div>\n",
              "      <button class=\"colab-df-convert\" onclick=\"convertToInteractive('df-f1807970-3488-48ab-a787-bd911f024548')\"\n",
              "              title=\"Convert this dataframe to an interactive table.\"\n",
              "              style=\"display:none;\">\n",
              "        \n",
              "  <svg xmlns=\"http://www.w3.org/2000/svg\" height=\"24px\"viewBox=\"0 0 24 24\"\n",
              "       width=\"24px\">\n",
              "    <path d=\"M0 0h24v24H0V0z\" fill=\"none\"/>\n",
              "    <path d=\"M18.56 5.44l.94 2.06.94-2.06 2.06-.94-2.06-.94-.94-2.06-.94 2.06-2.06.94zm-11 1L8.5 8.5l.94-2.06 2.06-.94-2.06-.94L8.5 2.5l-.94 2.06-2.06.94zm10 10l.94 2.06.94-2.06 2.06-.94-2.06-.94-.94-2.06-.94 2.06-2.06.94z\"/><path d=\"M17.41 7.96l-1.37-1.37c-.4-.4-.92-.59-1.43-.59-.52 0-1.04.2-1.43.59L10.3 9.45l-7.72 7.72c-.78.78-.78 2.05 0 2.83L4 21.41c.39.39.9.59 1.41.59.51 0 1.02-.2 1.41-.59l7.78-7.78 2.81-2.81c.8-.78.8-2.07 0-2.86zM5.41 20L4 18.59l7.72-7.72 1.47 1.35L5.41 20z\"/>\n",
              "  </svg>\n",
              "      </button>\n",
              "      \n",
              "  <style>\n",
              "    .colab-df-container {\n",
              "      display:flex;\n",
              "      flex-wrap:wrap;\n",
              "      gap: 12px;\n",
              "    }\n",
              "\n",
              "    .colab-df-convert {\n",
              "      background-color: #E8F0FE;\n",
              "      border: none;\n",
              "      border-radius: 50%;\n",
              "      cursor: pointer;\n",
              "      display: none;\n",
              "      fill: #1967D2;\n",
              "      height: 32px;\n",
              "      padding: 0 0 0 0;\n",
              "      width: 32px;\n",
              "    }\n",
              "\n",
              "    .colab-df-convert:hover {\n",
              "      background-color: #E2EBFA;\n",
              "      box-shadow: 0px 1px 2px rgba(60, 64, 67, 0.3), 0px 1px 3px 1px rgba(60, 64, 67, 0.15);\n",
              "      fill: #174EA6;\n",
              "    }\n",
              "\n",
              "    [theme=dark] .colab-df-convert {\n",
              "      background-color: #3B4455;\n",
              "      fill: #D2E3FC;\n",
              "    }\n",
              "\n",
              "    [theme=dark] .colab-df-convert:hover {\n",
              "      background-color: #434B5C;\n",
              "      box-shadow: 0px 1px 3px 1px rgba(0, 0, 0, 0.15);\n",
              "      filter: drop-shadow(0px 1px 2px rgba(0, 0, 0, 0.3));\n",
              "      fill: #FFFFFF;\n",
              "    }\n",
              "  </style>\n",
              "\n",
              "      <script>\n",
              "        const buttonEl =\n",
              "          document.querySelector('#df-f1807970-3488-48ab-a787-bd911f024548 button.colab-df-convert');\n",
              "        buttonEl.style.display =\n",
              "          google.colab.kernel.accessAllowed ? 'block' : 'none';\n",
              "\n",
              "        async function convertToInteractive(key) {\n",
              "          const element = document.querySelector('#df-f1807970-3488-48ab-a787-bd911f024548');\n",
              "          const dataTable =\n",
              "            await google.colab.kernel.invokeFunction('convertToInteractive',\n",
              "                                                     [key], {});\n",
              "          if (!dataTable) return;\n",
              "\n",
              "          const docLinkHtml = 'Like what you see? Visit the ' +\n",
              "            '<a target=\"_blank\" href=https://colab.research.google.com/notebooks/data_table.ipynb>data table notebook</a>'\n",
              "            + ' to learn more about interactive tables.';\n",
              "          element.innerHTML = '';\n",
              "          dataTable['output_type'] = 'display_data';\n",
              "          await google.colab.output.renderOutput(dataTable, element);\n",
              "          const docLink = document.createElement('div');\n",
              "          docLink.innerHTML = docLinkHtml;\n",
              "          element.appendChild(docLink);\n",
              "        }\n",
              "      </script>\n",
              "    </div>\n",
              "  </div>\n",
              "  "
            ]
          },
          "metadata": {},
          "execution_count": 51
        }
      ]
    },
    {
      "cell_type": "code",
      "source": [
        "train,test0=train_test_split(df,test_size=0.2,random_state=seed)\n",
        "test,valid=train_test_split(test0,test_size=0.5,random_state=seed)"
      ],
      "metadata": {
        "id": "0PF-MXQC5PSa"
      },
      "execution_count": null,
      "outputs": []
    },
    {
      "cell_type": "code",
      "source": [
        "x_train=train.drop(['label'],axis=1)\n",
        "y_train=train['label']\n",
        "x_test=test.drop(['label'],axis=1)\n",
        "y_test=test['label']\n",
        "x_valid=valid.drop(['label'],axis=1)\n",
        "y_valid=valid['label']"
      ],
      "metadata": {
        "id": "OulcbS8m4252"
      },
      "execution_count": null,
      "outputs": []
    },
    {
      "cell_type": "code",
      "source": [
        "np.array(x_train['meta'].tolist())"
      ],
      "metadata": {
        "id": "2dOsGTDx4Ghy",
        "outputId": "4ee0fdba-6be8-41af-b34b-da089dc4f741",
        "colab": {
          "base_uri": "https://localhost:8080/"
        }
      },
      "execution_count": null,
      "outputs": [
        {
          "output_type": "execute_result",
          "data": {
            "text/plain": [
              "array([[0.16, 0.01, 0.17, ..., 0.12, 0.54, 0.  ],\n",
              "       [0.  , 0.  , 0.  , ..., 0.  , 1.  , 0.  ],\n",
              "       [0.  , 0.  , 0.85, ..., 0.  , 0.09, 0.05],\n",
              "       ...,\n",
              "       [0.  , 0.  , 0.  , ..., 0.  , 1.  , 0.  ],\n",
              "       [0.  , 0.  , 0.  , ..., 0.  , 1.  , 0.  ],\n",
              "       [0.04, 0.  , 0.37, ..., 0.47, 0.11, 0.  ]])"
            ]
          },
          "metadata": {},
          "execution_count": 54
        }
      ]
    },
    {
      "cell_type": "code",
      "source": [
        "y_train"
      ],
      "metadata": {
        "id": "L0iCcrg84KRt",
        "outputId": "cbd04789-6e5a-4c69-943b-a5e4356441c3",
        "colab": {
          "base_uri": "https://localhost:8080/"
        }
      },
      "execution_count": null,
      "outputs": [
        {
          "output_type": "execute_result",
          "data": {
            "text/plain": [
              "668     5\n",
              "1345    5\n",
              "373     2\n",
              "1388    2\n",
              "132     4\n",
              "       ..\n",
              "1599    5\n",
              "1862    2\n",
              "1361    5\n",
              "1547    5\n",
              "863     2\n",
              "Name: label, Length: 1600, dtype: int64"
            ]
          },
          "metadata": {},
          "execution_count": 55
        }
      ]
    },
    {
      "cell_type": "code",
      "source": [
        "np.argmax(np.array(x_train['image'].tolist()[2]))"
      ],
      "metadata": {
        "id": "KBuBhEuZ4T9i",
        "outputId": "82ac13b9-32f5-4423-eaca-170860453533",
        "colab": {
          "base_uri": "https://localhost:8080/"
        }
      },
      "execution_count": null,
      "outputs": [
        {
          "output_type": "execute_result",
          "data": {
            "text/plain": [
              "5"
            ]
          },
          "metadata": {},
          "execution_count": 56
        }
      ]
    },
    {
      "cell_type": "code",
      "source": [
        "pr_img=x_train['image'].tolist()\n",
        "pr_meta=x_train['meta'].tolist()\n",
        "both=0\n",
        "only_img=0\n",
        "only_meta=0\n",
        "print(len(pr_img))\n",
        "for indx,i in enumerate(y_train):\n",
        "  # print(pr_meta[0])\n",
        "  if np.argmax(pr_meta[indx])==i and np.argmax(pr_img[indx])==i:\n",
        "    both+=1\n",
        "  elif np.argmax( pr_meta[indx])==i:\n",
        "    only_meta+=1\n",
        "  elif np.argmax(pr_img[indx])==i:\n",
        "    only_img+=1\n",
        "print('only_img',only_img)\n",
        "print('only_meta',only_meta)\n",
        "print('both',both)"
      ],
      "metadata": {
        "id": "vuRT3Jh59pTi",
        "outputId": "7e83e93d-61ef-4c12-80c2-efb59fe1e74f",
        "colab": {
          "base_uri": "https://localhost:8080/"
        }
      },
      "execution_count": null,
      "outputs": [
        {
          "output_type": "stream",
          "name": "stdout",
          "text": [
            "1600\n",
            "only_img 54\n",
            "only_meta 685\n",
            "both 697\n"
          ]
        }
      ]
    },
    {
      "cell_type": "code",
      "source": [
        "import os \n",
        "import random as rn\n",
        "import tensorflow as tf\n",
        "import numpy as np\n",
        "from keras import backend as K\n",
        "# seed=1\n",
        "num_cores=1  \n",
        "os.environ['PYTHONHASHSEED'] = '0'                      \n",
        "np.random.seed(seed)\n",
        "rn.seed(seed)\n",
        "tf.random.set_seed(seed)\n",
        "session_conf = tf.compat.v1.ConfigProto(intra_op_parallelism_threads=num_cores,\n",
        "                              inter_op_parallelism_threads=num_cores, \n",
        "                              allow_soft_placement=True,\n",
        "                              device_count = {'CPU' : 1, 'GPU' : 0})\n",
        "sess = tf.compat.v1.Session(graph=tf.compat.v1.get_default_graph(), config=session_conf)\n",
        "K.set_session(sess)\n",
        "\n",
        "from tensorflow import keras\n",
        "from keras import regularizers\n",
        "model_inputs=[]\n",
        "for i in range(2):\n",
        "  model_inputs.append(keras.Input(shape=(7,)))\n",
        "\n",
        "combinedInput = tf.keras.layers.concatenate(model_inputs)\n",
        "# 390\n",
        "x = Dense(1024,activation=\"relu\",\n",
        "          kernel_regularizer=regularizers.L1L2(l1=1e-5, l2=1e-4),\n",
        "          )(combinedInput)\n",
        "\n",
        "x=Dropout(.9)(x)\n",
        "\n",
        "predictions = Dense(7,activation=\"softmax\",)(x)\n",
        "model = Model(inputs=model_inputs,outputs=predictions)\n",
        "\n",
        "opt= keras.optimizers.Adam(learning_rate=0.0001,epsilon=0.01)\n",
        "model.compile(optimizer=opt,loss=\"sparse_categorical_crossentropy\",metrics=['accuracy'])\n",
        "\n",
        "# valid\n",
        "model.fit([np.array(x_train['meta'].tolist()),np.array(x_train['image'].tolist())],y_train ,epochs=200,validation_data=([np.array(x_valid['meta'].tolist()),np.array(x_valid['image'].tolist())],y_valid),batch_size=16)#validation_data=(validList,validDic['diagnostic'])\n",
        "\n",
        "print(\"evaluate\")"
      ],
      "metadata": {
        "id": "0VPPvREzIWKj",
        "outputId": "eef003b7-7e14-45a8-cfdf-2351574360de",
        "colab": {
          "base_uri": "https://localhost:8080/"
        }
      },
      "execution_count": null,
      "outputs": [
        {
          "output_type": "stream",
          "name": "stdout",
          "text": [
            "Epoch 1/200\n",
            "100/100 [==============================] - 1s 5ms/step - loss: 1.9318 - accuracy: 0.1900 - val_loss: 1.8466 - val_accuracy: 0.5950\n",
            "Epoch 2/200\n",
            "100/100 [==============================] - 0s 3ms/step - loss: 1.7835 - accuracy: 0.4756 - val_loss: 1.6915 - val_accuracy: 0.6550\n",
            "Epoch 3/200\n",
            "100/100 [==============================] - 0s 3ms/step - loss: 1.6219 - accuracy: 0.6475 - val_loss: 1.5369 - val_accuracy: 0.6550\n",
            "Epoch 4/200\n",
            "100/100 [==============================] - 0s 3ms/step - loss: 1.4674 - accuracy: 0.6750 - val_loss: 1.3898 - val_accuracy: 0.6550\n",
            "Epoch 5/200\n",
            "100/100 [==============================] - 0s 4ms/step - loss: 1.3244 - accuracy: 0.6737 - val_loss: 1.2634 - val_accuracy: 0.6550\n",
            "Epoch 6/200\n",
            "100/100 [==============================] - 0s 3ms/step - loss: 1.2162 - accuracy: 0.6706 - val_loss: 1.1603 - val_accuracy: 0.6550\n",
            "Epoch 7/200\n",
            "100/100 [==============================] - 0s 3ms/step - loss: 1.1123 - accuracy: 0.6675 - val_loss: 1.0840 - val_accuracy: 0.6550\n",
            "Epoch 8/200\n",
            "100/100 [==============================] - 0s 3ms/step - loss: 1.0521 - accuracy: 0.6662 - val_loss: 1.0279 - val_accuracy: 0.6550\n",
            "Epoch 9/200\n",
            "100/100 [==============================] - 0s 4ms/step - loss: 0.9867 - accuracy: 0.6681 - val_loss: 0.9872 - val_accuracy: 0.6550\n",
            "Epoch 10/200\n",
            "100/100 [==============================] - 0s 4ms/step - loss: 0.9576 - accuracy: 0.6700 - val_loss: 0.9542 - val_accuracy: 0.6550\n",
            "Epoch 11/200\n",
            "100/100 [==============================] - 0s 4ms/step - loss: 0.9316 - accuracy: 0.6731 - val_loss: 0.9280 - val_accuracy: 0.6550\n",
            "Epoch 12/200\n",
            "100/100 [==============================] - 0s 4ms/step - loss: 0.9092 - accuracy: 0.6781 - val_loss: 0.9050 - val_accuracy: 0.6550\n",
            "Epoch 13/200\n",
            "100/100 [==============================] - 0s 3ms/step - loss: 0.8869 - accuracy: 0.6794 - val_loss: 0.8848 - val_accuracy: 0.6550\n",
            "Epoch 14/200\n",
            "100/100 [==============================] - 0s 3ms/step - loss: 0.8557 - accuracy: 0.6906 - val_loss: 0.8661 - val_accuracy: 0.6550\n",
            "Epoch 15/200\n",
            "100/100 [==============================] - 0s 3ms/step - loss: 0.8374 - accuracy: 0.7000 - val_loss: 0.8496 - val_accuracy: 0.6650\n",
            "Epoch 16/200\n",
            "100/100 [==============================] - 0s 3ms/step - loss: 0.8244 - accuracy: 0.7100 - val_loss: 0.8346 - val_accuracy: 0.6750\n",
            "Epoch 17/200\n",
            "100/100 [==============================] - 0s 3ms/step - loss: 0.7965 - accuracy: 0.7275 - val_loss: 0.8212 - val_accuracy: 0.6950\n",
            "Epoch 18/200\n",
            "100/100 [==============================] - 0s 3ms/step - loss: 0.7786 - accuracy: 0.7394 - val_loss: 0.8088 - val_accuracy: 0.7150\n",
            "Epoch 19/200\n",
            "100/100 [==============================] - 0s 3ms/step - loss: 0.7679 - accuracy: 0.7550 - val_loss: 0.7971 - val_accuracy: 0.7200\n",
            "Epoch 20/200\n",
            "100/100 [==============================] - 0s 3ms/step - loss: 0.7588 - accuracy: 0.7563 - val_loss: 0.7869 - val_accuracy: 0.7400\n",
            "Epoch 21/200\n",
            "100/100 [==============================] - 0s 3ms/step - loss: 0.7487 - accuracy: 0.7619 - val_loss: 0.7776 - val_accuracy: 0.7450\n",
            "Epoch 22/200\n",
            "100/100 [==============================] - 0s 4ms/step - loss: 0.7413 - accuracy: 0.7600 - val_loss: 0.7690 - val_accuracy: 0.7500\n",
            "Epoch 23/200\n",
            "100/100 [==============================] - 0s 4ms/step - loss: 0.7305 - accuracy: 0.7775 - val_loss: 0.7617 - val_accuracy: 0.7700\n",
            "Epoch 24/200\n",
            "100/100 [==============================] - 0s 4ms/step - loss: 0.7162 - accuracy: 0.7812 - val_loss: 0.7547 - val_accuracy: 0.7700\n",
            "Epoch 25/200\n",
            "100/100 [==============================] - 0s 3ms/step - loss: 0.7089 - accuracy: 0.7856 - val_loss: 0.7483 - val_accuracy: 0.7750\n",
            "Epoch 26/200\n",
            "100/100 [==============================] - 0s 4ms/step - loss: 0.7017 - accuracy: 0.7925 - val_loss: 0.7424 - val_accuracy: 0.7750\n",
            "Epoch 27/200\n",
            "100/100 [==============================] - 0s 3ms/step - loss: 0.6841 - accuracy: 0.7962 - val_loss: 0.7371 - val_accuracy: 0.7800\n",
            "Epoch 28/200\n",
            "100/100 [==============================] - 0s 3ms/step - loss: 0.6888 - accuracy: 0.7962 - val_loss: 0.7323 - val_accuracy: 0.7800\n",
            "Epoch 29/200\n",
            "100/100 [==============================] - 0s 3ms/step - loss: 0.6761 - accuracy: 0.7912 - val_loss: 0.7279 - val_accuracy: 0.7800\n",
            "Epoch 30/200\n",
            "100/100 [==============================] - 0s 3ms/step - loss: 0.6816 - accuracy: 0.7944 - val_loss: 0.7243 - val_accuracy: 0.7850\n",
            "Epoch 31/200\n",
            "100/100 [==============================] - 0s 4ms/step - loss: 0.6792 - accuracy: 0.8044 - val_loss: 0.7205 - val_accuracy: 0.7850\n",
            "Epoch 32/200\n",
            "100/100 [==============================] - 0s 4ms/step - loss: 0.6646 - accuracy: 0.8069 - val_loss: 0.7174 - val_accuracy: 0.7800\n",
            "Epoch 33/200\n",
            "100/100 [==============================] - 0s 4ms/step - loss: 0.6611 - accuracy: 0.8050 - val_loss: 0.7144 - val_accuracy: 0.7850\n",
            "Epoch 34/200\n",
            "100/100 [==============================] - 0s 4ms/step - loss: 0.6499 - accuracy: 0.8125 - val_loss: 0.7117 - val_accuracy: 0.7850\n",
            "Epoch 35/200\n",
            "100/100 [==============================] - 0s 4ms/step - loss: 0.6427 - accuracy: 0.8087 - val_loss: 0.7091 - val_accuracy: 0.7900\n",
            "Epoch 36/200\n",
            "100/100 [==============================] - 0s 3ms/step - loss: 0.6497 - accuracy: 0.8050 - val_loss: 0.7066 - val_accuracy: 0.7950\n",
            "Epoch 37/200\n",
            "100/100 [==============================] - 0s 4ms/step - loss: 0.6322 - accuracy: 0.8087 - val_loss: 0.7046 - val_accuracy: 0.7900\n",
            "Epoch 38/200\n",
            "100/100 [==============================] - 0s 4ms/step - loss: 0.6366 - accuracy: 0.8194 - val_loss: 0.7024 - val_accuracy: 0.7900\n",
            "Epoch 39/200\n",
            "100/100 [==============================] - 0s 3ms/step - loss: 0.6226 - accuracy: 0.8144 - val_loss: 0.7007 - val_accuracy: 0.7900\n",
            "Epoch 40/200\n",
            "100/100 [==============================] - 0s 3ms/step - loss: 0.6267 - accuracy: 0.8194 - val_loss: 0.6985 - val_accuracy: 0.7900\n",
            "Epoch 41/200\n",
            "100/100 [==============================] - 0s 4ms/step - loss: 0.6187 - accuracy: 0.8163 - val_loss: 0.6967 - val_accuracy: 0.7900\n",
            "Epoch 42/200\n",
            "100/100 [==============================] - 0s 3ms/step - loss: 0.6337 - accuracy: 0.8181 - val_loss: 0.6952 - val_accuracy: 0.7900\n",
            "Epoch 43/200\n",
            "100/100 [==============================] - 0s 4ms/step - loss: 0.6162 - accuracy: 0.8213 - val_loss: 0.6934 - val_accuracy: 0.7900\n",
            "Epoch 44/200\n",
            "100/100 [==============================] - 0s 4ms/step - loss: 0.6303 - accuracy: 0.8150 - val_loss: 0.6918 - val_accuracy: 0.7850\n",
            "Epoch 45/200\n",
            "100/100 [==============================] - 0s 3ms/step - loss: 0.6113 - accuracy: 0.8231 - val_loss: 0.6902 - val_accuracy: 0.7850\n",
            "Epoch 46/200\n",
            "100/100 [==============================] - 0s 4ms/step - loss: 0.6230 - accuracy: 0.8219 - val_loss: 0.6890 - val_accuracy: 0.7850\n",
            "Epoch 47/200\n",
            "100/100 [==============================] - 0s 3ms/step - loss: 0.6031 - accuracy: 0.8256 - val_loss: 0.6874 - val_accuracy: 0.7850\n",
            "Epoch 48/200\n",
            "100/100 [==============================] - 0s 3ms/step - loss: 0.6100 - accuracy: 0.8231 - val_loss: 0.6861 - val_accuracy: 0.7850\n",
            "Epoch 49/200\n",
            "100/100 [==============================] - 0s 3ms/step - loss: 0.6033 - accuracy: 0.8294 - val_loss: 0.6849 - val_accuracy: 0.7850\n",
            "Epoch 50/200\n",
            "100/100 [==============================] - 0s 3ms/step - loss: 0.6073 - accuracy: 0.8281 - val_loss: 0.6836 - val_accuracy: 0.7850\n",
            "Epoch 51/200\n",
            "100/100 [==============================] - 0s 3ms/step - loss: 0.6057 - accuracy: 0.8206 - val_loss: 0.6828 - val_accuracy: 0.7850\n",
            "Epoch 52/200\n",
            "100/100 [==============================] - 0s 3ms/step - loss: 0.6086 - accuracy: 0.8225 - val_loss: 0.6817 - val_accuracy: 0.7850\n",
            "Epoch 53/200\n",
            "100/100 [==============================] - 0s 4ms/step - loss: 0.5991 - accuracy: 0.8325 - val_loss: 0.6807 - val_accuracy: 0.7900\n",
            "Epoch 54/200\n",
            "100/100 [==============================] - 0s 4ms/step - loss: 0.5935 - accuracy: 0.8231 - val_loss: 0.6795 - val_accuracy: 0.7900\n",
            "Epoch 55/200\n",
            "100/100 [==============================] - 0s 4ms/step - loss: 0.5878 - accuracy: 0.8294 - val_loss: 0.6786 - val_accuracy: 0.7900\n",
            "Epoch 56/200\n",
            "100/100 [==============================] - 0s 4ms/step - loss: 0.5996 - accuracy: 0.8269 - val_loss: 0.6775 - val_accuracy: 0.7900\n",
            "Epoch 57/200\n",
            "100/100 [==============================] - 0s 4ms/step - loss: 0.5938 - accuracy: 0.8288 - val_loss: 0.6767 - val_accuracy: 0.7900\n",
            "Epoch 58/200\n",
            "100/100 [==============================] - 0s 4ms/step - loss: 0.5873 - accuracy: 0.8356 - val_loss: 0.6759 - val_accuracy: 0.7900\n",
            "Epoch 59/200\n",
            "100/100 [==============================] - 0s 3ms/step - loss: 0.5906 - accuracy: 0.8306 - val_loss: 0.6750 - val_accuracy: 0.7900\n",
            "Epoch 60/200\n",
            "100/100 [==============================] - 0s 3ms/step - loss: 0.5872 - accuracy: 0.8269 - val_loss: 0.6740 - val_accuracy: 0.7950\n",
            "Epoch 61/200\n",
            "100/100 [==============================] - 0s 3ms/step - loss: 0.5766 - accuracy: 0.8375 - val_loss: 0.6733 - val_accuracy: 0.7950\n",
            "Epoch 62/200\n",
            "100/100 [==============================] - 0s 4ms/step - loss: 0.5825 - accuracy: 0.8331 - val_loss: 0.6726 - val_accuracy: 0.7950\n",
            "Epoch 63/200\n",
            "100/100 [==============================] - 0s 3ms/step - loss: 0.5823 - accuracy: 0.8350 - val_loss: 0.6720 - val_accuracy: 0.7950\n",
            "Epoch 64/200\n",
            "100/100 [==============================] - 0s 3ms/step - loss: 0.5868 - accuracy: 0.8350 - val_loss: 0.6713 - val_accuracy: 0.7950\n",
            "Epoch 65/200\n",
            "100/100 [==============================] - 0s 4ms/step - loss: 0.5838 - accuracy: 0.8294 - val_loss: 0.6704 - val_accuracy: 0.7950\n",
            "Epoch 66/200\n",
            "100/100 [==============================] - 0s 4ms/step - loss: 0.5860 - accuracy: 0.8294 - val_loss: 0.6696 - val_accuracy: 0.7950\n",
            "Epoch 67/200\n",
            "100/100 [==============================] - 0s 4ms/step - loss: 0.5809 - accuracy: 0.8400 - val_loss: 0.6684 - val_accuracy: 0.7950\n",
            "Epoch 68/200\n",
            "100/100 [==============================] - 0s 3ms/step - loss: 0.5741 - accuracy: 0.8363 - val_loss: 0.6680 - val_accuracy: 0.8000\n",
            "Epoch 69/200\n",
            "100/100 [==============================] - 0s 4ms/step - loss: 0.5676 - accuracy: 0.8406 - val_loss: 0.6673 - val_accuracy: 0.8000\n",
            "Epoch 70/200\n",
            "100/100 [==============================] - 0s 4ms/step - loss: 0.5644 - accuracy: 0.8381 - val_loss: 0.6667 - val_accuracy: 0.8000\n",
            "Epoch 71/200\n",
            "100/100 [==============================] - 0s 3ms/step - loss: 0.5773 - accuracy: 0.8369 - val_loss: 0.6660 - val_accuracy: 0.8000\n",
            "Epoch 72/200\n",
            "100/100 [==============================] - 0s 3ms/step - loss: 0.5729 - accuracy: 0.8381 - val_loss: 0.6656 - val_accuracy: 0.8000\n",
            "Epoch 73/200\n",
            "100/100 [==============================] - 0s 3ms/step - loss: 0.5641 - accuracy: 0.8350 - val_loss: 0.6649 - val_accuracy: 0.8000\n",
            "Epoch 74/200\n",
            "100/100 [==============================] - 0s 4ms/step - loss: 0.5755 - accuracy: 0.8375 - val_loss: 0.6644 - val_accuracy: 0.8000\n",
            "Epoch 75/200\n",
            "100/100 [==============================] - 0s 4ms/step - loss: 0.5681 - accuracy: 0.8375 - val_loss: 0.6636 - val_accuracy: 0.8000\n",
            "Epoch 76/200\n",
            "100/100 [==============================] - 0s 4ms/step - loss: 0.5692 - accuracy: 0.8425 - val_loss: 0.6631 - val_accuracy: 0.8000\n",
            "Epoch 77/200\n",
            "100/100 [==============================] - 0s 3ms/step - loss: 0.5592 - accuracy: 0.8400 - val_loss: 0.6626 - val_accuracy: 0.8000\n",
            "Epoch 78/200\n",
            "100/100 [==============================] - 0s 4ms/step - loss: 0.5644 - accuracy: 0.8406 - val_loss: 0.6620 - val_accuracy: 0.8000\n",
            "Epoch 79/200\n",
            "100/100 [==============================] - 0s 3ms/step - loss: 0.5596 - accuracy: 0.8413 - val_loss: 0.6615 - val_accuracy: 0.8000\n",
            "Epoch 80/200\n",
            "100/100 [==============================] - 0s 4ms/step - loss: 0.5703 - accuracy: 0.8431 - val_loss: 0.6607 - val_accuracy: 0.8000\n",
            "Epoch 81/200\n",
            "100/100 [==============================] - 0s 3ms/step - loss: 0.5735 - accuracy: 0.8406 - val_loss: 0.6601 - val_accuracy: 0.8000\n",
            "Epoch 82/200\n",
            "100/100 [==============================] - 0s 3ms/step - loss: 0.5621 - accuracy: 0.8419 - val_loss: 0.6594 - val_accuracy: 0.8000\n",
            "Epoch 83/200\n",
            "100/100 [==============================] - 0s 3ms/step - loss: 0.5502 - accuracy: 0.8444 - val_loss: 0.6591 - val_accuracy: 0.8000\n",
            "Epoch 84/200\n",
            "100/100 [==============================] - 0s 3ms/step - loss: 0.5542 - accuracy: 0.8406 - val_loss: 0.6583 - val_accuracy: 0.8000\n",
            "Epoch 85/200\n",
            "100/100 [==============================] - 0s 4ms/step - loss: 0.5554 - accuracy: 0.8413 - val_loss: 0.6579 - val_accuracy: 0.8000\n",
            "Epoch 86/200\n",
            "100/100 [==============================] - 0s 4ms/step - loss: 0.5574 - accuracy: 0.8413 - val_loss: 0.6572 - val_accuracy: 0.8000\n",
            "Epoch 87/200\n",
            "100/100 [==============================] - 0s 4ms/step - loss: 0.5595 - accuracy: 0.8431 - val_loss: 0.6567 - val_accuracy: 0.7950\n",
            "Epoch 88/200\n",
            "100/100 [==============================] - 0s 4ms/step - loss: 0.5547 - accuracy: 0.8400 - val_loss: 0.6562 - val_accuracy: 0.7950\n",
            "Epoch 89/200\n",
            "100/100 [==============================] - 0s 5ms/step - loss: 0.5506 - accuracy: 0.8444 - val_loss: 0.6557 - val_accuracy: 0.7950\n",
            "Epoch 90/200\n",
            "100/100 [==============================] - 0s 4ms/step - loss: 0.5604 - accuracy: 0.8425 - val_loss: 0.6551 - val_accuracy: 0.7950\n",
            "Epoch 91/200\n",
            "100/100 [==============================] - 0s 3ms/step - loss: 0.5532 - accuracy: 0.8456 - val_loss: 0.6548 - val_accuracy: 0.7950\n",
            "Epoch 92/200\n",
            "100/100 [==============================] - 0s 3ms/step - loss: 0.5604 - accuracy: 0.8469 - val_loss: 0.6541 - val_accuracy: 0.7950\n",
            "Epoch 93/200\n",
            "100/100 [==============================] - 0s 3ms/step - loss: 0.5525 - accuracy: 0.8444 - val_loss: 0.6535 - val_accuracy: 0.7950\n",
            "Epoch 94/200\n",
            "100/100 [==============================] - 0s 4ms/step - loss: 0.5503 - accuracy: 0.8400 - val_loss: 0.6528 - val_accuracy: 0.7950\n",
            "Epoch 95/200\n",
            "100/100 [==============================] - 0s 3ms/step - loss: 0.5507 - accuracy: 0.8444 - val_loss: 0.6523 - val_accuracy: 0.7950\n",
            "Epoch 96/200\n",
            "100/100 [==============================] - 0s 4ms/step - loss: 0.5406 - accuracy: 0.8525 - val_loss: 0.6516 - val_accuracy: 0.7950\n",
            "Epoch 97/200\n",
            "100/100 [==============================] - 0s 4ms/step - loss: 0.5573 - accuracy: 0.8450 - val_loss: 0.6511 - val_accuracy: 0.7950\n",
            "Epoch 98/200\n",
            "100/100 [==============================] - 0s 5ms/step - loss: 0.5587 - accuracy: 0.8419 - val_loss: 0.6504 - val_accuracy: 0.7950\n",
            "Epoch 99/200\n",
            "100/100 [==============================] - 1s 5ms/step - loss: 0.5514 - accuracy: 0.8444 - val_loss: 0.6499 - val_accuracy: 0.7950\n",
            "Epoch 100/200\n",
            "100/100 [==============================] - 0s 5ms/step - loss: 0.5512 - accuracy: 0.8456 - val_loss: 0.6495 - val_accuracy: 0.7950\n",
            "Epoch 101/200\n",
            "100/100 [==============================] - 0s 4ms/step - loss: 0.5373 - accuracy: 0.8462 - val_loss: 0.6487 - val_accuracy: 0.7950\n",
            "Epoch 102/200\n",
            "100/100 [==============================] - 0s 5ms/step - loss: 0.5499 - accuracy: 0.8475 - val_loss: 0.6482 - val_accuracy: 0.7950\n",
            "Epoch 103/200\n",
            "100/100 [==============================] - 1s 5ms/step - loss: 0.5570 - accuracy: 0.8450 - val_loss: 0.6474 - val_accuracy: 0.7950\n",
            "Epoch 104/200\n",
            "100/100 [==============================] - 0s 4ms/step - loss: 0.5497 - accuracy: 0.8419 - val_loss: 0.6472 - val_accuracy: 0.7950\n",
            "Epoch 105/200\n",
            "100/100 [==============================] - 0s 4ms/step - loss: 0.5499 - accuracy: 0.8469 - val_loss: 0.6466 - val_accuracy: 0.7950\n",
            "Epoch 106/200\n",
            "100/100 [==============================] - 0s 4ms/step - loss: 0.5478 - accuracy: 0.8438 - val_loss: 0.6463 - val_accuracy: 0.7950\n",
            "Epoch 107/200\n",
            "100/100 [==============================] - 0s 4ms/step - loss: 0.5421 - accuracy: 0.8494 - val_loss: 0.6461 - val_accuracy: 0.7950\n",
            "Epoch 108/200\n",
            "100/100 [==============================] - 0s 5ms/step - loss: 0.5427 - accuracy: 0.8500 - val_loss: 0.6460 - val_accuracy: 0.7950\n",
            "Epoch 109/200\n",
            "100/100 [==============================] - 1s 5ms/step - loss: 0.5558 - accuracy: 0.8438 - val_loss: 0.6455 - val_accuracy: 0.8000\n",
            "Epoch 110/200\n",
            "100/100 [==============================] - 0s 4ms/step - loss: 0.5461 - accuracy: 0.8469 - val_loss: 0.6450 - val_accuracy: 0.8000\n",
            "Epoch 111/200\n",
            "100/100 [==============================] - 0s 4ms/step - loss: 0.5479 - accuracy: 0.8444 - val_loss: 0.6447 - val_accuracy: 0.8000\n",
            "Epoch 112/200\n",
            "100/100 [==============================] - 0s 4ms/step - loss: 0.5463 - accuracy: 0.8481 - val_loss: 0.6438 - val_accuracy: 0.8000\n",
            "Epoch 113/200\n",
            "100/100 [==============================] - 0s 5ms/step - loss: 0.5403 - accuracy: 0.8462 - val_loss: 0.6434 - val_accuracy: 0.8000\n",
            "Epoch 114/200\n",
            "100/100 [==============================] - 1s 5ms/step - loss: 0.5415 - accuracy: 0.8462 - val_loss: 0.6431 - val_accuracy: 0.8000\n",
            "Epoch 115/200\n",
            "100/100 [==============================] - 1s 5ms/step - loss: 0.5446 - accuracy: 0.8544 - val_loss: 0.6427 - val_accuracy: 0.8000\n",
            "Epoch 116/200\n",
            "100/100 [==============================] - 0s 4ms/step - loss: 0.5504 - accuracy: 0.8475 - val_loss: 0.6422 - val_accuracy: 0.8000\n",
            "Epoch 117/200\n",
            "100/100 [==============================] - 0s 4ms/step - loss: 0.5425 - accuracy: 0.8481 - val_loss: 0.6418 - val_accuracy: 0.8000\n",
            "Epoch 118/200\n",
            "100/100 [==============================] - 0s 4ms/step - loss: 0.5477 - accuracy: 0.8475 - val_loss: 0.6415 - val_accuracy: 0.8000\n",
            "Epoch 119/200\n",
            "100/100 [==============================] - 0s 4ms/step - loss: 0.5444 - accuracy: 0.8500 - val_loss: 0.6409 - val_accuracy: 0.8000\n",
            "Epoch 120/200\n",
            "100/100 [==============================] - 0s 4ms/step - loss: 0.5402 - accuracy: 0.8506 - val_loss: 0.6407 - val_accuracy: 0.8000\n",
            "Epoch 121/200\n",
            "100/100 [==============================] - 0s 4ms/step - loss: 0.5469 - accuracy: 0.8481 - val_loss: 0.6400 - val_accuracy: 0.8000\n",
            "Epoch 122/200\n",
            "100/100 [==============================] - 0s 5ms/step - loss: 0.5279 - accuracy: 0.8506 - val_loss: 0.6398 - val_accuracy: 0.8000\n",
            "Epoch 123/200\n",
            "100/100 [==============================] - 1s 5ms/step - loss: 0.5289 - accuracy: 0.8481 - val_loss: 0.6396 - val_accuracy: 0.8050\n",
            "Epoch 124/200\n",
            "100/100 [==============================] - 0s 4ms/step - loss: 0.5514 - accuracy: 0.8525 - val_loss: 0.6390 - val_accuracy: 0.8050\n",
            "Epoch 125/200\n",
            "100/100 [==============================] - 0s 4ms/step - loss: 0.5486 - accuracy: 0.8500 - val_loss: 0.6385 - val_accuracy: 0.8050\n",
            "Epoch 126/200\n",
            "100/100 [==============================] - 0s 4ms/step - loss: 0.5395 - accuracy: 0.8487 - val_loss: 0.6383 - val_accuracy: 0.8050\n",
            "Epoch 127/200\n",
            "100/100 [==============================] - 0s 4ms/step - loss: 0.5369 - accuracy: 0.8544 - val_loss: 0.6375 - val_accuracy: 0.8050\n",
            "Epoch 128/200\n",
            "100/100 [==============================] - 0s 4ms/step - loss: 0.5390 - accuracy: 0.8487 - val_loss: 0.6370 - val_accuracy: 0.8050\n",
            "Epoch 129/200\n",
            "100/100 [==============================] - 0s 4ms/step - loss: 0.5449 - accuracy: 0.8519 - val_loss: 0.6365 - val_accuracy: 0.8050\n",
            "Epoch 130/200\n",
            "100/100 [==============================] - 0s 4ms/step - loss: 0.5342 - accuracy: 0.8475 - val_loss: 0.6362 - val_accuracy: 0.8050\n",
            "Epoch 131/200\n",
            "100/100 [==============================] - 0s 4ms/step - loss: 0.5408 - accuracy: 0.8444 - val_loss: 0.6356 - val_accuracy: 0.8050\n",
            "Epoch 132/200\n",
            "100/100 [==============================] - 0s 4ms/step - loss: 0.5347 - accuracy: 0.8525 - val_loss: 0.6356 - val_accuracy: 0.8050\n",
            "Epoch 133/200\n",
            "100/100 [==============================] - 0s 5ms/step - loss: 0.5343 - accuracy: 0.8462 - val_loss: 0.6351 - val_accuracy: 0.8050\n",
            "Epoch 134/200\n",
            "100/100 [==============================] - 0s 5ms/step - loss: 0.5295 - accuracy: 0.8531 - val_loss: 0.6346 - val_accuracy: 0.8050\n",
            "Epoch 135/200\n",
            "100/100 [==============================] - 0s 4ms/step - loss: 0.5370 - accuracy: 0.8519 - val_loss: 0.6341 - val_accuracy: 0.8050\n",
            "Epoch 136/200\n",
            "100/100 [==============================] - 0s 4ms/step - loss: 0.5349 - accuracy: 0.8487 - val_loss: 0.6339 - val_accuracy: 0.8050\n",
            "Epoch 137/200\n",
            "100/100 [==============================] - 0s 4ms/step - loss: 0.5302 - accuracy: 0.8494 - val_loss: 0.6334 - val_accuracy: 0.8050\n",
            "Epoch 138/200\n",
            "100/100 [==============================] - 0s 4ms/step - loss: 0.5251 - accuracy: 0.8500 - val_loss: 0.6333 - val_accuracy: 0.8050\n",
            "Epoch 139/200\n",
            "100/100 [==============================] - 0s 4ms/step - loss: 0.5326 - accuracy: 0.8525 - val_loss: 0.6329 - val_accuracy: 0.8050\n",
            "Epoch 140/200\n",
            "100/100 [==============================] - 0s 4ms/step - loss: 0.5367 - accuracy: 0.8550 - val_loss: 0.6323 - val_accuracy: 0.8050\n",
            "Epoch 141/200\n",
            "100/100 [==============================] - 0s 4ms/step - loss: 0.5356 - accuracy: 0.8537 - val_loss: 0.6319 - val_accuracy: 0.8050\n",
            "Epoch 142/200\n",
            "100/100 [==============================] - 0s 4ms/step - loss: 0.5346 - accuracy: 0.8469 - val_loss: 0.6319 - val_accuracy: 0.8050\n",
            "Epoch 143/200\n",
            "100/100 [==============================] - 0s 4ms/step - loss: 0.5232 - accuracy: 0.8519 - val_loss: 0.6313 - val_accuracy: 0.8050\n",
            "Epoch 144/200\n",
            "100/100 [==============================] - 0s 4ms/step - loss: 0.5253 - accuracy: 0.8525 - val_loss: 0.6309 - val_accuracy: 0.8050\n",
            "Epoch 145/200\n",
            "100/100 [==============================] - 0s 4ms/step - loss: 0.5242 - accuracy: 0.8500 - val_loss: 0.6306 - val_accuracy: 0.8050\n",
            "Epoch 146/200\n",
            "100/100 [==============================] - 0s 3ms/step - loss: 0.5113 - accuracy: 0.8544 - val_loss: 0.6305 - val_accuracy: 0.8100\n",
            "Epoch 147/200\n",
            "100/100 [==============================] - 0s 3ms/step - loss: 0.5290 - accuracy: 0.8506 - val_loss: 0.6299 - val_accuracy: 0.8100\n",
            "Epoch 148/200\n",
            "100/100 [==============================] - 0s 4ms/step - loss: 0.5335 - accuracy: 0.8450 - val_loss: 0.6298 - val_accuracy: 0.8100\n",
            "Epoch 149/200\n",
            "100/100 [==============================] - 0s 4ms/step - loss: 0.5305 - accuracy: 0.8512 - val_loss: 0.6293 - val_accuracy: 0.8100\n",
            "Epoch 150/200\n",
            "100/100 [==============================] - 0s 4ms/step - loss: 0.5244 - accuracy: 0.8537 - val_loss: 0.6289 - val_accuracy: 0.8100\n",
            "Epoch 151/200\n",
            "100/100 [==============================] - 0s 4ms/step - loss: 0.5161 - accuracy: 0.8544 - val_loss: 0.6289 - val_accuracy: 0.8100\n",
            "Epoch 152/200\n",
            "100/100 [==============================] - 0s 4ms/step - loss: 0.5329 - accuracy: 0.8537 - val_loss: 0.6283 - val_accuracy: 0.8100\n",
            "Epoch 153/200\n",
            "100/100 [==============================] - 0s 4ms/step - loss: 0.5189 - accuracy: 0.8550 - val_loss: 0.6282 - val_accuracy: 0.8100\n",
            "Epoch 154/200\n",
            "100/100 [==============================] - 0s 4ms/step - loss: 0.5238 - accuracy: 0.8556 - val_loss: 0.6277 - val_accuracy: 0.8100\n",
            "Epoch 155/200\n",
            "100/100 [==============================] - 0s 4ms/step - loss: 0.5285 - accuracy: 0.8506 - val_loss: 0.6277 - val_accuracy: 0.8100\n",
            "Epoch 156/200\n",
            "100/100 [==============================] - 0s 4ms/step - loss: 0.5249 - accuracy: 0.8531 - val_loss: 0.6274 - val_accuracy: 0.8100\n",
            "Epoch 157/200\n",
            "100/100 [==============================] - 0s 3ms/step - loss: 0.5272 - accuracy: 0.8581 - val_loss: 0.6273 - val_accuracy: 0.8100\n",
            "Epoch 158/200\n",
            "100/100 [==============================] - 0s 3ms/step - loss: 0.5243 - accuracy: 0.8569 - val_loss: 0.6269 - val_accuracy: 0.8100\n",
            "Epoch 159/200\n",
            "100/100 [==============================] - 0s 4ms/step - loss: 0.5240 - accuracy: 0.8519 - val_loss: 0.6266 - val_accuracy: 0.8150\n",
            "Epoch 160/200\n",
            "100/100 [==============================] - 0s 4ms/step - loss: 0.5190 - accuracy: 0.8512 - val_loss: 0.6262 - val_accuracy: 0.8150\n",
            "Epoch 161/200\n",
            "100/100 [==============================] - 0s 4ms/step - loss: 0.5265 - accuracy: 0.8519 - val_loss: 0.6258 - val_accuracy: 0.8150\n",
            "Epoch 162/200\n",
            "100/100 [==============================] - 0s 4ms/step - loss: 0.5180 - accuracy: 0.8512 - val_loss: 0.6253 - val_accuracy: 0.8150\n",
            "Epoch 163/200\n",
            "100/100 [==============================] - 0s 4ms/step - loss: 0.5264 - accuracy: 0.8531 - val_loss: 0.6248 - val_accuracy: 0.8150\n",
            "Epoch 164/200\n",
            "100/100 [==============================] - 0s 4ms/step - loss: 0.5274 - accuracy: 0.8525 - val_loss: 0.6247 - val_accuracy: 0.8150\n",
            "Epoch 165/200\n",
            "100/100 [==============================] - 0s 4ms/step - loss: 0.5279 - accuracy: 0.8556 - val_loss: 0.6244 - val_accuracy: 0.8150\n",
            "Epoch 166/200\n",
            "100/100 [==============================] - 0s 4ms/step - loss: 0.5287 - accuracy: 0.8525 - val_loss: 0.6240 - val_accuracy: 0.8150\n",
            "Epoch 167/200\n",
            "100/100 [==============================] - 0s 5ms/step - loss: 0.5217 - accuracy: 0.8519 - val_loss: 0.6238 - val_accuracy: 0.8150\n",
            "Epoch 168/200\n",
            "100/100 [==============================] - 0s 5ms/step - loss: 0.5291 - accuracy: 0.8544 - val_loss: 0.6232 - val_accuracy: 0.8150\n",
            "Epoch 169/200\n",
            "100/100 [==============================] - 0s 5ms/step - loss: 0.5242 - accuracy: 0.8550 - val_loss: 0.6230 - val_accuracy: 0.8150\n",
            "Epoch 170/200\n",
            "100/100 [==============================] - 1s 5ms/step - loss: 0.5274 - accuracy: 0.8537 - val_loss: 0.6228 - val_accuracy: 0.8150\n",
            "Epoch 171/200\n",
            "100/100 [==============================] - 0s 4ms/step - loss: 0.5224 - accuracy: 0.8562 - val_loss: 0.6225 - val_accuracy: 0.8150\n",
            "Epoch 172/200\n",
            "100/100 [==============================] - 0s 4ms/step - loss: 0.5265 - accuracy: 0.8512 - val_loss: 0.6223 - val_accuracy: 0.8200\n",
            "Epoch 173/200\n",
            "100/100 [==============================] - 0s 3ms/step - loss: 0.5285 - accuracy: 0.8487 - val_loss: 0.6220 - val_accuracy: 0.8250\n",
            "Epoch 174/200\n",
            "100/100 [==============================] - 0s 4ms/step - loss: 0.5245 - accuracy: 0.8531 - val_loss: 0.6216 - val_accuracy: 0.8250\n",
            "Epoch 175/200\n",
            "100/100 [==============================] - 0s 4ms/step - loss: 0.5159 - accuracy: 0.8594 - val_loss: 0.6213 - val_accuracy: 0.8250\n",
            "Epoch 176/200\n",
            "100/100 [==============================] - 0s 4ms/step - loss: 0.5277 - accuracy: 0.8537 - val_loss: 0.6206 - val_accuracy: 0.8200\n",
            "Epoch 177/200\n",
            "100/100 [==============================] - 0s 4ms/step - loss: 0.5131 - accuracy: 0.8575 - val_loss: 0.6205 - val_accuracy: 0.8200\n",
            "Epoch 178/200\n",
            "100/100 [==============================] - 0s 3ms/step - loss: 0.5273 - accuracy: 0.8512 - val_loss: 0.6202 - val_accuracy: 0.8200\n",
            "Epoch 179/200\n",
            "100/100 [==============================] - 0s 4ms/step - loss: 0.5231 - accuracy: 0.8506 - val_loss: 0.6197 - val_accuracy: 0.8200\n",
            "Epoch 180/200\n",
            "100/100 [==============================] - 0s 4ms/step - loss: 0.5262 - accuracy: 0.8537 - val_loss: 0.6192 - val_accuracy: 0.8200\n",
            "Epoch 181/200\n",
            "100/100 [==============================] - 0s 4ms/step - loss: 0.5159 - accuracy: 0.8544 - val_loss: 0.6193 - val_accuracy: 0.8200\n",
            "Epoch 182/200\n",
            "100/100 [==============================] - 0s 4ms/step - loss: 0.5168 - accuracy: 0.8587 - val_loss: 0.6188 - val_accuracy: 0.8200\n",
            "Epoch 183/200\n",
            "100/100 [==============================] - 0s 4ms/step - loss: 0.5161 - accuracy: 0.8569 - val_loss: 0.6186 - val_accuracy: 0.8200\n",
            "Epoch 184/200\n",
            "100/100 [==============================] - 0s 4ms/step - loss: 0.5245 - accuracy: 0.8562 - val_loss: 0.6186 - val_accuracy: 0.8200\n",
            "Epoch 185/200\n",
            "100/100 [==============================] - 0s 4ms/step - loss: 0.5259 - accuracy: 0.8512 - val_loss: 0.6181 - val_accuracy: 0.8200\n",
            "Epoch 186/200\n",
            "100/100 [==============================] - 0s 4ms/step - loss: 0.5265 - accuracy: 0.8512 - val_loss: 0.6180 - val_accuracy: 0.8200\n",
            "Epoch 187/200\n",
            "100/100 [==============================] - 0s 4ms/step - loss: 0.5190 - accuracy: 0.8575 - val_loss: 0.6175 - val_accuracy: 0.8200\n",
            "Epoch 188/200\n",
            "100/100 [==============================] - 0s 4ms/step - loss: 0.5184 - accuracy: 0.8556 - val_loss: 0.6173 - val_accuracy: 0.8200\n",
            "Epoch 189/200\n",
            "100/100 [==============================] - 0s 4ms/step - loss: 0.5183 - accuracy: 0.8550 - val_loss: 0.6170 - val_accuracy: 0.8200\n",
            "Epoch 190/200\n",
            "100/100 [==============================] - 0s 4ms/step - loss: 0.5254 - accuracy: 0.8500 - val_loss: 0.6167 - val_accuracy: 0.8200\n",
            "Epoch 191/200\n",
            "100/100 [==============================] - 0s 4ms/step - loss: 0.5112 - accuracy: 0.8581 - val_loss: 0.6168 - val_accuracy: 0.8200\n",
            "Epoch 192/200\n",
            "100/100 [==============================] - 0s 4ms/step - loss: 0.5128 - accuracy: 0.8581 - val_loss: 0.6167 - val_accuracy: 0.8200\n",
            "Epoch 193/200\n",
            "100/100 [==============================] - 0s 4ms/step - loss: 0.5138 - accuracy: 0.8550 - val_loss: 0.6163 - val_accuracy: 0.8200\n",
            "Epoch 194/200\n",
            "100/100 [==============================] - 0s 4ms/step - loss: 0.5088 - accuracy: 0.8556 - val_loss: 0.6160 - val_accuracy: 0.8200\n",
            "Epoch 195/200\n",
            "100/100 [==============================] - 0s 3ms/step - loss: 0.5152 - accuracy: 0.8550 - val_loss: 0.6156 - val_accuracy: 0.8200\n",
            "Epoch 196/200\n",
            "100/100 [==============================] - 0s 4ms/step - loss: 0.5181 - accuracy: 0.8525 - val_loss: 0.6155 - val_accuracy: 0.8200\n",
            "Epoch 197/200\n",
            "100/100 [==============================] - 0s 5ms/step - loss: 0.5069 - accuracy: 0.8569 - val_loss: 0.6153 - val_accuracy: 0.8200\n",
            "Epoch 198/200\n",
            "100/100 [==============================] - 0s 4ms/step - loss: 0.5138 - accuracy: 0.8569 - val_loss: 0.6147 - val_accuracy: 0.8200\n",
            "Epoch 199/200\n",
            "100/100 [==============================] - 0s 4ms/step - loss: 0.5166 - accuracy: 0.8562 - val_loss: 0.6145 - val_accuracy: 0.8200\n",
            "Epoch 200/200\n",
            "100/100 [==============================] - 0s 4ms/step - loss: 0.5152 - accuracy: 0.8531 - val_loss: 0.6144 - val_accuracy: 0.8200\n",
            "evaluate\n"
          ]
        }
      ]
    },
    {
      "cell_type": "code",
      "source": [
        "# test\n",
        "model_loss,modelAccuracy = model.evaluate([np.array(x_test['meta'].tolist()),np.array(x_test['image'].tolist())],y_test)\n",
        "print(\"model accuracy \"+str(modelAccuracy))"
      ],
      "metadata": {
        "id": "HjSR5WHbO0nJ",
        "outputId": "55518798-f582-4e68-95cf-16272b11d821",
        "colab": {
          "base_uri": "https://localhost:8080/"
        }
      },
      "execution_count": null,
      "outputs": [
        {
          "output_type": "stream",
          "name": "stdout",
          "text": [
            "7/7 [==============================] - 0s 3ms/step - loss: 0.3576 - accuracy: 0.9050\n",
            "model accuracy 0.9049999713897705\n"
          ]
        }
      ]
    },
    {
      "cell_type": "code",
      "source": [
        "predictions = model.predict([np.array(x_test['meta'].tolist()),np.array(x_test['image'].tolist())], verbose=0)"
      ],
      "metadata": {
        "id": "ZcB12NSg0JIi"
      },
      "execution_count": null,
      "outputs": []
    },
    {
      "cell_type": "code",
      "source": [
        "from sklearn.metrics import  precision_score, recall_score, accuracy_score,classification_report,roc_auc_score,roc_curve,auc\n",
        "from tensorflow.keras.utils import to_categorical\n",
        "\n",
        "#geting predictions on test dataset\n",
        "y_pred = np.argmax(predictions, axis=1)\n",
        "\n",
        "#getting the true labels per image \n",
        "y_true = y_test\n",
        "\n",
        "# Creating classification report \n",
        "report = classification_report(y_true, y_pred)\n",
        "\n",
        "print(\"\\nClassification Report:\")\n",
        "print(report)"
      ],
      "metadata": {
        "id": "k1YvzqE5arrJ",
        "outputId": "cf4988fc-65af-425f-9494-ec6483973fef",
        "colab": {
          "base_uri": "https://localhost:8080/"
        }
      },
      "execution_count": null,
      "outputs": [
        {
          "output_type": "stream",
          "name": "stdout",
          "text": [
            "\n",
            "Classification Report:\n",
            "              precision    recall  f1-score   support\n",
            "\n",
            "           0       1.00      1.00      1.00         3\n",
            "           1       0.78      0.70      0.74        10\n",
            "           2       0.75      0.71      0.73        17\n",
            "           3       0.00      0.00      0.00         1\n",
            "           4       0.89      0.83      0.86        29\n",
            "           5       0.93      0.96      0.95       140\n",
            "\n",
            "    accuracy                           0.91       200\n",
            "   macro avg       0.72      0.70      0.71       200\n",
            "weighted avg       0.90      0.91      0.90       200\n",
            "\n"
          ]
        },
        {
          "output_type": "stream",
          "name": "stderr",
          "text": [
            "/usr/local/lib/python3.7/dist-packages/sklearn/metrics/_classification.py:1318: UndefinedMetricWarning: Precision and F-score are ill-defined and being set to 0.0 in labels with no predicted samples. Use `zero_division` parameter to control this behavior.\n",
            "  _warn_prf(average, modifier, msg_start, len(result))\n",
            "/usr/local/lib/python3.7/dist-packages/sklearn/metrics/_classification.py:1318: UndefinedMetricWarning: Precision and F-score are ill-defined and being set to 0.0 in labels with no predicted samples. Use `zero_division` parameter to control this behavior.\n",
            "  _warn_prf(average, modifier, msg_start, len(result))\n",
            "/usr/local/lib/python3.7/dist-packages/sklearn/metrics/_classification.py:1318: UndefinedMetricWarning: Precision and F-score are ill-defined and being set to 0.0 in labels with no predicted samples. Use `zero_division` parameter to control this behavior.\n",
            "  _warn_prf(average, modifier, msg_start, len(result))\n"
          ]
        }
      ]
    },
    {
      "cell_type": "code",
      "source": [
        "from sklearn.metrics import precision_score, recall_score, f1_score\n",
        "print(\"Precision_score: \",precision_score(y_true, y_pred, average='weighted')*100)\n",
        "print(\"Recall_score: \",recall_score(y_true, y_pred, average='weighted')*100)\n",
        "print(\"F1_score: \",f1_score(y_true, y_pred, average='weighted')*100)"
      ],
      "metadata": {
        "id": "VYANz5jUatd9",
        "outputId": "378c327f-5223-4b4d-9e88-ab85d8984f76",
        "colab": {
          "base_uri": "https://localhost:8080/"
        }
      },
      "execution_count": null,
      "outputs": [
        {
          "output_type": "stream",
          "name": "stdout",
          "text": [
            "Precision_score:  89.82519157088123\n",
            "Recall_score:  90.5\n",
            "F1_score:  90.11038961038962\n"
          ]
        },
        {
          "output_type": "stream",
          "name": "stderr",
          "text": [
            "/usr/local/lib/python3.7/dist-packages/sklearn/metrics/_classification.py:1318: UndefinedMetricWarning: Precision is ill-defined and being set to 0.0 in labels with no predicted samples. Use `zero_division` parameter to control this behavior.\n",
            "  _warn_prf(average, modifier, msg_start, len(result))\n"
          ]
        }
      ]
    },
    {
      "cell_type": "code",
      "source": [],
      "metadata": {
        "id": "gx0JAsjQcPO-"
      },
      "execution_count": null,
      "outputs": []
    }
  ]
}