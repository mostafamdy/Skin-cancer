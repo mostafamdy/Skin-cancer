{
  "cells": [
    {
      "cell_type": "code",
      "source": [
        "seed=101\n",
        "records_count=10000"
      ],
      "metadata": {
        "id": "hapacCFSccif"
      },
      "execution_count": null,
      "outputs": []
    },
    {
      "cell_type": "code",
      "execution_count": null,
      "metadata": {
        "id": "Mafn_4c2M-v-"
      },
      "outputs": [],
      "source": [
        "import os\n",
        "import cv2\n",
        "import shutil\n",
        "import numpy as np\n",
        "import pandas as pd\n",
        "import matplotlib.pyplot as plt\n",
        "import matplotlib.patches as patches\n",
        "from keras.applications.resnet import ResNet50\n",
        "from sklearn import preprocessing\n",
        "from sklearn.model_selection import train_test_split\n",
        "from sklearn.ensemble import RandomForestClassifier\n",
        "from sklearn import metrics"
      ]
    },
    {
      "cell_type": "code",
      "execution_count": null,
      "metadata": {
        "id": "Aa36bMKLze3z"
      },
      "outputs": [],
      "source": [
        "import pandas as pd\n",
        "import numpy as np\n",
        "import os\n",
        "import tensorflow as tf\n",
        "import cv2\n",
        "from keras import backend as K\n",
        "from keras.layers import Layer,InputSpec\n",
        "import keras.layers as kl\n",
        "from glob import glob\n",
        "from sklearn.metrics import roc_curve, auc\n",
        "from keras.preprocessing import image\n",
        "from keras.models import Sequential\n",
        "from sklearn.metrics import roc_auc_score\n",
        "from keras import callbacks \n",
        "from keras.callbacks import ModelCheckpoint,EarlyStopping\n",
        "from  matplotlib import pyplot as plt\n",
        "from keras import Model\n",
        "from keras.layers import concatenate,Dense, Conv2D, MaxPooling2D, Flatten,Input,Activation,add,AveragePooling2D,GlobalAveragePooling2D,BatchNormalization,Dropout\n",
        "import shutil\n",
        "from sklearn.metrics import  precision_score, recall_score, accuracy_score,classification_report ,confusion_matrix\n",
        "from tensorflow.python.platform import build_info as tf_build_info\n",
        "from keras.preprocessing.image import ImageDataGenerator\n",
        "from sklearn.model_selection import train_test_split\n",
        "\n",
        "from PIL import ImageFile\n",
        "ImageFile.LOAD_TRUNCATED_IMAGES = True"
      ]
    },
    {
      "cell_type": "markdown",
      "source": [
        "#download ISIC 2019"
      ],
      "metadata": {
        "id": "I3P-laiqqLEm"
      }
    },
    {
      "cell_type": "code",
      "execution_count": null,
      "metadata": {
        "id": "tbnLn481pB7N"
      },
      "outputs": [],
      "source": [
        "import requests\n",
        "from zipfile import ZipFile\n",
        "\n",
        "def download_file(url):\n",
        "    local_filename = url.split('/')[-1]\n",
        "    # NOTE the stream=True parameter below\n",
        "    with requests.get(url, stream=True) as r:\n",
        "        r.raise_for_status()\n",
        "        with open(local_filename, 'wb') as f:\n",
        "            for chunk in r.iter_content(chunk_size=8192): \n",
        "                # If you have chunk encoded response uncomment if\n",
        "                # and set chunk_size parameter to None.\n",
        "                #if chunk: \n",
        "                f.write(chunk)\n",
        "    return local_filename\n",
        "file_name=download_file(\"https://isic-challenge-data.s3.amazonaws.com/2019/ISIC_2019_Training_Input.zip\")\n",
        "# opening the zip file in READ mode\n",
        "with ZipFile(file_name, 'r') as zip:\n",
        "\t# printing all the contents of the zip file\n",
        "\t# zip.printdir()\n",
        "\n",
        "\t# extracting all the files\n",
        "\tprint('Extracting all the files now...')\n",
        "\tzip.extractall()\n",
        "\tprint('Done!')"
      ]
    },
    {
      "cell_type": "markdown",
      "source": [
        "download meta"
      ],
      "metadata": {
        "id": "21Enq_XYqIGS"
      }
    },
    {
      "cell_type": "code",
      "source": [
        "import requests\n",
        "from zipfile import ZipFile\n",
        "\n",
        "def download_file(url):\n",
        "    local_filename = url.split('/')[-1]\n",
        "    # NOTE the stream=True parameter below\n",
        "    with requests.get(url, stream=True) as r:\n",
        "        r.raise_for_status()\n",
        "        with open(local_filename, 'wb') as f:\n",
        "            for chunk in r.iter_content(chunk_size=8192): \n",
        "                # If you have chunk encoded response uncomment if\n",
        "                # and set chunk_size parameter to None.\n",
        "                #if chunk: \n",
        "                f.write(chunk)\n",
        "    return local_filename\n",
        "file_name=download_file(\"https://isic-challenge-data.s3.amazonaws.com/2019/ISIC_2019_Training_Metadata.csv\")"
      ],
      "metadata": {
        "id": "z9-v5hvtpjOe"
      },
      "execution_count": null,
      "outputs": []
    },
    {
      "cell_type": "code",
      "source": [
        "import requests\n",
        "from zipfile import ZipFile\n",
        "\n",
        "def download_file(url):\n",
        "    local_filename = url.split('/')[-1]\n",
        "    # NOTE the stream=True parameter below\n",
        "    with requests.get(url, stream=True) as r:\n",
        "        r.raise_for_status()\n",
        "        with open(local_filename, 'wb') as f:\n",
        "            for chunk in r.iter_content(chunk_size=8192): \n",
        "                # If you have chunk encoded response uncomment if\n",
        "                # and set chunk_size parameter to None.\n",
        "                #if chunk: \n",
        "                f.write(chunk)\n",
        "    return local_filename\n",
        "file_name=download_file(\"https://isic-challenge-data.s3.amazonaws.com/2019/ISIC_2019_Training_GroundTruth.csv\")"
      ],
      "metadata": {
        "id": "_znNWcUdtmL6"
      },
      "execution_count": null,
      "outputs": []
    },
    {
      "cell_type": "markdown",
      "source": [
        "#dicover dataset"
      ],
      "metadata": {
        "id": "5PDROnK4qTml"
      }
    },
    {
      "cell_type": "code",
      "source": [
        "import pandas as pd\n",
        "meta=pd.read_csv(\"/content/ISIC_2019_Training_Metadata.csv\")\n",
        "meta.head()"
      ],
      "metadata": {
        "colab": {
          "base_uri": "https://localhost:8080/",
          "height": 206
        },
        "id": "LIhtPek-qS3Z",
        "outputId": "36d96beb-e328-421b-eaa0-97bbacaa60c6"
      },
      "execution_count": null,
      "outputs": [
        {
          "output_type": "execute_result",
          "data": {
            "text/plain": [
              "          image  age_approx anatom_site_general lesion_id     sex\n",
              "0  ISIC_0000000        55.0      anterior torso       NaN  female\n",
              "1  ISIC_0000001        30.0      anterior torso       NaN  female\n",
              "2  ISIC_0000002        60.0     upper extremity       NaN  female\n",
              "3  ISIC_0000003        30.0     upper extremity       NaN    male\n",
              "4  ISIC_0000004        80.0     posterior torso       NaN    male"
            ],
            "text/html": [
              "\n",
              "  <div id=\"df-5d9542a1-9130-433e-8705-9532038537d7\">\n",
              "    <div class=\"colab-df-container\">\n",
              "      <div>\n",
              "<style scoped>\n",
              "    .dataframe tbody tr th:only-of-type {\n",
              "        vertical-align: middle;\n",
              "    }\n",
              "\n",
              "    .dataframe tbody tr th {\n",
              "        vertical-align: top;\n",
              "    }\n",
              "\n",
              "    .dataframe thead th {\n",
              "        text-align: right;\n",
              "    }\n",
              "</style>\n",
              "<table border=\"1\" class=\"dataframe\">\n",
              "  <thead>\n",
              "    <tr style=\"text-align: right;\">\n",
              "      <th></th>\n",
              "      <th>image</th>\n",
              "      <th>age_approx</th>\n",
              "      <th>anatom_site_general</th>\n",
              "      <th>lesion_id</th>\n",
              "      <th>sex</th>\n",
              "    </tr>\n",
              "  </thead>\n",
              "  <tbody>\n",
              "    <tr>\n",
              "      <th>0</th>\n",
              "      <td>ISIC_0000000</td>\n",
              "      <td>55.0</td>\n",
              "      <td>anterior torso</td>\n",
              "      <td>NaN</td>\n",
              "      <td>female</td>\n",
              "    </tr>\n",
              "    <tr>\n",
              "      <th>1</th>\n",
              "      <td>ISIC_0000001</td>\n",
              "      <td>30.0</td>\n",
              "      <td>anterior torso</td>\n",
              "      <td>NaN</td>\n",
              "      <td>female</td>\n",
              "    </tr>\n",
              "    <tr>\n",
              "      <th>2</th>\n",
              "      <td>ISIC_0000002</td>\n",
              "      <td>60.0</td>\n",
              "      <td>upper extremity</td>\n",
              "      <td>NaN</td>\n",
              "      <td>female</td>\n",
              "    </tr>\n",
              "    <tr>\n",
              "      <th>3</th>\n",
              "      <td>ISIC_0000003</td>\n",
              "      <td>30.0</td>\n",
              "      <td>upper extremity</td>\n",
              "      <td>NaN</td>\n",
              "      <td>male</td>\n",
              "    </tr>\n",
              "    <tr>\n",
              "      <th>4</th>\n",
              "      <td>ISIC_0000004</td>\n",
              "      <td>80.0</td>\n",
              "      <td>posterior torso</td>\n",
              "      <td>NaN</td>\n",
              "      <td>male</td>\n",
              "    </tr>\n",
              "  </tbody>\n",
              "</table>\n",
              "</div>\n",
              "      <button class=\"colab-df-convert\" onclick=\"convertToInteractive('df-5d9542a1-9130-433e-8705-9532038537d7')\"\n",
              "              title=\"Convert this dataframe to an interactive table.\"\n",
              "              style=\"display:none;\">\n",
              "        \n",
              "  <svg xmlns=\"http://www.w3.org/2000/svg\" height=\"24px\"viewBox=\"0 0 24 24\"\n",
              "       width=\"24px\">\n",
              "    <path d=\"M0 0h24v24H0V0z\" fill=\"none\"/>\n",
              "    <path d=\"M18.56 5.44l.94 2.06.94-2.06 2.06-.94-2.06-.94-.94-2.06-.94 2.06-2.06.94zm-11 1L8.5 8.5l.94-2.06 2.06-.94-2.06-.94L8.5 2.5l-.94 2.06-2.06.94zm10 10l.94 2.06.94-2.06 2.06-.94-2.06-.94-.94-2.06-.94 2.06-2.06.94z\"/><path d=\"M17.41 7.96l-1.37-1.37c-.4-.4-.92-.59-1.43-.59-.52 0-1.04.2-1.43.59L10.3 9.45l-7.72 7.72c-.78.78-.78 2.05 0 2.83L4 21.41c.39.39.9.59 1.41.59.51 0 1.02-.2 1.41-.59l7.78-7.78 2.81-2.81c.8-.78.8-2.07 0-2.86zM5.41 20L4 18.59l7.72-7.72 1.47 1.35L5.41 20z\"/>\n",
              "  </svg>\n",
              "      </button>\n",
              "      \n",
              "  <style>\n",
              "    .colab-df-container {\n",
              "      display:flex;\n",
              "      flex-wrap:wrap;\n",
              "      gap: 12px;\n",
              "    }\n",
              "\n",
              "    .colab-df-convert {\n",
              "      background-color: #E8F0FE;\n",
              "      border: none;\n",
              "      border-radius: 50%;\n",
              "      cursor: pointer;\n",
              "      display: none;\n",
              "      fill: #1967D2;\n",
              "      height: 32px;\n",
              "      padding: 0 0 0 0;\n",
              "      width: 32px;\n",
              "    }\n",
              "\n",
              "    .colab-df-convert:hover {\n",
              "      background-color: #E2EBFA;\n",
              "      box-shadow: 0px 1px 2px rgba(60, 64, 67, 0.3), 0px 1px 3px 1px rgba(60, 64, 67, 0.15);\n",
              "      fill: #174EA6;\n",
              "    }\n",
              "\n",
              "    [theme=dark] .colab-df-convert {\n",
              "      background-color: #3B4455;\n",
              "      fill: #D2E3FC;\n",
              "    }\n",
              "\n",
              "    [theme=dark] .colab-df-convert:hover {\n",
              "      background-color: #434B5C;\n",
              "      box-shadow: 0px 1px 3px 1px rgba(0, 0, 0, 0.15);\n",
              "      filter: drop-shadow(0px 1px 2px rgba(0, 0, 0, 0.3));\n",
              "      fill: #FFFFFF;\n",
              "    }\n",
              "  </style>\n",
              "\n",
              "      <script>\n",
              "        const buttonEl =\n",
              "          document.querySelector('#df-5d9542a1-9130-433e-8705-9532038537d7 button.colab-df-convert');\n",
              "        buttonEl.style.display =\n",
              "          google.colab.kernel.accessAllowed ? 'block' : 'none';\n",
              "\n",
              "        async function convertToInteractive(key) {\n",
              "          const element = document.querySelector('#df-5d9542a1-9130-433e-8705-9532038537d7');\n",
              "          const dataTable =\n",
              "            await google.colab.kernel.invokeFunction('convertToInteractive',\n",
              "                                                     [key], {});\n",
              "          if (!dataTable) return;\n",
              "\n",
              "          const docLinkHtml = 'Like what you see? Visit the ' +\n",
              "            '<a target=\"_blank\" href=https://colab.research.google.com/notebooks/data_table.ipynb>data table notebook</a>'\n",
              "            + ' to learn more about interactive tables.';\n",
              "          element.innerHTML = '';\n",
              "          dataTable['output_type'] = 'display_data';\n",
              "          await google.colab.output.renderOutput(dataTable, element);\n",
              "          const docLink = document.createElement('div');\n",
              "          docLink.innerHTML = docLinkHtml;\n",
              "          element.appendChild(docLink);\n",
              "        }\n",
              "      </script>\n",
              "    </div>\n",
              "  </div>\n",
              "  "
            ]
          },
          "metadata": {},
          "execution_count": 7
        }
      ]
    },
    {
      "cell_type": "code",
      "source": [
        "import pandas as pd\n",
        "pd_meta=pd.read_csv(\"/content/ISIC_2019_Training_GroundTruth.csv\")\n",
        "pd_meta.head()\n",
        "# meta\n",
        "# with us =>  mel nv bcc ak bkl scc\n",
        "# DF VASC UNK"
      ],
      "metadata": {
        "colab": {
          "base_uri": "https://localhost:8080/",
          "height": 206
        },
        "id": "7QuDcZa-tloa",
        "outputId": "f1c1efaa-1667-4c40-a12f-92a5c34a9df5"
      },
      "execution_count": null,
      "outputs": [
        {
          "output_type": "execute_result",
          "data": {
            "text/plain": [
              "          image  MEL   NV  BCC   AK  BKL   DF  VASC  SCC  UNK\n",
              "0  ISIC_0000000  0.0  1.0  0.0  0.0  0.0  0.0   0.0  0.0  0.0\n",
              "1  ISIC_0000001  0.0  1.0  0.0  0.0  0.0  0.0   0.0  0.0  0.0\n",
              "2  ISIC_0000002  1.0  0.0  0.0  0.0  0.0  0.0   0.0  0.0  0.0\n",
              "3  ISIC_0000003  0.0  1.0  0.0  0.0  0.0  0.0   0.0  0.0  0.0\n",
              "4  ISIC_0000004  1.0  0.0  0.0  0.0  0.0  0.0   0.0  0.0  0.0"
            ],
            "text/html": [
              "\n",
              "  <div id=\"df-d3779b44-92e7-48a9-9558-35ac4dc89ae2\">\n",
              "    <div class=\"colab-df-container\">\n",
              "      <div>\n",
              "<style scoped>\n",
              "    .dataframe tbody tr th:only-of-type {\n",
              "        vertical-align: middle;\n",
              "    }\n",
              "\n",
              "    .dataframe tbody tr th {\n",
              "        vertical-align: top;\n",
              "    }\n",
              "\n",
              "    .dataframe thead th {\n",
              "        text-align: right;\n",
              "    }\n",
              "</style>\n",
              "<table border=\"1\" class=\"dataframe\">\n",
              "  <thead>\n",
              "    <tr style=\"text-align: right;\">\n",
              "      <th></th>\n",
              "      <th>image</th>\n",
              "      <th>MEL</th>\n",
              "      <th>NV</th>\n",
              "      <th>BCC</th>\n",
              "      <th>AK</th>\n",
              "      <th>BKL</th>\n",
              "      <th>DF</th>\n",
              "      <th>VASC</th>\n",
              "      <th>SCC</th>\n",
              "      <th>UNK</th>\n",
              "    </tr>\n",
              "  </thead>\n",
              "  <tbody>\n",
              "    <tr>\n",
              "      <th>0</th>\n",
              "      <td>ISIC_0000000</td>\n",
              "      <td>0.0</td>\n",
              "      <td>1.0</td>\n",
              "      <td>0.0</td>\n",
              "      <td>0.0</td>\n",
              "      <td>0.0</td>\n",
              "      <td>0.0</td>\n",
              "      <td>0.0</td>\n",
              "      <td>0.0</td>\n",
              "      <td>0.0</td>\n",
              "    </tr>\n",
              "    <tr>\n",
              "      <th>1</th>\n",
              "      <td>ISIC_0000001</td>\n",
              "      <td>0.0</td>\n",
              "      <td>1.0</td>\n",
              "      <td>0.0</td>\n",
              "      <td>0.0</td>\n",
              "      <td>0.0</td>\n",
              "      <td>0.0</td>\n",
              "      <td>0.0</td>\n",
              "      <td>0.0</td>\n",
              "      <td>0.0</td>\n",
              "    </tr>\n",
              "    <tr>\n",
              "      <th>2</th>\n",
              "      <td>ISIC_0000002</td>\n",
              "      <td>1.0</td>\n",
              "      <td>0.0</td>\n",
              "      <td>0.0</td>\n",
              "      <td>0.0</td>\n",
              "      <td>0.0</td>\n",
              "      <td>0.0</td>\n",
              "      <td>0.0</td>\n",
              "      <td>0.0</td>\n",
              "      <td>0.0</td>\n",
              "    </tr>\n",
              "    <tr>\n",
              "      <th>3</th>\n",
              "      <td>ISIC_0000003</td>\n",
              "      <td>0.0</td>\n",
              "      <td>1.0</td>\n",
              "      <td>0.0</td>\n",
              "      <td>0.0</td>\n",
              "      <td>0.0</td>\n",
              "      <td>0.0</td>\n",
              "      <td>0.0</td>\n",
              "      <td>0.0</td>\n",
              "      <td>0.0</td>\n",
              "    </tr>\n",
              "    <tr>\n",
              "      <th>4</th>\n",
              "      <td>ISIC_0000004</td>\n",
              "      <td>1.0</td>\n",
              "      <td>0.0</td>\n",
              "      <td>0.0</td>\n",
              "      <td>0.0</td>\n",
              "      <td>0.0</td>\n",
              "      <td>0.0</td>\n",
              "      <td>0.0</td>\n",
              "      <td>0.0</td>\n",
              "      <td>0.0</td>\n",
              "    </tr>\n",
              "  </tbody>\n",
              "</table>\n",
              "</div>\n",
              "      <button class=\"colab-df-convert\" onclick=\"convertToInteractive('df-d3779b44-92e7-48a9-9558-35ac4dc89ae2')\"\n",
              "              title=\"Convert this dataframe to an interactive table.\"\n",
              "              style=\"display:none;\">\n",
              "        \n",
              "  <svg xmlns=\"http://www.w3.org/2000/svg\" height=\"24px\"viewBox=\"0 0 24 24\"\n",
              "       width=\"24px\">\n",
              "    <path d=\"M0 0h24v24H0V0z\" fill=\"none\"/>\n",
              "    <path d=\"M18.56 5.44l.94 2.06.94-2.06 2.06-.94-2.06-.94-.94-2.06-.94 2.06-2.06.94zm-11 1L8.5 8.5l.94-2.06 2.06-.94-2.06-.94L8.5 2.5l-.94 2.06-2.06.94zm10 10l.94 2.06.94-2.06 2.06-.94-2.06-.94-.94-2.06-.94 2.06-2.06.94z\"/><path d=\"M17.41 7.96l-1.37-1.37c-.4-.4-.92-.59-1.43-.59-.52 0-1.04.2-1.43.59L10.3 9.45l-7.72 7.72c-.78.78-.78 2.05 0 2.83L4 21.41c.39.39.9.59 1.41.59.51 0 1.02-.2 1.41-.59l7.78-7.78 2.81-2.81c.8-.78.8-2.07 0-2.86zM5.41 20L4 18.59l7.72-7.72 1.47 1.35L5.41 20z\"/>\n",
              "  </svg>\n",
              "      </button>\n",
              "      \n",
              "  <style>\n",
              "    .colab-df-container {\n",
              "      display:flex;\n",
              "      flex-wrap:wrap;\n",
              "      gap: 12px;\n",
              "    }\n",
              "\n",
              "    .colab-df-convert {\n",
              "      background-color: #E8F0FE;\n",
              "      border: none;\n",
              "      border-radius: 50%;\n",
              "      cursor: pointer;\n",
              "      display: none;\n",
              "      fill: #1967D2;\n",
              "      height: 32px;\n",
              "      padding: 0 0 0 0;\n",
              "      width: 32px;\n",
              "    }\n",
              "\n",
              "    .colab-df-convert:hover {\n",
              "      background-color: #E2EBFA;\n",
              "      box-shadow: 0px 1px 2px rgba(60, 64, 67, 0.3), 0px 1px 3px 1px rgba(60, 64, 67, 0.15);\n",
              "      fill: #174EA6;\n",
              "    }\n",
              "\n",
              "    [theme=dark] .colab-df-convert {\n",
              "      background-color: #3B4455;\n",
              "      fill: #D2E3FC;\n",
              "    }\n",
              "\n",
              "    [theme=dark] .colab-df-convert:hover {\n",
              "      background-color: #434B5C;\n",
              "      box-shadow: 0px 1px 3px 1px rgba(0, 0, 0, 0.15);\n",
              "      filter: drop-shadow(0px 1px 2px rgba(0, 0, 0, 0.3));\n",
              "      fill: #FFFFFF;\n",
              "    }\n",
              "  </style>\n",
              "\n",
              "      <script>\n",
              "        const buttonEl =\n",
              "          document.querySelector('#df-d3779b44-92e7-48a9-9558-35ac4dc89ae2 button.colab-df-convert');\n",
              "        buttonEl.style.display =\n",
              "          google.colab.kernel.accessAllowed ? 'block' : 'none';\n",
              "\n",
              "        async function convertToInteractive(key) {\n",
              "          const element = document.querySelector('#df-d3779b44-92e7-48a9-9558-35ac4dc89ae2');\n",
              "          const dataTable =\n",
              "            await google.colab.kernel.invokeFunction('convertToInteractive',\n",
              "                                                     [key], {});\n",
              "          if (!dataTable) return;\n",
              "\n",
              "          const docLinkHtml = 'Like what you see? Visit the ' +\n",
              "            '<a target=\"_blank\" href=https://colab.research.google.com/notebooks/data_table.ipynb>data table notebook</a>'\n",
              "            + ' to learn more about interactive tables.';\n",
              "          element.innerHTML = '';\n",
              "          dataTable['output_type'] = 'display_data';\n",
              "          await google.colab.output.renderOutput(dataTable, element);\n",
              "          const docLink = document.createElement('div');\n",
              "          docLink.innerHTML = docLinkHtml;\n",
              "          element.appendChild(docLink);\n",
              "        }\n",
              "      </script>\n",
              "    </div>\n",
              "  </div>\n",
              "  "
            ]
          },
          "metadata": {},
          "execution_count": 8
        }
      ]
    },
    {
      "cell_type": "code",
      "source": [
        "# Convert Wide to Long Format\n",
        "Umeta = pd.melt(pd_meta, id_vars='image', var_name='diagnosis', value_name='value').\\\n",
        "    sort_values('image').\\\n",
        "    reset_index(drop=True)\n",
        "\n",
        "# Select rows when diagnosis == 1\n",
        "Umeta = Umeta[Umeta['value'] == 1]\n",
        "Umeta.drop('value', inplace=True, axis = 1)\n",
        "Umeta.reset_index(inplace = True, drop = True)"
      ],
      "metadata": {
        "id": "b2lSqcpd-piN"
      },
      "execution_count": null,
      "outputs": []
    },
    {
      "cell_type": "code",
      "source": [
        "Umeta.head()"
      ],
      "metadata": {
        "colab": {
          "base_uri": "https://localhost:8080/",
          "height": 206
        },
        "id": "HG2B7LFH_Ucs",
        "outputId": "22544c2e-a0aa-4386-8c83-06dcf2f33853"
      },
      "execution_count": null,
      "outputs": [
        {
          "output_type": "execute_result",
          "data": {
            "text/plain": [
              "          image diagnosis\n",
              "0  ISIC_0000000        NV\n",
              "1  ISIC_0000001        NV\n",
              "2  ISIC_0000002       MEL\n",
              "3  ISIC_0000003        NV\n",
              "4  ISIC_0000004       MEL"
            ],
            "text/html": [
              "\n",
              "  <div id=\"df-6217abbd-c09c-4ae5-8703-23df71536c5c\">\n",
              "    <div class=\"colab-df-container\">\n",
              "      <div>\n",
              "<style scoped>\n",
              "    .dataframe tbody tr th:only-of-type {\n",
              "        vertical-align: middle;\n",
              "    }\n",
              "\n",
              "    .dataframe tbody tr th {\n",
              "        vertical-align: top;\n",
              "    }\n",
              "\n",
              "    .dataframe thead th {\n",
              "        text-align: right;\n",
              "    }\n",
              "</style>\n",
              "<table border=\"1\" class=\"dataframe\">\n",
              "  <thead>\n",
              "    <tr style=\"text-align: right;\">\n",
              "      <th></th>\n",
              "      <th>image</th>\n",
              "      <th>diagnosis</th>\n",
              "    </tr>\n",
              "  </thead>\n",
              "  <tbody>\n",
              "    <tr>\n",
              "      <th>0</th>\n",
              "      <td>ISIC_0000000</td>\n",
              "      <td>NV</td>\n",
              "    </tr>\n",
              "    <tr>\n",
              "      <th>1</th>\n",
              "      <td>ISIC_0000001</td>\n",
              "      <td>NV</td>\n",
              "    </tr>\n",
              "    <tr>\n",
              "      <th>2</th>\n",
              "      <td>ISIC_0000002</td>\n",
              "      <td>MEL</td>\n",
              "    </tr>\n",
              "    <tr>\n",
              "      <th>3</th>\n",
              "      <td>ISIC_0000003</td>\n",
              "      <td>NV</td>\n",
              "    </tr>\n",
              "    <tr>\n",
              "      <th>4</th>\n",
              "      <td>ISIC_0000004</td>\n",
              "      <td>MEL</td>\n",
              "    </tr>\n",
              "  </tbody>\n",
              "</table>\n",
              "</div>\n",
              "      <button class=\"colab-df-convert\" onclick=\"convertToInteractive('df-6217abbd-c09c-4ae5-8703-23df71536c5c')\"\n",
              "              title=\"Convert this dataframe to an interactive table.\"\n",
              "              style=\"display:none;\">\n",
              "        \n",
              "  <svg xmlns=\"http://www.w3.org/2000/svg\" height=\"24px\"viewBox=\"0 0 24 24\"\n",
              "       width=\"24px\">\n",
              "    <path d=\"M0 0h24v24H0V0z\" fill=\"none\"/>\n",
              "    <path d=\"M18.56 5.44l.94 2.06.94-2.06 2.06-.94-2.06-.94-.94-2.06-.94 2.06-2.06.94zm-11 1L8.5 8.5l.94-2.06 2.06-.94-2.06-.94L8.5 2.5l-.94 2.06-2.06.94zm10 10l.94 2.06.94-2.06 2.06-.94-2.06-.94-.94-2.06-.94 2.06-2.06.94z\"/><path d=\"M17.41 7.96l-1.37-1.37c-.4-.4-.92-.59-1.43-.59-.52 0-1.04.2-1.43.59L10.3 9.45l-7.72 7.72c-.78.78-.78 2.05 0 2.83L4 21.41c.39.39.9.59 1.41.59.51 0 1.02-.2 1.41-.59l7.78-7.78 2.81-2.81c.8-.78.8-2.07 0-2.86zM5.41 20L4 18.59l7.72-7.72 1.47 1.35L5.41 20z\"/>\n",
              "  </svg>\n",
              "      </button>\n",
              "      \n",
              "  <style>\n",
              "    .colab-df-container {\n",
              "      display:flex;\n",
              "      flex-wrap:wrap;\n",
              "      gap: 12px;\n",
              "    }\n",
              "\n",
              "    .colab-df-convert {\n",
              "      background-color: #E8F0FE;\n",
              "      border: none;\n",
              "      border-radius: 50%;\n",
              "      cursor: pointer;\n",
              "      display: none;\n",
              "      fill: #1967D2;\n",
              "      height: 32px;\n",
              "      padding: 0 0 0 0;\n",
              "      width: 32px;\n",
              "    }\n",
              "\n",
              "    .colab-df-convert:hover {\n",
              "      background-color: #E2EBFA;\n",
              "      box-shadow: 0px 1px 2px rgba(60, 64, 67, 0.3), 0px 1px 3px 1px rgba(60, 64, 67, 0.15);\n",
              "      fill: #174EA6;\n",
              "    }\n",
              "\n",
              "    [theme=dark] .colab-df-convert {\n",
              "      background-color: #3B4455;\n",
              "      fill: #D2E3FC;\n",
              "    }\n",
              "\n",
              "    [theme=dark] .colab-df-convert:hover {\n",
              "      background-color: #434B5C;\n",
              "      box-shadow: 0px 1px 3px 1px rgba(0, 0, 0, 0.15);\n",
              "      filter: drop-shadow(0px 1px 2px rgba(0, 0, 0, 0.3));\n",
              "      fill: #FFFFFF;\n",
              "    }\n",
              "  </style>\n",
              "\n",
              "      <script>\n",
              "        const buttonEl =\n",
              "          document.querySelector('#df-6217abbd-c09c-4ae5-8703-23df71536c5c button.colab-df-convert');\n",
              "        buttonEl.style.display =\n",
              "          google.colab.kernel.accessAllowed ? 'block' : 'none';\n",
              "\n",
              "        async function convertToInteractive(key) {\n",
              "          const element = document.querySelector('#df-6217abbd-c09c-4ae5-8703-23df71536c5c');\n",
              "          const dataTable =\n",
              "            await google.colab.kernel.invokeFunction('convertToInteractive',\n",
              "                                                     [key], {});\n",
              "          if (!dataTable) return;\n",
              "\n",
              "          const docLinkHtml = 'Like what you see? Visit the ' +\n",
              "            '<a target=\"_blank\" href=https://colab.research.google.com/notebooks/data_table.ipynb>data table notebook</a>'\n",
              "            + ' to learn more about interactive tables.';\n",
              "          element.innerHTML = '';\n",
              "          dataTable['output_type'] = 'display_data';\n",
              "          await google.colab.output.renderOutput(dataTable, element);\n",
              "          const docLink = document.createElement('div');\n",
              "          docLink.innerHTML = docLinkHtml;\n",
              "          element.appendChild(docLink);\n",
              "        }\n",
              "      </script>\n",
              "    </div>\n",
              "  </div>\n",
              "  "
            ]
          },
          "metadata": {},
          "execution_count": 10
        }
      ]
    },
    {
      "cell_type": "code",
      "source": [
        "meta['diagnosis'] = Umeta['diagnosis']"
      ],
      "metadata": {
        "id": "avsBZUAlQcnq"
      },
      "execution_count": null,
      "outputs": []
    },
    {
      "cell_type": "code",
      "source": [
        "meta.head()"
      ],
      "metadata": {
        "colab": {
          "base_uri": "https://localhost:8080/",
          "height": 206
        },
        "id": "QhHlP332Q4M3",
        "outputId": "1df568f2-cb22-4b41-eba4-2323afc993d1"
      },
      "execution_count": null,
      "outputs": [
        {
          "output_type": "execute_result",
          "data": {
            "text/plain": [
              "          image  age_approx anatom_site_general lesion_id     sex diagnosis\n",
              "0  ISIC_0000000        55.0      anterior torso       NaN  female        NV\n",
              "1  ISIC_0000001        30.0      anterior torso       NaN  female        NV\n",
              "2  ISIC_0000002        60.0     upper extremity       NaN  female       MEL\n",
              "3  ISIC_0000003        30.0     upper extremity       NaN    male        NV\n",
              "4  ISIC_0000004        80.0     posterior torso       NaN    male       MEL"
            ],
            "text/html": [
              "\n",
              "  <div id=\"df-59974428-3406-4c86-8f0c-652c6ad6b37f\">\n",
              "    <div class=\"colab-df-container\">\n",
              "      <div>\n",
              "<style scoped>\n",
              "    .dataframe tbody tr th:only-of-type {\n",
              "        vertical-align: middle;\n",
              "    }\n",
              "\n",
              "    .dataframe tbody tr th {\n",
              "        vertical-align: top;\n",
              "    }\n",
              "\n",
              "    .dataframe thead th {\n",
              "        text-align: right;\n",
              "    }\n",
              "</style>\n",
              "<table border=\"1\" class=\"dataframe\">\n",
              "  <thead>\n",
              "    <tr style=\"text-align: right;\">\n",
              "      <th></th>\n",
              "      <th>image</th>\n",
              "      <th>age_approx</th>\n",
              "      <th>anatom_site_general</th>\n",
              "      <th>lesion_id</th>\n",
              "      <th>sex</th>\n",
              "      <th>diagnosis</th>\n",
              "    </tr>\n",
              "  </thead>\n",
              "  <tbody>\n",
              "    <tr>\n",
              "      <th>0</th>\n",
              "      <td>ISIC_0000000</td>\n",
              "      <td>55.0</td>\n",
              "      <td>anterior torso</td>\n",
              "      <td>NaN</td>\n",
              "      <td>female</td>\n",
              "      <td>NV</td>\n",
              "    </tr>\n",
              "    <tr>\n",
              "      <th>1</th>\n",
              "      <td>ISIC_0000001</td>\n",
              "      <td>30.0</td>\n",
              "      <td>anterior torso</td>\n",
              "      <td>NaN</td>\n",
              "      <td>female</td>\n",
              "      <td>NV</td>\n",
              "    </tr>\n",
              "    <tr>\n",
              "      <th>2</th>\n",
              "      <td>ISIC_0000002</td>\n",
              "      <td>60.0</td>\n",
              "      <td>upper extremity</td>\n",
              "      <td>NaN</td>\n",
              "      <td>female</td>\n",
              "      <td>MEL</td>\n",
              "    </tr>\n",
              "    <tr>\n",
              "      <th>3</th>\n",
              "      <td>ISIC_0000003</td>\n",
              "      <td>30.0</td>\n",
              "      <td>upper extremity</td>\n",
              "      <td>NaN</td>\n",
              "      <td>male</td>\n",
              "      <td>NV</td>\n",
              "    </tr>\n",
              "    <tr>\n",
              "      <th>4</th>\n",
              "      <td>ISIC_0000004</td>\n",
              "      <td>80.0</td>\n",
              "      <td>posterior torso</td>\n",
              "      <td>NaN</td>\n",
              "      <td>male</td>\n",
              "      <td>MEL</td>\n",
              "    </tr>\n",
              "  </tbody>\n",
              "</table>\n",
              "</div>\n",
              "      <button class=\"colab-df-convert\" onclick=\"convertToInteractive('df-59974428-3406-4c86-8f0c-652c6ad6b37f')\"\n",
              "              title=\"Convert this dataframe to an interactive table.\"\n",
              "              style=\"display:none;\">\n",
              "        \n",
              "  <svg xmlns=\"http://www.w3.org/2000/svg\" height=\"24px\"viewBox=\"0 0 24 24\"\n",
              "       width=\"24px\">\n",
              "    <path d=\"M0 0h24v24H0V0z\" fill=\"none\"/>\n",
              "    <path d=\"M18.56 5.44l.94 2.06.94-2.06 2.06-.94-2.06-.94-.94-2.06-.94 2.06-2.06.94zm-11 1L8.5 8.5l.94-2.06 2.06-.94-2.06-.94L8.5 2.5l-.94 2.06-2.06.94zm10 10l.94 2.06.94-2.06 2.06-.94-2.06-.94-.94-2.06-.94 2.06-2.06.94z\"/><path d=\"M17.41 7.96l-1.37-1.37c-.4-.4-.92-.59-1.43-.59-.52 0-1.04.2-1.43.59L10.3 9.45l-7.72 7.72c-.78.78-.78 2.05 0 2.83L4 21.41c.39.39.9.59 1.41.59.51 0 1.02-.2 1.41-.59l7.78-7.78 2.81-2.81c.8-.78.8-2.07 0-2.86zM5.41 20L4 18.59l7.72-7.72 1.47 1.35L5.41 20z\"/>\n",
              "  </svg>\n",
              "      </button>\n",
              "      \n",
              "  <style>\n",
              "    .colab-df-container {\n",
              "      display:flex;\n",
              "      flex-wrap:wrap;\n",
              "      gap: 12px;\n",
              "    }\n",
              "\n",
              "    .colab-df-convert {\n",
              "      background-color: #E8F0FE;\n",
              "      border: none;\n",
              "      border-radius: 50%;\n",
              "      cursor: pointer;\n",
              "      display: none;\n",
              "      fill: #1967D2;\n",
              "      height: 32px;\n",
              "      padding: 0 0 0 0;\n",
              "      width: 32px;\n",
              "    }\n",
              "\n",
              "    .colab-df-convert:hover {\n",
              "      background-color: #E2EBFA;\n",
              "      box-shadow: 0px 1px 2px rgba(60, 64, 67, 0.3), 0px 1px 3px 1px rgba(60, 64, 67, 0.15);\n",
              "      fill: #174EA6;\n",
              "    }\n",
              "\n",
              "    [theme=dark] .colab-df-convert {\n",
              "      background-color: #3B4455;\n",
              "      fill: #D2E3FC;\n",
              "    }\n",
              "\n",
              "    [theme=dark] .colab-df-convert:hover {\n",
              "      background-color: #434B5C;\n",
              "      box-shadow: 0px 1px 3px 1px rgba(0, 0, 0, 0.15);\n",
              "      filter: drop-shadow(0px 1px 2px rgba(0, 0, 0, 0.3));\n",
              "      fill: #FFFFFF;\n",
              "    }\n",
              "  </style>\n",
              "\n",
              "      <script>\n",
              "        const buttonEl =\n",
              "          document.querySelector('#df-59974428-3406-4c86-8f0c-652c6ad6b37f button.colab-df-convert');\n",
              "        buttonEl.style.display =\n",
              "          google.colab.kernel.accessAllowed ? 'block' : 'none';\n",
              "\n",
              "        async function convertToInteractive(key) {\n",
              "          const element = document.querySelector('#df-59974428-3406-4c86-8f0c-652c6ad6b37f');\n",
              "          const dataTable =\n",
              "            await google.colab.kernel.invokeFunction('convertToInteractive',\n",
              "                                                     [key], {});\n",
              "          if (!dataTable) return;\n",
              "\n",
              "          const docLinkHtml = 'Like what you see? Visit the ' +\n",
              "            '<a target=\"_blank\" href=https://colab.research.google.com/notebooks/data_table.ipynb>data table notebook</a>'\n",
              "            + ' to learn more about interactive tables.';\n",
              "          element.innerHTML = '';\n",
              "          dataTable['output_type'] = 'display_data';\n",
              "          await google.colab.output.renderOutput(dataTable, element);\n",
              "          const docLink = document.createElement('div');\n",
              "          docLink.innerHTML = docLinkHtml;\n",
              "          element.appendChild(docLink);\n",
              "        }\n",
              "      </script>\n",
              "    </div>\n",
              "  </div>\n",
              "  "
            ]
          },
          "metadata": {},
          "execution_count": 12
        }
      ]
    },
    {
      "cell_type": "code",
      "source": [
        "meta['diagnosis'].value_counts()"
      ],
      "metadata": {
        "colab": {
          "base_uri": "https://localhost:8080/"
        },
        "id": "jNh0Ds1Rr-ys",
        "outputId": "59f7a84a-4064-463e-947f-6dbb7f795811"
      },
      "execution_count": null,
      "outputs": [
        {
          "output_type": "execute_result",
          "data": {
            "text/plain": [
              "NV      12875\n",
              "MEL      4522\n",
              "BCC      3323\n",
              "BKL      2624\n",
              "AK        867\n",
              "SCC       628\n",
              "VASC      253\n",
              "DF        239\n",
              "Name: diagnosis, dtype: int64"
            ]
          },
          "metadata": {},
          "execution_count": 13
        }
      ]
    },
    {
      "cell_type": "markdown",
      "source": [
        "# read meta"
      ],
      "metadata": {
        "id": "FtfYh-wlJHej"
      }
    },
    {
      "cell_type": "code",
      "source": [
        "# metadata_path=\"/content/ISIC_2020_Training_GroundTruth_v2.csv\"\n",
        "# meta = pd.read_csv(metadata_path)\n",
        "meta=meta[:records_count]\n",
        "images = meta['image']\n",
        "target = meta['diagnosis']"
      ],
      "metadata": {
        "id": "fTS_QdvSL042"
      },
      "execution_count": null,
      "outputs": []
    },
    {
      "cell_type": "code",
      "source": [
        "meta['sex']=meta['sex'].map({'female': 2, 'male': 1})\n",
        "meta['sex']=meta['sex'].fillna(0)"
      ],
      "metadata": {
        "id": "bwZny2nrStzy",
        "colab": {
          "base_uri": "https://localhost:8080/"
        },
        "outputId": "a84ef4d4-cfdd-4b52-d78e-f953c56241be"
      },
      "execution_count": null,
      "outputs": [
        {
          "output_type": "stream",
          "name": "stderr",
          "text": [
            "/usr/local/lib/python3.7/dist-packages/ipykernel_launcher.py:1: SettingWithCopyWarning: \n",
            "A value is trying to be set on a copy of a slice from a DataFrame.\n",
            "Try using .loc[row_indexer,col_indexer] = value instead\n",
            "\n",
            "See the caveats in the documentation: https://pandas.pydata.org/pandas-docs/stable/user_guide/indexing.html#returning-a-view-versus-a-copy\n",
            "  \"\"\"Entry point for launching an IPython kernel.\n",
            "/usr/local/lib/python3.7/dist-packages/ipykernel_launcher.py:2: SettingWithCopyWarning: \n",
            "A value is trying to be set on a copy of a slice from a DataFrame.\n",
            "Try using .loc[row_indexer,col_indexer] = value instead\n",
            "\n",
            "See the caveats in the documentation: https://pandas.pydata.org/pandas-docs/stable/user_guide/indexing.html#returning-a-view-versus-a-copy\n",
            "  \n"
          ]
        }
      ]
    },
    {
      "cell_type": "code",
      "source": [
        "meta['age_approx'].count()"
      ],
      "metadata": {
        "id": "LcGWYNaw1rr_",
        "outputId": "e1c9c25f-04d5-4997-85c4-0e5336d2afb1",
        "colab": {
          "base_uri": "https://localhost:8080/"
        }
      },
      "execution_count": null,
      "outputs": [
        {
          "output_type": "execute_result",
          "data": {
            "text/plain": [
              "9688"
            ]
          },
          "metadata": {},
          "execution_count": 16
        }
      ]
    },
    {
      "cell_type": "code",
      "source": [
        "meta['age_approx']=meta['age_approx'].fillna(-1)"
      ],
      "metadata": {
        "id": "lQgeJeod14Ts",
        "colab": {
          "base_uri": "https://localhost:8080/"
        },
        "outputId": "d9428c17-71ab-421a-fb19-c341253d1fe0"
      },
      "execution_count": null,
      "outputs": [
        {
          "output_type": "stream",
          "name": "stderr",
          "text": [
            "/usr/local/lib/python3.7/dist-packages/ipykernel_launcher.py:1: SettingWithCopyWarning: \n",
            "A value is trying to be set on a copy of a slice from a DataFrame.\n",
            "Try using .loc[row_indexer,col_indexer] = value instead\n",
            "\n",
            "See the caveats in the documentation: https://pandas.pydata.org/pandas-docs/stable/user_guide/indexing.html#returning-a-view-versus-a-copy\n",
            "  \"\"\"Entry point for launching an IPython kernel.\n"
          ]
        }
      ]
    },
    {
      "cell_type": "code",
      "source": [
        "meta['age_approx'].count()"
      ],
      "metadata": {
        "outputId": "a728d19c-6397-4fbe-91e1-388785386e30",
        "colab": {
          "base_uri": "https://localhost:8080/"
        },
        "id": "RnYWSUoexd_p"
      },
      "execution_count": null,
      "outputs": [
        {
          "output_type": "execute_result",
          "data": {
            "text/plain": [
              "10000"
            ]
          },
          "metadata": {},
          "execution_count": 18
        }
      ]
    },
    {
      "cell_type": "code",
      "source": [
        "will_be_hot=[]\n",
        "for i in meta.columns:\n",
        "  if meta[i].dtypes=='O':\n",
        "    print(i)\n",
        "    will_be_hot.append(i)"
      ],
      "metadata": {
        "colab": {
          "base_uri": "https://localhost:8080/"
        },
        "id": "zQaxI23pTCb6",
        "outputId": "917f85f3-c2e5-41e2-aaf1-17256c0fc565"
      },
      "execution_count": null,
      "outputs": [
        {
          "output_type": "stream",
          "name": "stdout",
          "text": [
            "image\n",
            "anatom_site_general\n",
            "lesion_id\n",
            "diagnosis\n"
          ]
        }
      ]
    },
    {
      "cell_type": "markdown",
      "source": [
        "#pre-processing"
      ],
      "metadata": {
        "id": "MriVq4rYpEiF"
      }
    },
    {
      "cell_type": "code",
      "source": [
        "for hot in will_be_hot:\n",
        "  if hot==\"image\" :\n",
        "    continue\n",
        "  ls=meta[hot].values.tolist()\n",
        "  le = preprocessing.LabelEncoder()\n",
        "  meta[hot] = le.fit_transform(meta[hot]) "
      ],
      "metadata": {
        "id": "5T0VTNqAr1RS"
      },
      "execution_count": null,
      "outputs": []
    },
    {
      "cell_type": "code",
      "source": [
        "# #getting features from images\n",
        "from keras.applications.efficientnet import EfficientNetB4\n",
        "import random as rn\n",
        "import tensorflow as tf\n",
        "import numpy as np\n",
        "from keras import backend as K\n",
        "\n",
        "from keras import applications\n",
        "from keras.applications.efficientnet import EfficientNetB4\n",
        "from keras.models import Sequential\n",
        "from keras.layers import Dense, Dropout, Activation\n",
        "\n",
        "# seed=1   \n",
        "num_cores=1  \n",
        "os.environ['PYTHONHASHSEED'] = '0'                      \n",
        "np.random.seed(seed)\n",
        "rn.seed(seed)\n",
        "tf.random.set_seed(seed)\n",
        "session_conf = tf.compat.v1.ConfigProto(intra_op_parallelism_threads=num_cores,\n",
        "                              inter_op_parallelism_threads=num_cores, \n",
        "                              allow_soft_placement=True,\n",
        "                              device_count = {'CPU' : 1, 'GPU' : 0})\n",
        "sess = tf.compat.v1.Session(graph=tf.compat.v1.get_default_graph(), config=session_conf)\n",
        "K.set_session(sess)\n",
        "\n",
        "#getting features from images\n",
        "model = tf.keras.applications.MobileNetV2(input_shape=(380, 380, 3), include_top=False, weights='imagenet')"
      ],
      "metadata": {
        "id": "lIDJKUQGOI_9",
        "colab": {
          "base_uri": "https://localhost:8080/"
        },
        "outputId": "7b080f1c-645f-4a04-80c8-7f7ae2b3c7d4"
      },
      "execution_count": null,
      "outputs": [
        {
          "output_type": "stream",
          "name": "stderr",
          "text": [
            "WARNING:tensorflow:`input_shape` is undefined or non-square, or `rows` is not in [96, 128, 160, 192, 224]. Weights for input shape (224, 224) will be loaded as the default.\n"
          ]
        },
        {
          "output_type": "stream",
          "name": "stdout",
          "text": [
            "Downloading data from https://storage.googleapis.com/tensorflow/keras-applications/mobilenet_v2/mobilenet_v2_weights_tf_dim_ordering_tf_kernels_1.0_224_no_top.h5\n",
            "9406464/9406464 [==============================] - 0s 0us/step\n"
          ]
        }
      ]
    },
    {
      "cell_type": "code",
      "source": [
        "from tqdm import tqdm\n",
        "for indx,i in enumerate(tqdm(meta['image'][:5000])):\n",
        "    path=os.path.join(\"/content/ISIC_2019_Training_Input/\",i)\n",
        "    image=tf.keras.utils.load_img(path+'.jpg',target_size=(380,380))\n",
        "    input_arr = tf.keras.preprocessing.image.img_to_array(image)\n",
        "    input_arr = cv2.cvtColor(input_arr,cv2.COLOR_BGR2RGB)\n",
        "    input_arr=np.array([input_arr])\n",
        "    input_arr=input_arr/255\n",
        "    features=model.predict(input_arr)\n",
        "    nx, ny,_ = features[0].shape\n",
        "    d2_train_dataset = features[0].reshape(nx*ny*_)\n",
        "    meta['image'][indx]=d2_train_dataset"
      ],
      "metadata": {
        "id": "zoV9VIyNpklF"
      },
      "execution_count": null,
      "outputs": []
    },
    {
      "cell_type": "code",
      "source": [
        "from tqdm import tqdm\n",
        "for indx,i in enumerate(tqdm(meta['image'][5000:])):\n",
        "    path=os.path.join(\"/content/ISIC_2019_Training_Input/\",i)\n",
        "    image=tf.keras.utils.load_img(path+'.jpg',target_size=(380,380))\n",
        "    input_arr = tf.keras.preprocessing.image.img_to_array(image)\n",
        "    input_arr = cv2.cvtColor(input_arr,cv2.COLOR_BGR2RGB)\n",
        "    input_arr=np.array([input_arr])\n",
        "    input_arr=input_arr/255\n",
        "    features=model.predict(input_arr)\n",
        "    nx, ny,_ = features[0].shape\n",
        "    d2_train_dataset = features[0].reshape(nx*ny*_)\n",
        "    meta['image'][indx]=d2_train_dataset"
      ],
      "metadata": {
        "id": "AhrDVTKjzqgl"
      },
      "execution_count": null,
      "outputs": []
    },
    {
      "cell_type": "code",
      "source": [
        "type(i)==int"
      ],
      "metadata": {
        "id": "JeRelAwa4lMi",
        "outputId": "a7ae4a63-313f-45f5-8318-f20873c1807e",
        "colab": {
          "base_uri": "https://localhost:8080/"
        }
      },
      "execution_count": null,
      "outputs": [
        {
          "output_type": "execute_result",
          "data": {
            "text/plain": [
              "False"
            ]
          },
          "metadata": {},
          "execution_count": 24
        }
      ]
    },
    {
      "cell_type": "code",
      "source": [
        "for indx,i in enumerate(tqdm(meta['image'])):\n",
        "    if type(i)==str:\n",
        "      path=os.path.join(\"/content/ISIC_2019_Training_Input/\",i)\n",
        "      image=tf.keras.utils.load_img(path+'.jpg',target_size=(380,380))\n",
        "      input_arr = tf.keras.preprocessing.image.img_to_array(image)\n",
        "      input_arr = cv2.cvtColor(input_arr,cv2.COLOR_BGR2RGB)\n",
        "      input_arr=np.array([input_arr])\n",
        "      input_arr=input_arr/255\n",
        "      features=model.predict(input_arr)\n",
        "      nx, ny,_ = features[0].shape\n",
        "      d2_train_dataset = features[0].reshape(nx*ny*_)\n",
        "      meta['image'][indx]=d2_train_dataset\n",
        "      "
      ],
      "metadata": {
        "id": "OXjqaPP64drM"
      },
      "execution_count": null,
      "outputs": []
    },
    {
      "cell_type": "markdown",
      "source": [
        "#split data"
      ],
      "metadata": {
        "id": "SH4i9YhcJlUR"
      }
    },
    {
      "cell_type": "code",
      "source": [
        "train,test0=train_test_split(meta,test_size=0.2,random_state=seed)\n",
        "valid,test=train_test_split(test0,test_size=0.5,random_state=seed)"
      ],
      "metadata": {
        "id": "CZJ_JBEuTJ3t"
      },
      "execution_count": null,
      "outputs": []
    },
    {
      "cell_type": "code",
      "source": [
        "train['image'].shape"
      ],
      "metadata": {
        "id": "5EsQDoWRxS-4",
        "outputId": "adb7a163-7164-4240-a3cc-287db80fe948",
        "colab": {
          "base_uri": "https://localhost:8080/"
        }
      },
      "execution_count": null,
      "outputs": [
        {
          "output_type": "execute_result",
          "data": {
            "text/plain": [
              "(8000,)"
            ]
          },
          "metadata": {},
          "execution_count": 27
        }
      ]
    },
    {
      "cell_type": "code",
      "source": [
        "meta[:records_count]['diagnosis'].unique()"
      ],
      "metadata": {
        "id": "KkGPVwpjBc-i",
        "outputId": "3f65df03-5c3d-4e81-dc5e-469107db3c87",
        "colab": {
          "base_uri": "https://localhost:8080/"
        }
      },
      "execution_count": null,
      "outputs": [
        {
          "output_type": "execute_result",
          "data": {
            "text/plain": [
              "array([5, 4, 2, 3, 6, 1, 7, 0])"
            ]
          },
          "metadata": {},
          "execution_count": 28
        }
      ]
    },
    {
      "cell_type": "code",
      "source": [
        "meta['diagnosis'].unique()"
      ],
      "metadata": {
        "id": "0c7bFagWBnOm",
        "outputId": "7d6e18c1-0fe6-4a34-dc1a-de142cafad02",
        "colab": {
          "base_uri": "https://localhost:8080/"
        }
      },
      "execution_count": null,
      "outputs": [
        {
          "output_type": "execute_result",
          "data": {
            "text/plain": [
              "array([5, 4, 2, 3, 6, 1, 7, 0])"
            ]
          },
          "metadata": {},
          "execution_count": 29
        }
      ]
    },
    {
      "cell_type": "code",
      "source": [
        "imgF=[]\n",
        "for indx in train.index:\n",
        "  imgF.append(train['image'][indx])\n",
        "imgF_tst=[]\n",
        "for indx in test.index:\n",
        "  imgF_tst.append(test['image'][indx])"
      ],
      "metadata": {
        "id": "HOyoKBD8QE2v"
      },
      "execution_count": null,
      "outputs": []
    },
    {
      "cell_type": "code",
      "source": [
        "imgF_valid=[]\n",
        "for indx in valid.index:\n",
        "  imgF_valid.append(valid['image'][indx])"
      ],
      "metadata": {
        "id": "7KC8xBT6EFlt"
      },
      "execution_count": null,
      "outputs": []
    },
    {
      "cell_type": "code",
      "source": [
        "target=train['diagnosis']\n",
        "x=train.drop(['diagnosis','image'],axis=1)\n",
        "\n",
        "target_test=test['diagnosis']\n",
        "x_test=test.drop(['diagnosis','image'],axis=1)"
      ],
      "metadata": {
        "id": "7X8uL8L4z0k4"
      },
      "execution_count": null,
      "outputs": []
    },
    {
      "cell_type": "code",
      "source": [
        "target_valid=valid['diagnosis']\n",
        "x_valid=valid.drop(['diagnosis','image'],axis=1)"
      ],
      "metadata": {
        "id": "C7EJ0T3ZETem"
      },
      "execution_count": null,
      "outputs": []
    },
    {
      "cell_type": "code",
      "source": [
        "np.unique(target)"
      ],
      "metadata": {
        "id": "mK5N_YOYdI2e",
        "outputId": "a83f603b-1813-4661-dff1-34b70b700cd2",
        "colab": {
          "base_uri": "https://localhost:8080/"
        }
      },
      "execution_count": null,
      "outputs": [
        {
          "output_type": "execute_result",
          "data": {
            "text/plain": [
              "array([0, 1, 2, 3, 4, 5, 6, 7])"
            ]
          },
          "metadata": {},
          "execution_count": 35
        }
      ]
    },
    {
      "cell_type": "code",
      "source": [
        "from sklearn.ensemble import RandomForestClassifier\n",
        "from sklearn.linear_model import LogisticRegression\n",
        "from sklearn.linear_model import SGDClassifier\n",
        "meta_clf = RandomForestClassifier(random_state=seed)\n",
        "img_clf = LogisticRegression(random_state=seed,warm_start=True)\n",
        "\n",
        "img_clf.fit(imgF[:1000], target[:1000])\n",
        "img_clf.fit(imgF[1000:2000], target[1000:2000])\n",
        "img_clf.fit(imgF[2000:3000], target[2000:3000])\n",
        "img_clf.fit(imgF[3000:4000], target[3000:4000])"
      ],
      "metadata": {
        "id": "0jbQaWJM3cnn",
        "outputId": "47821a83-dc63-407d-ac81-2e9b474244fb",
        "colab": {
          "base_uri": "https://localhost:8080/"
        }
      },
      "execution_count": null,
      "outputs": [
        {
          "output_type": "stream",
          "name": "stderr",
          "text": [
            "/usr/local/lib/python3.7/dist-packages/sklearn/linear_model/_logistic.py:818: ConvergenceWarning: lbfgs failed to converge (status=1):\n",
            "STOP: TOTAL NO. of ITERATIONS REACHED LIMIT.\n",
            "\n",
            "Increase the number of iterations (max_iter) or scale the data as shown in:\n",
            "    https://scikit-learn.org/stable/modules/preprocessing.html\n",
            "Please also refer to the documentation for alternative solver options:\n",
            "    https://scikit-learn.org/stable/modules/linear_model.html#logistic-regression\n",
            "  extra_warning_msg=_LOGISTIC_SOLVER_CONVERGENCE_MSG,\n",
            "/usr/local/lib/python3.7/dist-packages/sklearn/linear_model/_logistic.py:818: ConvergenceWarning: lbfgs failed to converge (status=1):\n",
            "STOP: TOTAL NO. of ITERATIONS REACHED LIMIT.\n",
            "\n",
            "Increase the number of iterations (max_iter) or scale the data as shown in:\n",
            "    https://scikit-learn.org/stable/modules/preprocessing.html\n",
            "Please also refer to the documentation for alternative solver options:\n",
            "    https://scikit-learn.org/stable/modules/linear_model.html#logistic-regression\n",
            "  extra_warning_msg=_LOGISTIC_SOLVER_CONVERGENCE_MSG,\n",
            "/usr/local/lib/python3.7/dist-packages/sklearn/linear_model/_logistic.py:818: ConvergenceWarning: lbfgs failed to converge (status=1):\n",
            "STOP: TOTAL NO. of ITERATIONS REACHED LIMIT.\n",
            "\n",
            "Increase the number of iterations (max_iter) or scale the data as shown in:\n",
            "    https://scikit-learn.org/stable/modules/preprocessing.html\n",
            "Please also refer to the documentation for alternative solver options:\n",
            "    https://scikit-learn.org/stable/modules/linear_model.html#logistic-regression\n",
            "  extra_warning_msg=_LOGISTIC_SOLVER_CONVERGENCE_MSG,\n",
            "/usr/local/lib/python3.7/dist-packages/sklearn/linear_model/_logistic.py:818: ConvergenceWarning: lbfgs failed to converge (status=1):\n",
            "STOP: TOTAL NO. of ITERATIONS REACHED LIMIT.\n",
            "\n",
            "Increase the number of iterations (max_iter) or scale the data as shown in:\n",
            "    https://scikit-learn.org/stable/modules/preprocessing.html\n",
            "Please also refer to the documentation for alternative solver options:\n",
            "    https://scikit-learn.org/stable/modules/linear_model.html#logistic-regression\n",
            "  extra_warning_msg=_LOGISTIC_SOLVER_CONVERGENCE_MSG,\n"
          ]
        },
        {
          "output_type": "execute_result",
          "data": {
            "text/plain": [
              "LogisticRegression(random_state=101, warm_start=True)"
            ]
          },
          "metadata": {},
          "execution_count": 36
        }
      ]
    },
    {
      "cell_type": "code",
      "source": [
        "img_clf.fit(imgF[4000:5000], target[4000:5000])\n",
        "img_clf.fit(imgF[5000:6000], target[5000:6000])\n",
        "img_clf.fit(imgF[6000:7000], target[6000:7000])\n",
        "img_clf.fit(imgF[7000:8000], target[7000:8000])"
      ],
      "metadata": {
        "id": "thKjzFankSFV",
        "outputId": "6633aba8-0745-46e0-ad90-186cdd7de69c",
        "colab": {
          "base_uri": "https://localhost:8080/"
        }
      },
      "execution_count": null,
      "outputs": [
        {
          "output_type": "stream",
          "name": "stderr",
          "text": [
            "/usr/local/lib/python3.7/dist-packages/sklearn/linear_model/_logistic.py:818: ConvergenceWarning: lbfgs failed to converge (status=1):\n",
            "STOP: TOTAL NO. of ITERATIONS REACHED LIMIT.\n",
            "\n",
            "Increase the number of iterations (max_iter) or scale the data as shown in:\n",
            "    https://scikit-learn.org/stable/modules/preprocessing.html\n",
            "Please also refer to the documentation for alternative solver options:\n",
            "    https://scikit-learn.org/stable/modules/linear_model.html#logistic-regression\n",
            "  extra_warning_msg=_LOGISTIC_SOLVER_CONVERGENCE_MSG,\n",
            "/usr/local/lib/python3.7/dist-packages/sklearn/linear_model/_logistic.py:818: ConvergenceWarning: lbfgs failed to converge (status=1):\n",
            "STOP: TOTAL NO. of ITERATIONS REACHED LIMIT.\n",
            "\n",
            "Increase the number of iterations (max_iter) or scale the data as shown in:\n",
            "    https://scikit-learn.org/stable/modules/preprocessing.html\n",
            "Please also refer to the documentation for alternative solver options:\n",
            "    https://scikit-learn.org/stable/modules/linear_model.html#logistic-regression\n",
            "  extra_warning_msg=_LOGISTIC_SOLVER_CONVERGENCE_MSG,\n",
            "/usr/local/lib/python3.7/dist-packages/sklearn/linear_model/_logistic.py:818: ConvergenceWarning: lbfgs failed to converge (status=1):\n",
            "STOP: TOTAL NO. of ITERATIONS REACHED LIMIT.\n",
            "\n",
            "Increase the number of iterations (max_iter) or scale the data as shown in:\n",
            "    https://scikit-learn.org/stable/modules/preprocessing.html\n",
            "Please also refer to the documentation for alternative solver options:\n",
            "    https://scikit-learn.org/stable/modules/linear_model.html#logistic-regression\n",
            "  extra_warning_msg=_LOGISTIC_SOLVER_CONVERGENCE_MSG,\n",
            "/usr/local/lib/python3.7/dist-packages/sklearn/linear_model/_logistic.py:818: ConvergenceWarning: lbfgs failed to converge (status=1):\n",
            "STOP: TOTAL NO. of ITERATIONS REACHED LIMIT.\n",
            "\n",
            "Increase the number of iterations (max_iter) or scale the data as shown in:\n",
            "    https://scikit-learn.org/stable/modules/preprocessing.html\n",
            "Please also refer to the documentation for alternative solver options:\n",
            "    https://scikit-learn.org/stable/modules/linear_model.html#logistic-regression\n",
            "  extra_warning_msg=_LOGISTIC_SOLVER_CONVERGENCE_MSG,\n"
          ]
        },
        {
          "output_type": "execute_result",
          "data": {
            "text/plain": [
              "LogisticRegression(random_state=101, warm_start=True)"
            ]
          },
          "metadata": {},
          "execution_count": 37
        }
      ]
    },
    {
      "cell_type": "code",
      "source": [
        "meta_clf.fit(x, target)"
      ],
      "metadata": {
        "id": "P3j4Aabw7RrE",
        "outputId": "4bdce830-05c5-4137-a59e-09031b5a3bae",
        "colab": {
          "base_uri": "https://localhost:8080/"
        }
      },
      "execution_count": null,
      "outputs": [
        {
          "output_type": "execute_result",
          "data": {
            "text/plain": [
              "RandomForestClassifier(random_state=101)"
            ]
          },
          "metadata": {},
          "execution_count": 38
        }
      ]
    },
    {
      "cell_type": "code",
      "source": [
        "import numpy as np\n",
        "from sklearn import metrics\n",
        "import matplotlib.pyplot as plt\n",
        "from sklearn.preprocessing import LabelBinarizer\n",
        "import seaborn as sns\n",
        "\n",
        "def multiclass_roc_auc_score(y_test, y_pred, average=\"weighted\"):\n",
        "        lb = LabelBinarizer()\n",
        "        lb.fit(y_test)\n",
        "        y_test = lb.transform(y_test)\n",
        "        y_pred = lb.transform(y_pred)\n",
        "\n",
        "        return  metrics.accuracy_score(y_test,y_pred)\n",
        "        # return metrics.roc_auc_score(y_test, y_pred, average=average)"
      ],
      "metadata": {
        "id": "eRuzKwf8Xcxw"
      },
      "execution_count": null,
      "outputs": []
    },
    {
      "cell_type": "markdown",
      "source": [
        "#meta + image in one model"
      ],
      "metadata": {
        "id": "lErH-F2YZQDe"
      }
    },
    {
      "cell_type": "code",
      "source": [
        "predicted_img_labels_tst = img_clf.predict_proba(imgF_tst)\n",
        "predicted_meta_labels_tst = meta_clf.predict_proba(x_test)"
      ],
      "metadata": {
        "id": "pSYE0lZ-DclU"
      },
      "execution_count": null,
      "outputs": []
    },
    {
      "cell_type": "code",
      "source": [
        "predicted_img_labels_valid = img_clf.predict_proba(imgF_valid)\n",
        "predicted_meta_labels_valid = meta_clf.predict_proba(x_valid)"
      ],
      "metadata": {
        "id": "nzImJvPVEhds"
      },
      "execution_count": null,
      "outputs": []
    },
    {
      "cell_type": "code",
      "source": [
        "# pre_img=[]\n",
        "# for i in predicted_img_labels_valid:\n",
        "#   pre_img.append(np.argmax(i))\n",
        "# pre_meta=[]\n",
        "# for i in predicted_meta_labels_valid:\n",
        "#   pre_meta.append(np.argmax(i))\n",
        "\n",
        "pre_img=[]\n",
        "for i in predicted_img_labels_tst:\n",
        "  pre_img.append(np.argmax(i))\n",
        "pre_meta=[]\n",
        "for i in predicted_meta_labels_tst:\n",
        "  pre_meta.append(np.argmax(i))\n"
      ],
      "metadata": {
        "id": "qVBDJ7JIiKb5"
      },
      "execution_count": null,
      "outputs": []
    },
    {
      "cell_type": "code",
      "source": [
        "print('img',multiclass_roc_auc_score(pre_img,target_test)*100)\n",
        "print('meta',multiclass_roc_auc_score(pre_meta,target_test)*100)"
      ],
      "metadata": {
        "id": "x2pwx5Pt_ZrX",
        "outputId": "babad31c-c0ad-41df-fc1b-e8564b8dc81d",
        "colab": {
          "base_uri": "https://localhost:8080/"
        }
      },
      "execution_count": null,
      "outputs": [
        {
          "output_type": "stream",
          "name": "stdout",
          "text": [
            "img 58.199999999999996\n",
            "meta 75.8\n"
          ]
        }
      ]
    },
    {
      "cell_type": "code",
      "source": [
        "from sklearn.metrics import precision_score, recall_score, f1_score\n",
        "print(\"Precision_score: \",precision_score(pre_img,target_test, average='weighted')*100)\n",
        "print(\"Recall_score: \",recall_score(pre_img,target_test, average='weighted')*100)\n",
        "print(\"F1_score: \",f1_score(pre_img,target_test, average='weighted')*100)"
      ],
      "metadata": {
        "id": "R42BqBmQakcW",
        "outputId": "ff47b77c-2955-4734-cf9b-d6be3e7d4293",
        "colab": {
          "base_uri": "https://localhost:8080/"
        }
      },
      "execution_count": null,
      "outputs": [
        {
          "output_type": "stream",
          "name": "stdout",
          "text": [
            "Precision_score:  65.38006056267052\n",
            "Recall_score:  58.199999999999996\n",
            "F1_score:  61.49497013544507\n"
          ]
        }
      ]
    },
    {
      "cell_type": "code",
      "source": [
        "from sklearn.metrics import precision_score, recall_score, f1_score\n",
        "print(\"Precision_score: \",precision_score(pre_meta,target_test, average='weighted')*100)\n",
        "print(\"Recall_score: \",recall_score(pre_meta,target_test, average='weighted')*100)\n",
        "print(\"F1_score: \",f1_score(pre_meta,target_test, average='weighted')*100)"
      ],
      "metadata": {
        "id": "pydemIBSal80",
        "outputId": "6f0bcd65-4071-4173-e4c9-f24db3979b09",
        "colab": {
          "base_uri": "https://localhost:8080/"
        }
      },
      "execution_count": null,
      "outputs": [
        {
          "output_type": "stream",
          "name": "stdout",
          "text": [
            "Precision_score:  75.99511725772594\n",
            "Recall_score:  75.8\n",
            "F1_score:  75.85562607746236\n"
          ]
        }
      ]
    },
    {
      "cell_type": "code",
      "source": [
        "all_x=[]\n",
        "all_im=[]\n",
        "all_y=[]\n",
        "for i in range(len(predicted_meta_labels_valid)):\n",
        "  all_x.append(predicted_meta_labels_valid[i])\n",
        "  all_im.append(predicted_img_labels_valid[i])\n",
        "  all_y.append(target_valid.iloc[i])\n",
        "\n",
        "  \n",
        "  all_x.append(predicted_meta_labels_tst[i])\n",
        "  all_im.append(predicted_img_labels_tst[i])\n",
        "  all_y.append(target_test.iloc[i])"
      ],
      "metadata": {
        "id": "1kti0Ihw4UiN"
      },
      "execution_count": null,
      "outputs": []
    },
    {
      "cell_type": "code",
      "source": [
        "# df = pd.DataFrame(lst)\n",
        "dict = {'meta': all_x, 'image': all_im, 'label': all_y} \n",
        "df = pd.DataFrame(dict)"
      ],
      "metadata": {
        "id": "tbV_QqmwJxZQ"
      },
      "execution_count": null,
      "outputs": []
    },
    {
      "cell_type": "code",
      "source": [
        "df"
      ],
      "metadata": {
        "id": "oeHFFjSfLGnQ",
        "outputId": "979f2a8c-fd53-403e-e4b3-bc94147049ae",
        "colab": {
          "base_uri": "https://localhost:8080/",
          "height": 424
        }
      },
      "execution_count": null,
      "outputs": [
        {
          "output_type": "execute_result",
          "data": {
            "text/plain": [
              "                                                   meta  \\\n",
              "0         [0.01, 0.03, 0.17, 0.0, 0.08, 0.7, 0.0, 0.01]   \n",
              "1              [0.0, 0.0, 0.0, 0.0, 0.0, 1.0, 0.0, 0.0]   \n",
              "2              [0.0, 0.0, 0.0, 0.0, 0.0, 1.0, 0.0, 0.0]   \n",
              "3     [0.0, 0.0, 0.06713854644928813, 0.0, 0.0585200...   \n",
              "4     [0.0, 0.0, 0.14882460594960598, 0.0, 0.5636865...   \n",
              "...                                                 ...   \n",
              "1995         [0.0, 0.0, 0.01, 0.0, 0.0, 0.99, 0.0, 0.0]   \n",
              "1996         [0.0, 0.0, 0.0, 0.0, 0.02, 0.98, 0.0, 0.0]   \n",
              "1997         [0.0, 0.0, 0.0, 0.0, 0.23, 0.77, 0.0, 0.0]   \n",
              "1998       [0.0, 0.0, 0.31, 0.52, 0.03, 0.14, 0.0, 0.0]   \n",
              "1999  [0.0, 0.0, 0.36, 0.0, 0.0011111111111111111, 0...   \n",
              "\n",
              "                                                  image  label  \n",
              "0     [6.094134044078359e-14, 1.514751498118353e-11,...      5  \n",
              "1     [7.06305233390826e-16, 3.6796194643112944e-17,...      5  \n",
              "2     [5.378105488970912e-12, 6.161557352240286e-12,...      5  \n",
              "3     [1.1734255957087268e-09, 1.0850505354356207e-1...      5  \n",
              "4     [1.7809379057914367e-16, 6.5759824453553015e-1...      5  \n",
              "...                                                 ...    ...  \n",
              "1995  [1.7993307147368506e-07, 0.9713560335469167, 2...      5  \n",
              "1996  [2.55810835445071e-14, 1.9356590576441172e-20,...      5  \n",
              "1997  [1.9127660687912407e-23, 3.4295355638648176e-3...      5  \n",
              "1998  [3.603039018002818e-10, 1.1166382270849577e-07...      5  \n",
              "1999  [1.3923212495853747e-05, 9.281987525120912e-08...      5  \n",
              "\n",
              "[2000 rows x 3 columns]"
            ],
            "text/html": [
              "\n",
              "  <div id=\"df-2a66ef88-d59b-4529-aff7-5b143d449670\">\n",
              "    <div class=\"colab-df-container\">\n",
              "      <div>\n",
              "<style scoped>\n",
              "    .dataframe tbody tr th:only-of-type {\n",
              "        vertical-align: middle;\n",
              "    }\n",
              "\n",
              "    .dataframe tbody tr th {\n",
              "        vertical-align: top;\n",
              "    }\n",
              "\n",
              "    .dataframe thead th {\n",
              "        text-align: right;\n",
              "    }\n",
              "</style>\n",
              "<table border=\"1\" class=\"dataframe\">\n",
              "  <thead>\n",
              "    <tr style=\"text-align: right;\">\n",
              "      <th></th>\n",
              "      <th>meta</th>\n",
              "      <th>image</th>\n",
              "      <th>label</th>\n",
              "    </tr>\n",
              "  </thead>\n",
              "  <tbody>\n",
              "    <tr>\n",
              "      <th>0</th>\n",
              "      <td>[0.01, 0.03, 0.17, 0.0, 0.08, 0.7, 0.0, 0.01]</td>\n",
              "      <td>[6.094134044078359e-14, 1.514751498118353e-11,...</td>\n",
              "      <td>5</td>\n",
              "    </tr>\n",
              "    <tr>\n",
              "      <th>1</th>\n",
              "      <td>[0.0, 0.0, 0.0, 0.0, 0.0, 1.0, 0.0, 0.0]</td>\n",
              "      <td>[7.06305233390826e-16, 3.6796194643112944e-17,...</td>\n",
              "      <td>5</td>\n",
              "    </tr>\n",
              "    <tr>\n",
              "      <th>2</th>\n",
              "      <td>[0.0, 0.0, 0.0, 0.0, 0.0, 1.0, 0.0, 0.0]</td>\n",
              "      <td>[5.378105488970912e-12, 6.161557352240286e-12,...</td>\n",
              "      <td>5</td>\n",
              "    </tr>\n",
              "    <tr>\n",
              "      <th>3</th>\n",
              "      <td>[0.0, 0.0, 0.06713854644928813, 0.0, 0.0585200...</td>\n",
              "      <td>[1.1734255957087268e-09, 1.0850505354356207e-1...</td>\n",
              "      <td>5</td>\n",
              "    </tr>\n",
              "    <tr>\n",
              "      <th>4</th>\n",
              "      <td>[0.0, 0.0, 0.14882460594960598, 0.0, 0.5636865...</td>\n",
              "      <td>[1.7809379057914367e-16, 6.5759824453553015e-1...</td>\n",
              "      <td>5</td>\n",
              "    </tr>\n",
              "    <tr>\n",
              "      <th>...</th>\n",
              "      <td>...</td>\n",
              "      <td>...</td>\n",
              "      <td>...</td>\n",
              "    </tr>\n",
              "    <tr>\n",
              "      <th>1995</th>\n",
              "      <td>[0.0, 0.0, 0.01, 0.0, 0.0, 0.99, 0.0, 0.0]</td>\n",
              "      <td>[1.7993307147368506e-07, 0.9713560335469167, 2...</td>\n",
              "      <td>5</td>\n",
              "    </tr>\n",
              "    <tr>\n",
              "      <th>1996</th>\n",
              "      <td>[0.0, 0.0, 0.0, 0.0, 0.02, 0.98, 0.0, 0.0]</td>\n",
              "      <td>[2.55810835445071e-14, 1.9356590576441172e-20,...</td>\n",
              "      <td>5</td>\n",
              "    </tr>\n",
              "    <tr>\n",
              "      <th>1997</th>\n",
              "      <td>[0.0, 0.0, 0.0, 0.0, 0.23, 0.77, 0.0, 0.0]</td>\n",
              "      <td>[1.9127660687912407e-23, 3.4295355638648176e-3...</td>\n",
              "      <td>5</td>\n",
              "    </tr>\n",
              "    <tr>\n",
              "      <th>1998</th>\n",
              "      <td>[0.0, 0.0, 0.31, 0.52, 0.03, 0.14, 0.0, 0.0]</td>\n",
              "      <td>[3.603039018002818e-10, 1.1166382270849577e-07...</td>\n",
              "      <td>5</td>\n",
              "    </tr>\n",
              "    <tr>\n",
              "      <th>1999</th>\n",
              "      <td>[0.0, 0.0, 0.36, 0.0, 0.0011111111111111111, 0...</td>\n",
              "      <td>[1.3923212495853747e-05, 9.281987525120912e-08...</td>\n",
              "      <td>5</td>\n",
              "    </tr>\n",
              "  </tbody>\n",
              "</table>\n",
              "<p>2000 rows × 3 columns</p>\n",
              "</div>\n",
              "      <button class=\"colab-df-convert\" onclick=\"convertToInteractive('df-2a66ef88-d59b-4529-aff7-5b143d449670')\"\n",
              "              title=\"Convert this dataframe to an interactive table.\"\n",
              "              style=\"display:none;\">\n",
              "        \n",
              "  <svg xmlns=\"http://www.w3.org/2000/svg\" height=\"24px\"viewBox=\"0 0 24 24\"\n",
              "       width=\"24px\">\n",
              "    <path d=\"M0 0h24v24H0V0z\" fill=\"none\"/>\n",
              "    <path d=\"M18.56 5.44l.94 2.06.94-2.06 2.06-.94-2.06-.94-.94-2.06-.94 2.06-2.06.94zm-11 1L8.5 8.5l.94-2.06 2.06-.94-2.06-.94L8.5 2.5l-.94 2.06-2.06.94zm10 10l.94 2.06.94-2.06 2.06-.94-2.06-.94-.94-2.06-.94 2.06-2.06.94z\"/><path d=\"M17.41 7.96l-1.37-1.37c-.4-.4-.92-.59-1.43-.59-.52 0-1.04.2-1.43.59L10.3 9.45l-7.72 7.72c-.78.78-.78 2.05 0 2.83L4 21.41c.39.39.9.59 1.41.59.51 0 1.02-.2 1.41-.59l7.78-7.78 2.81-2.81c.8-.78.8-2.07 0-2.86zM5.41 20L4 18.59l7.72-7.72 1.47 1.35L5.41 20z\"/>\n",
              "  </svg>\n",
              "      </button>\n",
              "      \n",
              "  <style>\n",
              "    .colab-df-container {\n",
              "      display:flex;\n",
              "      flex-wrap:wrap;\n",
              "      gap: 12px;\n",
              "    }\n",
              "\n",
              "    .colab-df-convert {\n",
              "      background-color: #E8F0FE;\n",
              "      border: none;\n",
              "      border-radius: 50%;\n",
              "      cursor: pointer;\n",
              "      display: none;\n",
              "      fill: #1967D2;\n",
              "      height: 32px;\n",
              "      padding: 0 0 0 0;\n",
              "      width: 32px;\n",
              "    }\n",
              "\n",
              "    .colab-df-convert:hover {\n",
              "      background-color: #E2EBFA;\n",
              "      box-shadow: 0px 1px 2px rgba(60, 64, 67, 0.3), 0px 1px 3px 1px rgba(60, 64, 67, 0.15);\n",
              "      fill: #174EA6;\n",
              "    }\n",
              "\n",
              "    [theme=dark] .colab-df-convert {\n",
              "      background-color: #3B4455;\n",
              "      fill: #D2E3FC;\n",
              "    }\n",
              "\n",
              "    [theme=dark] .colab-df-convert:hover {\n",
              "      background-color: #434B5C;\n",
              "      box-shadow: 0px 1px 3px 1px rgba(0, 0, 0, 0.15);\n",
              "      filter: drop-shadow(0px 1px 2px rgba(0, 0, 0, 0.3));\n",
              "      fill: #FFFFFF;\n",
              "    }\n",
              "  </style>\n",
              "\n",
              "      <script>\n",
              "        const buttonEl =\n",
              "          document.querySelector('#df-2a66ef88-d59b-4529-aff7-5b143d449670 button.colab-df-convert');\n",
              "        buttonEl.style.display =\n",
              "          google.colab.kernel.accessAllowed ? 'block' : 'none';\n",
              "\n",
              "        async function convertToInteractive(key) {\n",
              "          const element = document.querySelector('#df-2a66ef88-d59b-4529-aff7-5b143d449670');\n",
              "          const dataTable =\n",
              "            await google.colab.kernel.invokeFunction('convertToInteractive',\n",
              "                                                     [key], {});\n",
              "          if (!dataTable) return;\n",
              "\n",
              "          const docLinkHtml = 'Like what you see? Visit the ' +\n",
              "            '<a target=\"_blank\" href=https://colab.research.google.com/notebooks/data_table.ipynb>data table notebook</a>'\n",
              "            + ' to learn more about interactive tables.';\n",
              "          element.innerHTML = '';\n",
              "          dataTable['output_type'] = 'display_data';\n",
              "          await google.colab.output.renderOutput(dataTable, element);\n",
              "          const docLink = document.createElement('div');\n",
              "          docLink.innerHTML = docLinkHtml;\n",
              "          element.appendChild(docLink);\n",
              "        }\n",
              "      </script>\n",
              "    </div>\n",
              "  </div>\n",
              "  "
            ]
          },
          "metadata": {},
          "execution_count": 48
        }
      ]
    },
    {
      "cell_type": "code",
      "source": [
        "train,test0=train_test_split(df,test_size=0.2,random_state=seed)\n",
        "test,valid=train_test_split(test0,test_size=0.5,random_state=seed)"
      ],
      "metadata": {
        "id": "0PF-MXQC5PSa"
      },
      "execution_count": null,
      "outputs": []
    },
    {
      "cell_type": "code",
      "source": [
        "x_train=train.drop(['label'],axis=1)\n",
        "y_train=train['label']\n",
        "x_test=test.drop(['label'],axis=1)\n",
        "y_test=test['label']\n",
        "x_valid=valid.drop(['label'],axis=1)\n",
        "y_valid=valid['label']"
      ],
      "metadata": {
        "id": "OulcbS8m4252"
      },
      "execution_count": null,
      "outputs": []
    },
    {
      "cell_type": "code",
      "source": [
        "np.array(x_train['meta'].tolist())"
      ],
      "metadata": {
        "id": "2dOsGTDx4Ghy",
        "outputId": "084a940e-70a7-4f88-817d-b33b6cca9d62",
        "colab": {
          "base_uri": "https://localhost:8080/"
        }
      },
      "execution_count": null,
      "outputs": [
        {
          "output_type": "execute_result",
          "data": {
            "text/plain": [
              "array([[0.        , 0.03      , 0.18      , ..., 0.01      , 0.08      ,\n",
              "        0.65      ],\n",
              "       [0.        , 0.        , 0.31      , ..., 0.67      , 0.        ,\n",
              "        0.        ],\n",
              "       [0.        , 0.        , 0.        , ..., 0.80932598, 0.        ,\n",
              "        0.        ],\n",
              "       ...,\n",
              "       [0.        , 0.        , 0.46      , ..., 0.53      , 0.        ,\n",
              "        0.        ],\n",
              "       [0.        , 0.01      , 0.9       , ..., 0.01      , 0.02      ,\n",
              "        0.        ],\n",
              "       [0.        , 0.        , 0.        , ..., 1.        , 0.        ,\n",
              "        0.        ]])"
            ]
          },
          "metadata": {},
          "execution_count": 51
        }
      ]
    },
    {
      "cell_type": "code",
      "source": [
        "y_train"
      ],
      "metadata": {
        "id": "L0iCcrg84KRt",
        "outputId": "fa881783-156f-41d6-82d5-1d6b3a3a964c",
        "colab": {
          "base_uri": "https://localhost:8080/"
        }
      },
      "execution_count": null,
      "outputs": [
        {
          "output_type": "execute_result",
          "data": {
            "text/plain": [
              "668     7\n",
              "1345    5\n",
              "373     5\n",
              "1388    4\n",
              "132     2\n",
              "       ..\n",
              "1599    6\n",
              "1862    5\n",
              "1361    5\n",
              "1547    4\n",
              "863     5\n",
              "Name: label, Length: 1600, dtype: int64"
            ]
          },
          "metadata": {},
          "execution_count": 52
        }
      ]
    },
    {
      "cell_type": "code",
      "source": [
        "np.argmax(np.array(x_train['image'].tolist()[2]))"
      ],
      "metadata": {
        "id": "KBuBhEuZ4T9i",
        "outputId": "71fdf48a-4947-4068-f261-bbaf47c93d82",
        "colab": {
          "base_uri": "https://localhost:8080/"
        }
      },
      "execution_count": null,
      "outputs": [
        {
          "output_type": "execute_result",
          "data": {
            "text/plain": [
              "5"
            ]
          },
          "metadata": {},
          "execution_count": 53
        }
      ]
    },
    {
      "cell_type": "code",
      "source": [
        "pr_img=x_train['image'].tolist()\n",
        "pr_meta=x_train['meta'].tolist()\n",
        "both=0\n",
        "only_img=0\n",
        "only_meta=0\n",
        "print(len(pr_img))\n",
        "for indx,i in enumerate(y_train):\n",
        "  # print(pr_meta[0])\n",
        "  if np.argmax(pr_meta[indx])==i and np.argmax(pr_img[indx])==i:\n",
        "    both+=1\n",
        "  elif np.argmax( pr_meta[indx])==i:\n",
        "    only_meta+=1\n",
        "  elif np.argmax(pr_img[indx])==i:\n",
        "    only_img+=1\n",
        "print('only_img',only_img)\n",
        "print('only_meta',only_meta)\n",
        "print('both',both)"
      ],
      "metadata": {
        "id": "vuRT3Jh59pTi",
        "outputId": "3f5472b0-8438-4bca-c1b2-624c402fbccc",
        "colab": {
          "base_uri": "https://localhost:8080/"
        }
      },
      "execution_count": null,
      "outputs": [
        {
          "output_type": "stream",
          "name": "stdout",
          "text": [
            "1600\n",
            "only_img 146\n",
            "only_meta 410\n",
            "both 799\n"
          ]
        }
      ]
    },
    {
      "cell_type": "code",
      "source": [
        "import os \n",
        "import random as rn\n",
        "import tensorflow as tf\n",
        "import numpy as np\n",
        "from keras import backend as K\n",
        "# seed=1\n",
        "num_cores=1  \n",
        "os.environ['PYTHONHASHSEED'] = '0'                      \n",
        "np.random.seed(seed)\n",
        "rn.seed(seed)\n",
        "tf.random.set_seed(seed)\n",
        "session_conf = tf.compat.v1.ConfigProto(intra_op_parallelism_threads=num_cores,\n",
        "                              inter_op_parallelism_threads=num_cores, \n",
        "                              allow_soft_placement=True,\n",
        "                              device_count = {'CPU' : 1, 'GPU' : 0})\n",
        "sess = tf.compat.v1.Session(graph=tf.compat.v1.get_default_graph(), config=session_conf)\n",
        "K.set_session(sess)\n",
        "\n",
        "from tensorflow import keras\n",
        "from keras import regularizers\n",
        "model_inputs=[]\n",
        "for i in range(2):\n",
        "  model_inputs.append(keras.Input(shape=(8,)))\n",
        "\n",
        "combinedInput = tf.keras.layers.concatenate(model_inputs)\n",
        "# 390\n",
        "x = Dense(1024,activation=\"relu\",\n",
        "          kernel_regularizer=regularizers.L1L2(l1=1e-5, l2=1e-4),\n",
        "          )(combinedInput)\n",
        "\n",
        "x=Dropout(.9)(x)\n",
        "predictions = Dense(8,activation=\"softmax\",)(x)\n",
        "model = Model(inputs=model_inputs,outputs=predictions)\n",
        "\n",
        "opt= keras.optimizers.Adam(learning_rate=0.0001,epsilon=0.01)\n",
        "model.compile(optimizer=opt,loss=\"sparse_categorical_crossentropy\",metrics=['accuracy'])\n",
        "\n",
        "# valid\n",
        "model.fit([np.array(x_train['meta'].tolist()),np.array(x_train['image'].tolist())],y_train ,epochs=200,validation_data=([np.array(x_valid['meta'].tolist()),np.array(x_valid['image'].tolist())],y_valid),batch_size=16)#validation_data=(validList,validDic['diagnostic'])\n",
        "\n",
        "print(\"evaluate\")"
      ],
      "metadata": {
        "id": "b1XMBic1IDtQ",
        "outputId": "7a9714de-a310-4a12-ce6e-5fa3ca21c6e4",
        "colab": {
          "base_uri": "https://localhost:8080/"
        }
      },
      "execution_count": null,
      "outputs": [
        {
          "output_type": "stream",
          "name": "stdout",
          "text": [
            "Epoch 1/200\n",
            "100/100 [==============================] - 2s 6ms/step - loss: 2.0520 - accuracy: 0.1931 - val_loss: 1.9667 - val_accuracy: 0.6750\n",
            "Epoch 2/200\n",
            "100/100 [==============================] - 0s 4ms/step - loss: 1.8904 - accuracy: 0.4888 - val_loss: 1.7999 - val_accuracy: 0.6750\n",
            "Epoch 3/200\n",
            "100/100 [==============================] - 0s 4ms/step - loss: 1.7118 - accuracy: 0.6575 - val_loss: 1.6327 - val_accuracy: 0.6750\n",
            "Epoch 4/200\n",
            "100/100 [==============================] - 0s 4ms/step - loss: 1.5485 - accuracy: 0.6837 - val_loss: 1.4725 - val_accuracy: 0.6750\n",
            "Epoch 5/200\n",
            "100/100 [==============================] - 0s 3ms/step - loss: 1.4011 - accuracy: 0.6906 - val_loss: 1.3352 - val_accuracy: 0.6750\n",
            "Epoch 6/200\n",
            "100/100 [==============================] - 0s 3ms/step - loss: 1.2836 - accuracy: 0.6906 - val_loss: 1.2280 - val_accuracy: 0.6750\n",
            "Epoch 7/200\n",
            "100/100 [==============================] - 0s 3ms/step - loss: 1.1931 - accuracy: 0.6900 - val_loss: 1.1510 - val_accuracy: 0.6750\n",
            "Epoch 8/200\n",
            "100/100 [==============================] - 0s 4ms/step - loss: 1.1235 - accuracy: 0.6900 - val_loss: 1.1004 - val_accuracy: 0.6750\n",
            "Epoch 9/200\n",
            "100/100 [==============================] - 0s 4ms/step - loss: 1.0957 - accuracy: 0.6906 - val_loss: 1.0650 - val_accuracy: 0.6750\n",
            "Epoch 10/200\n",
            "100/100 [==============================] - 0s 3ms/step - loss: 1.0631 - accuracy: 0.6900 - val_loss: 1.0394 - val_accuracy: 0.6750\n",
            "Epoch 11/200\n",
            "100/100 [==============================] - 0s 3ms/step - loss: 1.0397 - accuracy: 0.6900 - val_loss: 1.0190 - val_accuracy: 0.6750\n",
            "Epoch 12/200\n",
            "100/100 [==============================] - 0s 3ms/step - loss: 1.0242 - accuracy: 0.6900 - val_loss: 1.0020 - val_accuracy: 0.6750\n",
            "Epoch 13/200\n",
            "100/100 [==============================] - 0s 4ms/step - loss: 1.0190 - accuracy: 0.6894 - val_loss: 0.9882 - val_accuracy: 0.6750\n",
            "Epoch 14/200\n",
            "100/100 [==============================] - 0s 3ms/step - loss: 0.9929 - accuracy: 0.6906 - val_loss: 0.9751 - val_accuracy: 0.6750\n",
            "Epoch 15/200\n",
            "100/100 [==============================] - 0s 4ms/step - loss: 0.9858 - accuracy: 0.6900 - val_loss: 0.9638 - val_accuracy: 0.6750\n",
            "Epoch 16/200\n",
            "100/100 [==============================] - 0s 4ms/step - loss: 0.9844 - accuracy: 0.6913 - val_loss: 0.9539 - val_accuracy: 0.6750\n",
            "Epoch 17/200\n",
            "100/100 [==============================] - 0s 4ms/step - loss: 0.9647 - accuracy: 0.6925 - val_loss: 0.9440 - val_accuracy: 0.6750\n",
            "Epoch 18/200\n",
            "100/100 [==============================] - 0s 4ms/step - loss: 0.9697 - accuracy: 0.6919 - val_loss: 0.9356 - val_accuracy: 0.6750\n",
            "Epoch 19/200\n",
            "100/100 [==============================] - 0s 3ms/step - loss: 0.9623 - accuracy: 0.6950 - val_loss: 0.9278 - val_accuracy: 0.6750\n",
            "Epoch 20/200\n",
            "100/100 [==============================] - 0s 3ms/step - loss: 0.9573 - accuracy: 0.6950 - val_loss: 0.9203 - val_accuracy: 0.6750\n",
            "Epoch 21/200\n",
            "100/100 [==============================] - 0s 3ms/step - loss: 0.9337 - accuracy: 0.7006 - val_loss: 0.9136 - val_accuracy: 0.6750\n",
            "Epoch 22/200\n",
            "100/100 [==============================] - 0s 4ms/step - loss: 0.9432 - accuracy: 0.6956 - val_loss: 0.9075 - val_accuracy: 0.6750\n",
            "Epoch 23/200\n",
            "100/100 [==============================] - 0s 4ms/step - loss: 0.9366 - accuracy: 0.7006 - val_loss: 0.9019 - val_accuracy: 0.6700\n",
            "Epoch 24/200\n",
            "100/100 [==============================] - 0s 3ms/step - loss: 0.9214 - accuracy: 0.7031 - val_loss: 0.8966 - val_accuracy: 0.6700\n",
            "Epoch 25/200\n",
            "100/100 [==============================] - 0s 4ms/step - loss: 0.9230 - accuracy: 0.7038 - val_loss: 0.8919 - val_accuracy: 0.6750\n",
            "Epoch 26/200\n",
            "100/100 [==============================] - 0s 4ms/step - loss: 0.9111 - accuracy: 0.7031 - val_loss: 0.8871 - val_accuracy: 0.6750\n",
            "Epoch 27/200\n",
            "100/100 [==============================] - 0s 4ms/step - loss: 0.9167 - accuracy: 0.7063 - val_loss: 0.8832 - val_accuracy: 0.6800\n",
            "Epoch 28/200\n",
            "100/100 [==============================] - 0s 3ms/step - loss: 0.9148 - accuracy: 0.7113 - val_loss: 0.8794 - val_accuracy: 0.6800\n",
            "Epoch 29/200\n",
            "100/100 [==============================] - 0s 3ms/step - loss: 0.9137 - accuracy: 0.7169 - val_loss: 0.8760 - val_accuracy: 0.6950\n",
            "Epoch 30/200\n",
            "100/100 [==============================] - 0s 4ms/step - loss: 0.8972 - accuracy: 0.7113 - val_loss: 0.8726 - val_accuracy: 0.7000\n",
            "Epoch 31/200\n",
            "100/100 [==============================] - 0s 3ms/step - loss: 0.8960 - accuracy: 0.7163 - val_loss: 0.8693 - val_accuracy: 0.7200\n",
            "Epoch 32/200\n",
            "100/100 [==============================] - 0s 4ms/step - loss: 0.9007 - accuracy: 0.7237 - val_loss: 0.8664 - val_accuracy: 0.7250\n",
            "Epoch 33/200\n",
            "100/100 [==============================] - 0s 4ms/step - loss: 0.8997 - accuracy: 0.7200 - val_loss: 0.8635 - val_accuracy: 0.7300\n",
            "Epoch 34/200\n",
            "100/100 [==============================] - 0s 4ms/step - loss: 0.8910 - accuracy: 0.7200 - val_loss: 0.8608 - val_accuracy: 0.7300\n",
            "Epoch 35/200\n",
            "100/100 [==============================] - 0s 4ms/step - loss: 0.9032 - accuracy: 0.7269 - val_loss: 0.8585 - val_accuracy: 0.7300\n",
            "Epoch 36/200\n",
            "100/100 [==============================] - 0s 3ms/step - loss: 0.8857 - accuracy: 0.7231 - val_loss: 0.8563 - val_accuracy: 0.7300\n",
            "Epoch 37/200\n",
            "100/100 [==============================] - 0s 4ms/step - loss: 0.8819 - accuracy: 0.7306 - val_loss: 0.8536 - val_accuracy: 0.7350\n",
            "Epoch 38/200\n",
            "100/100 [==============================] - 0s 3ms/step - loss: 0.8898 - accuracy: 0.7294 - val_loss: 0.8517 - val_accuracy: 0.7400\n",
            "Epoch 39/200\n",
            "100/100 [==============================] - 0s 3ms/step - loss: 0.8839 - accuracy: 0.7287 - val_loss: 0.8496 - val_accuracy: 0.7450\n",
            "Epoch 40/200\n",
            "100/100 [==============================] - 0s 3ms/step - loss: 0.8805 - accuracy: 0.7369 - val_loss: 0.8476 - val_accuracy: 0.7450\n",
            "Epoch 41/200\n",
            "100/100 [==============================] - 0s 3ms/step - loss: 0.8656 - accuracy: 0.7325 - val_loss: 0.8458 - val_accuracy: 0.7400\n",
            "Epoch 42/200\n",
            "100/100 [==============================] - 0s 3ms/step - loss: 0.8806 - accuracy: 0.7237 - val_loss: 0.8441 - val_accuracy: 0.7400\n",
            "Epoch 43/200\n",
            "100/100 [==============================] - 0s 4ms/step - loss: 0.8779 - accuracy: 0.7356 - val_loss: 0.8426 - val_accuracy: 0.7350\n",
            "Epoch 44/200\n",
            "100/100 [==============================] - 0s 3ms/step - loss: 0.8751 - accuracy: 0.7256 - val_loss: 0.8412 - val_accuracy: 0.7250\n",
            "Epoch 45/200\n",
            "100/100 [==============================] - 0s 3ms/step - loss: 0.8733 - accuracy: 0.7312 - val_loss: 0.8397 - val_accuracy: 0.7250\n",
            "Epoch 46/200\n",
            "100/100 [==============================] - 0s 4ms/step - loss: 0.8686 - accuracy: 0.7356 - val_loss: 0.8385 - val_accuracy: 0.7300\n",
            "Epoch 47/200\n",
            "100/100 [==============================] - 0s 3ms/step - loss: 0.8745 - accuracy: 0.7300 - val_loss: 0.8373 - val_accuracy: 0.7300\n",
            "Epoch 48/200\n",
            "100/100 [==============================] - 0s 4ms/step - loss: 0.8724 - accuracy: 0.7350 - val_loss: 0.8361 - val_accuracy: 0.7350\n",
            "Epoch 49/200\n",
            "100/100 [==============================] - 0s 3ms/step - loss: 0.8746 - accuracy: 0.7350 - val_loss: 0.8346 - val_accuracy: 0.7400\n",
            "Epoch 50/200\n",
            "100/100 [==============================] - 0s 3ms/step - loss: 0.8631 - accuracy: 0.7344 - val_loss: 0.8336 - val_accuracy: 0.7400\n",
            "Epoch 51/200\n",
            "100/100 [==============================] - 0s 3ms/step - loss: 0.8574 - accuracy: 0.7331 - val_loss: 0.8324 - val_accuracy: 0.7400\n",
            "Epoch 52/200\n",
            "100/100 [==============================] - 0s 4ms/step - loss: 0.8618 - accuracy: 0.7362 - val_loss: 0.8314 - val_accuracy: 0.7400\n",
            "Epoch 53/200\n",
            "100/100 [==============================] - 0s 4ms/step - loss: 0.8535 - accuracy: 0.7356 - val_loss: 0.8306 - val_accuracy: 0.7400\n",
            "Epoch 54/200\n",
            "100/100 [==============================] - 0s 3ms/step - loss: 0.8607 - accuracy: 0.7300 - val_loss: 0.8294 - val_accuracy: 0.7350\n",
            "Epoch 55/200\n",
            "100/100 [==============================] - 0s 3ms/step - loss: 0.8528 - accuracy: 0.7381 - val_loss: 0.8284 - val_accuracy: 0.7400\n",
            "Epoch 56/200\n",
            "100/100 [==============================] - 0s 3ms/step - loss: 0.8709 - accuracy: 0.7425 - val_loss: 0.8275 - val_accuracy: 0.7450\n",
            "Epoch 57/200\n",
            "100/100 [==============================] - 0s 3ms/step - loss: 0.8516 - accuracy: 0.7369 - val_loss: 0.8266 - val_accuracy: 0.7450\n",
            "Epoch 58/200\n",
            "100/100 [==============================] - 0s 4ms/step - loss: 0.8506 - accuracy: 0.7462 - val_loss: 0.8259 - val_accuracy: 0.7500\n",
            "Epoch 59/200\n",
            "100/100 [==============================] - 0s 3ms/step - loss: 0.8519 - accuracy: 0.7394 - val_loss: 0.8249 - val_accuracy: 0.7500\n",
            "Epoch 60/200\n",
            "100/100 [==============================] - 0s 3ms/step - loss: 0.8559 - accuracy: 0.7412 - val_loss: 0.8240 - val_accuracy: 0.7500\n",
            "Epoch 61/200\n",
            "100/100 [==============================] - 0s 3ms/step - loss: 0.8448 - accuracy: 0.7431 - val_loss: 0.8231 - val_accuracy: 0.7500\n",
            "Epoch 62/200\n",
            "100/100 [==============================] - 0s 3ms/step - loss: 0.8497 - accuracy: 0.7462 - val_loss: 0.8226 - val_accuracy: 0.7500\n",
            "Epoch 63/200\n",
            "100/100 [==============================] - 0s 4ms/step - loss: 0.8549 - accuracy: 0.7456 - val_loss: 0.8219 - val_accuracy: 0.7550\n",
            "Epoch 64/200\n",
            "100/100 [==============================] - 0s 3ms/step - loss: 0.8469 - accuracy: 0.7425 - val_loss: 0.8211 - val_accuracy: 0.7550\n",
            "Epoch 65/200\n",
            "100/100 [==============================] - 0s 3ms/step - loss: 0.8432 - accuracy: 0.7419 - val_loss: 0.8202 - val_accuracy: 0.7550\n",
            "Epoch 66/200\n",
            "100/100 [==============================] - 0s 4ms/step - loss: 0.8454 - accuracy: 0.7462 - val_loss: 0.8195 - val_accuracy: 0.7600\n",
            "Epoch 67/200\n",
            "100/100 [==============================] - 0s 3ms/step - loss: 0.8460 - accuracy: 0.7437 - val_loss: 0.8190 - val_accuracy: 0.7600\n",
            "Epoch 68/200\n",
            "100/100 [==============================] - 0s 4ms/step - loss: 0.8387 - accuracy: 0.7306 - val_loss: 0.8184 - val_accuracy: 0.7600\n",
            "Epoch 69/200\n",
            "100/100 [==============================] - 0s 4ms/step - loss: 0.8454 - accuracy: 0.7437 - val_loss: 0.8177 - val_accuracy: 0.7600\n",
            "Epoch 70/200\n",
            "100/100 [==============================] - 0s 3ms/step - loss: 0.8448 - accuracy: 0.7406 - val_loss: 0.8170 - val_accuracy: 0.7600\n",
            "Epoch 71/200\n",
            "100/100 [==============================] - 0s 3ms/step - loss: 0.8331 - accuracy: 0.7356 - val_loss: 0.8165 - val_accuracy: 0.7600\n",
            "Epoch 72/200\n",
            "100/100 [==============================] - 0s 3ms/step - loss: 0.8390 - accuracy: 0.7400 - val_loss: 0.8159 - val_accuracy: 0.7600\n",
            "Epoch 73/200\n",
            "100/100 [==============================] - 0s 3ms/step - loss: 0.8339 - accuracy: 0.7462 - val_loss: 0.8153 - val_accuracy: 0.7600\n",
            "Epoch 74/200\n",
            "100/100 [==============================] - 0s 3ms/step - loss: 0.8335 - accuracy: 0.7494 - val_loss: 0.8147 - val_accuracy: 0.7600\n",
            "Epoch 75/200\n",
            "100/100 [==============================] - 0s 3ms/step - loss: 0.8478 - accuracy: 0.7456 - val_loss: 0.8143 - val_accuracy: 0.7600\n",
            "Epoch 76/200\n",
            "100/100 [==============================] - 0s 3ms/step - loss: 0.8382 - accuracy: 0.7494 - val_loss: 0.8136 - val_accuracy: 0.7600\n",
            "Epoch 77/200\n",
            "100/100 [==============================] - 0s 3ms/step - loss: 0.8298 - accuracy: 0.7475 - val_loss: 0.8129 - val_accuracy: 0.7600\n",
            "Epoch 78/200\n",
            "100/100 [==============================] - 0s 3ms/step - loss: 0.8397 - accuracy: 0.7450 - val_loss: 0.8126 - val_accuracy: 0.7600\n",
            "Epoch 79/200\n",
            "100/100 [==============================] - 0s 4ms/step - loss: 0.8344 - accuracy: 0.7462 - val_loss: 0.8120 - val_accuracy: 0.7600\n",
            "Epoch 80/200\n",
            "100/100 [==============================] - 0s 4ms/step - loss: 0.8302 - accuracy: 0.7425 - val_loss: 0.8117 - val_accuracy: 0.7600\n",
            "Epoch 81/200\n",
            "100/100 [==============================] - 0s 4ms/step - loss: 0.8437 - accuracy: 0.7387 - val_loss: 0.8114 - val_accuracy: 0.7600\n",
            "Epoch 82/200\n",
            "100/100 [==============================] - 0s 3ms/step - loss: 0.8289 - accuracy: 0.7437 - val_loss: 0.8107 - val_accuracy: 0.7600\n",
            "Epoch 83/200\n",
            "100/100 [==============================] - 0s 3ms/step - loss: 0.8241 - accuracy: 0.7487 - val_loss: 0.8103 - val_accuracy: 0.7600\n",
            "Epoch 84/200\n",
            "100/100 [==============================] - 0s 4ms/step - loss: 0.8378 - accuracy: 0.7462 - val_loss: 0.8098 - val_accuracy: 0.7650\n",
            "Epoch 85/200\n",
            "100/100 [==============================] - 0s 3ms/step - loss: 0.8180 - accuracy: 0.7519 - val_loss: 0.8092 - val_accuracy: 0.7650\n",
            "Epoch 86/200\n",
            "100/100 [==============================] - 0s 4ms/step - loss: 0.8212 - accuracy: 0.7531 - val_loss: 0.8088 - val_accuracy: 0.7650\n",
            "Epoch 87/200\n",
            "100/100 [==============================] - 0s 4ms/step - loss: 0.8255 - accuracy: 0.7481 - val_loss: 0.8083 - val_accuracy: 0.7650\n",
            "Epoch 88/200\n",
            "100/100 [==============================] - 0s 4ms/step - loss: 0.8323 - accuracy: 0.7475 - val_loss: 0.8079 - val_accuracy: 0.7650\n",
            "Epoch 89/200\n",
            "100/100 [==============================] - 0s 3ms/step - loss: 0.8275 - accuracy: 0.7550 - val_loss: 0.8076 - val_accuracy: 0.7650\n",
            "Epoch 90/200\n",
            "100/100 [==============================] - 0s 3ms/step - loss: 0.8237 - accuracy: 0.7525 - val_loss: 0.8070 - val_accuracy: 0.7650\n",
            "Epoch 91/200\n",
            "100/100 [==============================] - 0s 3ms/step - loss: 0.8270 - accuracy: 0.7538 - val_loss: 0.8065 - val_accuracy: 0.7650\n",
            "Epoch 92/200\n",
            "100/100 [==============================] - 0s 3ms/step - loss: 0.8296 - accuracy: 0.7506 - val_loss: 0.8063 - val_accuracy: 0.7650\n",
            "Epoch 93/200\n",
            "100/100 [==============================] - 0s 3ms/step - loss: 0.8232 - accuracy: 0.7487 - val_loss: 0.8057 - val_accuracy: 0.7650\n",
            "Epoch 94/200\n",
            "100/100 [==============================] - 0s 3ms/step - loss: 0.8332 - accuracy: 0.7450 - val_loss: 0.8052 - val_accuracy: 0.7650\n",
            "Epoch 95/200\n",
            "100/100 [==============================] - 0s 4ms/step - loss: 0.8250 - accuracy: 0.7487 - val_loss: 0.8049 - val_accuracy: 0.7650\n",
            "Epoch 96/200\n",
            "100/100 [==============================] - 0s 3ms/step - loss: 0.8236 - accuracy: 0.7513 - val_loss: 0.8047 - val_accuracy: 0.7700\n",
            "Epoch 97/200\n",
            "100/100 [==============================] - 0s 3ms/step - loss: 0.8150 - accuracy: 0.7538 - val_loss: 0.8044 - val_accuracy: 0.7700\n",
            "Epoch 98/200\n",
            "100/100 [==============================] - 0s 3ms/step - loss: 0.8349 - accuracy: 0.7500 - val_loss: 0.8039 - val_accuracy: 0.7700\n",
            "Epoch 99/200\n",
            "100/100 [==============================] - 0s 3ms/step - loss: 0.8252 - accuracy: 0.7494 - val_loss: 0.8038 - val_accuracy: 0.7700\n",
            "Epoch 100/200\n",
            "100/100 [==============================] - 0s 3ms/step - loss: 0.8286 - accuracy: 0.7544 - val_loss: 0.8035 - val_accuracy: 0.7700\n",
            "Epoch 101/200\n",
            "100/100 [==============================] - 0s 3ms/step - loss: 0.8189 - accuracy: 0.7487 - val_loss: 0.8031 - val_accuracy: 0.7700\n",
            "Epoch 102/200\n",
            "100/100 [==============================] - 0s 3ms/step - loss: 0.8147 - accuracy: 0.7538 - val_loss: 0.8025 - val_accuracy: 0.7700\n",
            "Epoch 103/200\n",
            "100/100 [==============================] - 0s 3ms/step - loss: 0.8260 - accuracy: 0.7487 - val_loss: 0.8022 - val_accuracy: 0.7700\n",
            "Epoch 104/200\n",
            "100/100 [==============================] - 0s 3ms/step - loss: 0.8137 - accuracy: 0.7506 - val_loss: 0.8018 - val_accuracy: 0.7700\n",
            "Epoch 105/200\n",
            "100/100 [==============================] - 0s 4ms/step - loss: 0.8038 - accuracy: 0.7594 - val_loss: 0.8011 - val_accuracy: 0.7700\n",
            "Epoch 106/200\n",
            "100/100 [==============================] - 0s 3ms/step - loss: 0.8231 - accuracy: 0.7506 - val_loss: 0.8008 - val_accuracy: 0.7700\n",
            "Epoch 107/200\n",
            "100/100 [==============================] - 0s 3ms/step - loss: 0.8325 - accuracy: 0.7462 - val_loss: 0.8006 - val_accuracy: 0.7700\n",
            "Epoch 108/200\n",
            "100/100 [==============================] - 0s 3ms/step - loss: 0.8213 - accuracy: 0.7506 - val_loss: 0.8004 - val_accuracy: 0.7700\n",
            "Epoch 109/200\n",
            "100/100 [==============================] - 0s 3ms/step - loss: 0.8191 - accuracy: 0.7462 - val_loss: 0.7999 - val_accuracy: 0.7700\n",
            "Epoch 110/200\n",
            "100/100 [==============================] - 0s 4ms/step - loss: 0.7996 - accuracy: 0.7544 - val_loss: 0.7998 - val_accuracy: 0.7700\n",
            "Epoch 111/200\n",
            "100/100 [==============================] - 0s 3ms/step - loss: 0.8183 - accuracy: 0.7556 - val_loss: 0.7998 - val_accuracy: 0.7700\n",
            "Epoch 112/200\n",
            "100/100 [==============================] - 0s 3ms/step - loss: 0.7985 - accuracy: 0.7619 - val_loss: 0.7993 - val_accuracy: 0.7700\n",
            "Epoch 113/200\n",
            "100/100 [==============================] - 0s 3ms/step - loss: 0.8237 - accuracy: 0.7487 - val_loss: 0.7989 - val_accuracy: 0.7700\n",
            "Epoch 114/200\n",
            "100/100 [==============================] - 0s 4ms/step - loss: 0.8125 - accuracy: 0.7619 - val_loss: 0.7985 - val_accuracy: 0.7700\n",
            "Epoch 115/200\n",
            "100/100 [==============================] - 0s 4ms/step - loss: 0.7975 - accuracy: 0.7538 - val_loss: 0.7979 - val_accuracy: 0.7700\n",
            "Epoch 116/200\n",
            "100/100 [==============================] - 0s 4ms/step - loss: 0.8169 - accuracy: 0.7581 - val_loss: 0.7976 - val_accuracy: 0.7700\n",
            "Epoch 117/200\n",
            "100/100 [==============================] - 0s 3ms/step - loss: 0.8215 - accuracy: 0.7581 - val_loss: 0.7974 - val_accuracy: 0.7700\n",
            "Epoch 118/200\n",
            "100/100 [==============================] - 0s 4ms/step - loss: 0.8091 - accuracy: 0.7519 - val_loss: 0.7972 - val_accuracy: 0.7700\n",
            "Epoch 119/200\n",
            "100/100 [==============================] - 0s 3ms/step - loss: 0.8196 - accuracy: 0.7494 - val_loss: 0.7970 - val_accuracy: 0.7700\n",
            "Epoch 120/200\n",
            "100/100 [==============================] - 0s 3ms/step - loss: 0.8069 - accuracy: 0.7525 - val_loss: 0.7969 - val_accuracy: 0.7700\n",
            "Epoch 121/200\n",
            "100/100 [==============================] - 0s 4ms/step - loss: 0.8203 - accuracy: 0.7456 - val_loss: 0.7967 - val_accuracy: 0.7700\n",
            "Epoch 122/200\n",
            "100/100 [==============================] - 0s 3ms/step - loss: 0.8169 - accuracy: 0.7550 - val_loss: 0.7965 - val_accuracy: 0.7700\n",
            "Epoch 123/200\n",
            "100/100 [==============================] - 0s 3ms/step - loss: 0.8161 - accuracy: 0.7487 - val_loss: 0.7961 - val_accuracy: 0.7700\n",
            "Epoch 124/200\n",
            "100/100 [==============================] - 0s 3ms/step - loss: 0.8096 - accuracy: 0.7519 - val_loss: 0.7960 - val_accuracy: 0.7700\n",
            "Epoch 125/200\n",
            "100/100 [==============================] - 0s 3ms/step - loss: 0.8138 - accuracy: 0.7588 - val_loss: 0.7955 - val_accuracy: 0.7700\n",
            "Epoch 126/200\n",
            "100/100 [==============================] - 0s 3ms/step - loss: 0.8066 - accuracy: 0.7625 - val_loss: 0.7953 - val_accuracy: 0.7700\n",
            "Epoch 127/200\n",
            "100/100 [==============================] - 0s 4ms/step - loss: 0.8183 - accuracy: 0.7437 - val_loss: 0.7953 - val_accuracy: 0.7700\n",
            "Epoch 128/200\n",
            "100/100 [==============================] - 0s 3ms/step - loss: 0.8154 - accuracy: 0.7600 - val_loss: 0.7948 - val_accuracy: 0.7700\n",
            "Epoch 129/200\n",
            "100/100 [==============================] - 0s 3ms/step - loss: 0.8181 - accuracy: 0.7525 - val_loss: 0.7947 - val_accuracy: 0.7700\n",
            "Epoch 130/200\n",
            "100/100 [==============================] - 0s 3ms/step - loss: 0.8105 - accuracy: 0.7638 - val_loss: 0.7944 - val_accuracy: 0.7700\n",
            "Epoch 131/200\n",
            "100/100 [==============================] - 0s 3ms/step - loss: 0.8026 - accuracy: 0.7506 - val_loss: 0.7938 - val_accuracy: 0.7700\n",
            "Epoch 132/200\n",
            "100/100 [==============================] - 0s 3ms/step - loss: 0.8108 - accuracy: 0.7444 - val_loss: 0.7934 - val_accuracy: 0.7700\n",
            "Epoch 133/200\n",
            "100/100 [==============================] - 0s 3ms/step - loss: 0.7954 - accuracy: 0.7588 - val_loss: 0.7931 - val_accuracy: 0.7700\n",
            "Epoch 134/200\n",
            "100/100 [==============================] - 0s 3ms/step - loss: 0.8149 - accuracy: 0.7506 - val_loss: 0.7928 - val_accuracy: 0.7700\n",
            "Epoch 135/200\n",
            "100/100 [==============================] - 0s 3ms/step - loss: 0.8114 - accuracy: 0.7525 - val_loss: 0.7928 - val_accuracy: 0.7700\n",
            "Epoch 136/200\n",
            "100/100 [==============================] - 0s 3ms/step - loss: 0.8018 - accuracy: 0.7569 - val_loss: 0.7927 - val_accuracy: 0.7700\n",
            "Epoch 137/200\n",
            "100/100 [==============================] - 0s 4ms/step - loss: 0.8082 - accuracy: 0.7556 - val_loss: 0.7925 - val_accuracy: 0.7700\n",
            "Epoch 138/200\n",
            "100/100 [==============================] - 0s 3ms/step - loss: 0.8148 - accuracy: 0.7569 - val_loss: 0.7922 - val_accuracy: 0.7700\n",
            "Epoch 139/200\n",
            "100/100 [==============================] - 0s 4ms/step - loss: 0.7944 - accuracy: 0.7525 - val_loss: 0.7920 - val_accuracy: 0.7700\n",
            "Epoch 140/200\n",
            "100/100 [==============================] - 0s 3ms/step - loss: 0.8033 - accuracy: 0.7575 - val_loss: 0.7920 - val_accuracy: 0.7700\n",
            "Epoch 141/200\n",
            "100/100 [==============================] - 0s 3ms/step - loss: 0.8024 - accuracy: 0.7550 - val_loss: 0.7918 - val_accuracy: 0.7700\n",
            "Epoch 142/200\n",
            "100/100 [==============================] - 0s 4ms/step - loss: 0.8083 - accuracy: 0.7544 - val_loss: 0.7919 - val_accuracy: 0.7700\n",
            "Epoch 143/200\n",
            "100/100 [==============================] - 0s 3ms/step - loss: 0.8184 - accuracy: 0.7494 - val_loss: 0.7914 - val_accuracy: 0.7700\n",
            "Epoch 144/200\n",
            "100/100 [==============================] - 0s 3ms/step - loss: 0.8060 - accuracy: 0.7487 - val_loss: 0.7912 - val_accuracy: 0.7700\n",
            "Epoch 145/200\n",
            "100/100 [==============================] - 0s 3ms/step - loss: 0.8012 - accuracy: 0.7594 - val_loss: 0.7909 - val_accuracy: 0.7700\n",
            "Epoch 146/200\n",
            "100/100 [==============================] - 0s 3ms/step - loss: 0.8087 - accuracy: 0.7538 - val_loss: 0.7908 - val_accuracy: 0.7700\n",
            "Epoch 147/200\n",
            "100/100 [==============================] - 0s 3ms/step - loss: 0.7935 - accuracy: 0.7594 - val_loss: 0.7905 - val_accuracy: 0.7700\n",
            "Epoch 148/200\n",
            "100/100 [==============================] - 0s 4ms/step - loss: 0.8076 - accuracy: 0.7581 - val_loss: 0.7904 - val_accuracy: 0.7700\n",
            "Epoch 149/200\n",
            "100/100 [==============================] - 0s 3ms/step - loss: 0.8002 - accuracy: 0.7525 - val_loss: 0.7904 - val_accuracy: 0.7700\n",
            "Epoch 150/200\n",
            "100/100 [==============================] - 0s 3ms/step - loss: 0.8113 - accuracy: 0.7575 - val_loss: 0.7903 - val_accuracy: 0.7700\n",
            "Epoch 151/200\n",
            "100/100 [==============================] - 0s 3ms/step - loss: 0.8114 - accuracy: 0.7513 - val_loss: 0.7899 - val_accuracy: 0.7700\n",
            "Epoch 152/200\n",
            "100/100 [==============================] - 0s 3ms/step - loss: 0.8052 - accuracy: 0.7538 - val_loss: 0.7900 - val_accuracy: 0.7700\n",
            "Epoch 153/200\n",
            "100/100 [==============================] - 0s 3ms/step - loss: 0.7956 - accuracy: 0.7575 - val_loss: 0.7898 - val_accuracy: 0.7700\n",
            "Epoch 154/200\n",
            "100/100 [==============================] - 0s 3ms/step - loss: 0.7988 - accuracy: 0.7644 - val_loss: 0.7894 - val_accuracy: 0.7700\n",
            "Epoch 155/200\n",
            "100/100 [==============================] - 0s 3ms/step - loss: 0.7985 - accuracy: 0.7631 - val_loss: 0.7890 - val_accuracy: 0.7700\n",
            "Epoch 156/200\n",
            "100/100 [==============================] - 0s 3ms/step - loss: 0.8084 - accuracy: 0.7513 - val_loss: 0.7890 - val_accuracy: 0.7700\n",
            "Epoch 157/200\n",
            "100/100 [==============================] - 0s 3ms/step - loss: 0.8041 - accuracy: 0.7525 - val_loss: 0.7889 - val_accuracy: 0.7700\n",
            "Epoch 158/200\n",
            "100/100 [==============================] - 0s 4ms/step - loss: 0.8002 - accuracy: 0.7531 - val_loss: 0.7884 - val_accuracy: 0.7700\n",
            "Epoch 159/200\n",
            "100/100 [==============================] - 0s 4ms/step - loss: 0.8015 - accuracy: 0.7563 - val_loss: 0.7884 - val_accuracy: 0.7700\n",
            "Epoch 160/200\n",
            "100/100 [==============================] - 0s 3ms/step - loss: 0.8062 - accuracy: 0.7594 - val_loss: 0.7879 - val_accuracy: 0.7700\n",
            "Epoch 161/200\n",
            "100/100 [==============================] - 0s 3ms/step - loss: 0.8100 - accuracy: 0.7575 - val_loss: 0.7878 - val_accuracy: 0.7700\n",
            "Epoch 162/200\n",
            "100/100 [==============================] - 0s 4ms/step - loss: 0.7922 - accuracy: 0.7531 - val_loss: 0.7874 - val_accuracy: 0.7700\n",
            "Epoch 163/200\n",
            "100/100 [==============================] - 0s 3ms/step - loss: 0.7952 - accuracy: 0.7600 - val_loss: 0.7873 - val_accuracy: 0.7700\n",
            "Epoch 164/200\n",
            "100/100 [==============================] - 0s 3ms/step - loss: 0.8105 - accuracy: 0.7569 - val_loss: 0.7872 - val_accuracy: 0.7700\n",
            "Epoch 165/200\n",
            "100/100 [==============================] - 0s 3ms/step - loss: 0.8000 - accuracy: 0.7525 - val_loss: 0.7874 - val_accuracy: 0.7700\n",
            "Epoch 166/200\n",
            "100/100 [==============================] - 0s 3ms/step - loss: 0.7922 - accuracy: 0.7575 - val_loss: 0.7870 - val_accuracy: 0.7700\n",
            "Epoch 167/200\n",
            "100/100 [==============================] - 0s 3ms/step - loss: 0.8021 - accuracy: 0.7600 - val_loss: 0.7870 - val_accuracy: 0.7700\n",
            "Epoch 168/200\n",
            "100/100 [==============================] - 0s 4ms/step - loss: 0.7973 - accuracy: 0.7525 - val_loss: 0.7869 - val_accuracy: 0.7700\n",
            "Epoch 169/200\n",
            "100/100 [==============================] - 0s 3ms/step - loss: 0.7925 - accuracy: 0.7531 - val_loss: 0.7868 - val_accuracy: 0.7700\n",
            "Epoch 170/200\n",
            "100/100 [==============================] - 0s 4ms/step - loss: 0.8042 - accuracy: 0.7638 - val_loss: 0.7866 - val_accuracy: 0.7700\n",
            "Epoch 171/200\n",
            "100/100 [==============================] - 0s 3ms/step - loss: 0.8088 - accuracy: 0.7588 - val_loss: 0.7867 - val_accuracy: 0.7650\n",
            "Epoch 172/200\n",
            "100/100 [==============================] - 0s 3ms/step - loss: 0.8063 - accuracy: 0.7563 - val_loss: 0.7866 - val_accuracy: 0.7650\n",
            "Epoch 173/200\n",
            "100/100 [==============================] - 0s 4ms/step - loss: 0.7943 - accuracy: 0.7588 - val_loss: 0.7864 - val_accuracy: 0.7650\n",
            "Epoch 174/200\n",
            "100/100 [==============================] - 0s 3ms/step - loss: 0.7871 - accuracy: 0.7606 - val_loss: 0.7865 - val_accuracy: 0.7650\n",
            "Epoch 175/200\n",
            "100/100 [==============================] - 0s 3ms/step - loss: 0.7991 - accuracy: 0.7506 - val_loss: 0.7860 - val_accuracy: 0.7650\n",
            "Epoch 176/200\n",
            "100/100 [==============================] - 0s 4ms/step - loss: 0.7967 - accuracy: 0.7525 - val_loss: 0.7859 - val_accuracy: 0.7650\n",
            "Epoch 177/200\n",
            "100/100 [==============================] - 0s 3ms/step - loss: 0.7974 - accuracy: 0.7475 - val_loss: 0.7859 - val_accuracy: 0.7650\n",
            "Epoch 178/200\n",
            "100/100 [==============================] - 0s 3ms/step - loss: 0.7971 - accuracy: 0.7581 - val_loss: 0.7857 - val_accuracy: 0.7650\n",
            "Epoch 179/200\n",
            "100/100 [==============================] - 0s 3ms/step - loss: 0.7925 - accuracy: 0.7588 - val_loss: 0.7852 - val_accuracy: 0.7650\n",
            "Epoch 180/200\n",
            "100/100 [==============================] - 0s 3ms/step - loss: 0.7978 - accuracy: 0.7556 - val_loss: 0.7853 - val_accuracy: 0.7650\n",
            "Epoch 181/200\n",
            "100/100 [==============================] - 0s 3ms/step - loss: 0.7846 - accuracy: 0.7594 - val_loss: 0.7851 - val_accuracy: 0.7650\n",
            "Epoch 182/200\n",
            "100/100 [==============================] - 0s 4ms/step - loss: 0.7934 - accuracy: 0.7550 - val_loss: 0.7850 - val_accuracy: 0.7650\n",
            "Epoch 183/200\n",
            "100/100 [==============================] - 0s 3ms/step - loss: 0.7868 - accuracy: 0.7675 - val_loss: 0.7847 - val_accuracy: 0.7650\n",
            "Epoch 184/200\n",
            "100/100 [==============================] - 0s 3ms/step - loss: 0.7886 - accuracy: 0.7538 - val_loss: 0.7849 - val_accuracy: 0.7650\n",
            "Epoch 185/200\n",
            "100/100 [==============================] - 0s 3ms/step - loss: 0.7876 - accuracy: 0.7606 - val_loss: 0.7849 - val_accuracy: 0.7650\n",
            "Epoch 186/200\n",
            "100/100 [==============================] - 0s 3ms/step - loss: 0.7881 - accuracy: 0.7613 - val_loss: 0.7843 - val_accuracy: 0.7650\n",
            "Epoch 187/200\n",
            "100/100 [==============================] - 0s 4ms/step - loss: 0.7902 - accuracy: 0.7575 - val_loss: 0.7844 - val_accuracy: 0.7650\n",
            "Epoch 188/200\n",
            "100/100 [==============================] - 0s 4ms/step - loss: 0.7954 - accuracy: 0.7600 - val_loss: 0.7842 - val_accuracy: 0.7650\n",
            "Epoch 189/200\n",
            "100/100 [==============================] - 0s 3ms/step - loss: 0.7922 - accuracy: 0.7569 - val_loss: 0.7842 - val_accuracy: 0.7650\n",
            "Epoch 190/200\n",
            "100/100 [==============================] - 0s 4ms/step - loss: 0.7830 - accuracy: 0.7650 - val_loss: 0.7842 - val_accuracy: 0.7650\n",
            "Epoch 191/200\n",
            "100/100 [==============================] - 0s 4ms/step - loss: 0.7838 - accuracy: 0.7575 - val_loss: 0.7841 - val_accuracy: 0.7650\n",
            "Epoch 192/200\n",
            "100/100 [==============================] - 0s 3ms/step - loss: 0.7871 - accuracy: 0.7631 - val_loss: 0.7836 - val_accuracy: 0.7650\n",
            "Epoch 193/200\n",
            "100/100 [==============================] - 0s 4ms/step - loss: 0.7884 - accuracy: 0.7563 - val_loss: 0.7836 - val_accuracy: 0.7650\n",
            "Epoch 194/200\n",
            "100/100 [==============================] - 0s 3ms/step - loss: 0.7967 - accuracy: 0.7631 - val_loss: 0.7834 - val_accuracy: 0.7650\n",
            "Epoch 195/200\n",
            "100/100 [==============================] - 0s 4ms/step - loss: 0.7896 - accuracy: 0.7613 - val_loss: 0.7833 - val_accuracy: 0.7650\n",
            "Epoch 196/200\n",
            "100/100 [==============================] - 0s 4ms/step - loss: 0.7998 - accuracy: 0.7606 - val_loss: 0.7834 - val_accuracy: 0.7650\n",
            "Epoch 197/200\n",
            "100/100 [==============================] - 0s 4ms/step - loss: 0.7830 - accuracy: 0.7625 - val_loss: 0.7833 - val_accuracy: 0.7650\n",
            "Epoch 198/200\n",
            "100/100 [==============================] - 0s 4ms/step - loss: 0.8018 - accuracy: 0.7606 - val_loss: 0.7832 - val_accuracy: 0.7700\n",
            "Epoch 199/200\n",
            "100/100 [==============================] - 0s 3ms/step - loss: 0.8040 - accuracy: 0.7519 - val_loss: 0.7829 - val_accuracy: 0.7650\n",
            "Epoch 200/200\n",
            "100/100 [==============================] - 0s 3ms/step - loss: 0.7972 - accuracy: 0.7569 - val_loss: 0.7830 - val_accuracy: 0.7650\n",
            "evaluate\n"
          ]
        }
      ]
    },
    {
      "cell_type": "code",
      "source": [
        "# test\n",
        "model_loss,modelAccuracy = model.evaluate([np.array(x_test['meta'].tolist()),np.array(x_test['image'].tolist())],y_test)\n",
        "print(\"model accuracy \"+str(modelAccuracy))"
      ],
      "metadata": {
        "id": "HjSR5WHbO0nJ",
        "outputId": "f73fa564-74af-4c79-f07c-e9038a54be4b",
        "colab": {
          "base_uri": "https://localhost:8080/"
        }
      },
      "execution_count": null,
      "outputs": [
        {
          "output_type": "stream",
          "name": "stdout",
          "text": [
            "7/7 [==============================] - 0s 3ms/step - loss: 0.7424 - accuracy: 0.7800\n",
            "model accuracy 0.7799999713897705\n"
          ]
        }
      ]
    },
    {
      "cell_type": "code",
      "source": [
        "predictions = model.predict([np.array(x_test['meta'].tolist()),np.array(x_test['image'].tolist())], verbose=0)"
      ],
      "metadata": {
        "id": "XsyQUegTcUCR"
      },
      "execution_count": null,
      "outputs": []
    },
    {
      "cell_type": "code",
      "source": [
        "from sklearn.metrics import  precision_score, recall_score, accuracy_score,classification_report,roc_auc_score,roc_curve,auc\n",
        "from tensorflow.keras.utils import to_categorical\n",
        "\n",
        "#geting predictions on test dataset\n",
        "y_pred = np.argmax(predictions, axis=1)\n",
        "\n",
        "#getting the true labels per image \n",
        "y_true = y_test\n",
        "\n",
        "# Creating classification report \n",
        "report = classification_report(y_true, y_pred)\n",
        "\n",
        "print(\"\\nClassification Report:\")\n",
        "print(report)"
      ],
      "metadata": {
        "id": "k1YvzqE5arrJ",
        "outputId": "2a427e25-3696-4452-fc4d-dc0a5798e2e5",
        "colab": {
          "base_uri": "https://localhost:8080/"
        }
      },
      "execution_count": null,
      "outputs": [
        {
          "output_type": "stream",
          "name": "stdout",
          "text": [
            "\n",
            "Classification Report:\n",
            "              precision    recall  f1-score   support\n",
            "\n",
            "           0       0.00      0.00      0.00         1\n",
            "           1       0.83      0.56      0.67         9\n",
            "           2       0.68      0.71      0.69        24\n",
            "           3       0.00      0.00      0.00         4\n",
            "           4       0.50      0.52      0.51        21\n",
            "           5       0.84      0.89      0.86       138\n",
            "           6       0.00      0.00      0.00         2\n",
            "           7       0.00      0.00      0.00         1\n",
            "\n",
            "    accuracy                           0.78       200\n",
            "   macro avg       0.36      0.33      0.34       200\n",
            "weighted avg       0.75      0.78      0.76       200\n",
            "\n"
          ]
        },
        {
          "output_type": "stream",
          "name": "stderr",
          "text": [
            "/usr/local/lib/python3.7/dist-packages/sklearn/metrics/_classification.py:1318: UndefinedMetricWarning: Precision and F-score are ill-defined and being set to 0.0 in labels with no predicted samples. Use `zero_division` parameter to control this behavior.\n",
            "  _warn_prf(average, modifier, msg_start, len(result))\n",
            "/usr/local/lib/python3.7/dist-packages/sklearn/metrics/_classification.py:1318: UndefinedMetricWarning: Precision and F-score are ill-defined and being set to 0.0 in labels with no predicted samples. Use `zero_division` parameter to control this behavior.\n",
            "  _warn_prf(average, modifier, msg_start, len(result))\n",
            "/usr/local/lib/python3.7/dist-packages/sklearn/metrics/_classification.py:1318: UndefinedMetricWarning: Precision and F-score are ill-defined and being set to 0.0 in labels with no predicted samples. Use `zero_division` parameter to control this behavior.\n",
            "  _warn_prf(average, modifier, msg_start, len(result))\n"
          ]
        }
      ]
    },
    {
      "cell_type": "code",
      "source": [
        "from sklearn.metrics import precision_score, recall_score, f1_score\n",
        "print(\"Precision_score: \",precision_score(y_true, y_pred, average='weighted')*100)\n",
        "print(\"Recall_score: \",recall_score(y_true, y_pred, average='weighted')*100)\n",
        "print(\"F1_score: \",f1_score(y_true, y_pred, average='weighted')*100)"
      ],
      "metadata": {
        "id": "VYANz5jUatd9",
        "outputId": "c77ce21a-01cb-466e-c7c3-9698087df428",
        "colab": {
          "base_uri": "https://localhost:8080/"
        }
      },
      "execution_count": null,
      "outputs": [
        {
          "output_type": "stream",
          "name": "stdout",
          "text": [
            "Precision_score:  74.89469387755102\n",
            "Recall_score:  78.0\n",
            "F1_score:  76.25651837234282\n"
          ]
        },
        {
          "output_type": "stream",
          "name": "stderr",
          "text": [
            "/usr/local/lib/python3.7/dist-packages/sklearn/metrics/_classification.py:1318: UndefinedMetricWarning: Precision is ill-defined and being set to 0.0 in labels with no predicted samples. Use `zero_division` parameter to control this behavior.\n",
            "  _warn_prf(average, modifier, msg_start, len(result))\n"
          ]
        }
      ]
    },
    {
      "cell_type": "code",
      "source": [],
      "metadata": {
        "id": "ZcB12NSg0JIi"
      },
      "execution_count": null,
      "outputs": []
    }
  ],
  "metadata": {
    "accelerator": "GPU",
    "colab": {
      "collapsed_sections": [],
      "provenance": []
    },
    "kernelspec": {
      "display_name": "Python 3",
      "name": "python3"
    },
    "language_info": {
      "name": "python"
    }
  },
  "nbformat": 4,
  "nbformat_minor": 0
}