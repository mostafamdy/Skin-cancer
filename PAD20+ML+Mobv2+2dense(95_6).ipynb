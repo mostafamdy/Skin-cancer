{
  "nbformat": 4,
  "nbformat_minor": 0,
  "metadata": {
    "colab": {
      "name": "PAD20+ML+Mobv2+2dense(95.6).ipynb",
      "provenance": [],
      "collapsed_sections": []
    },
    "kernelspec": {
      "name": "python3",
      "display_name": "Python 3"
    },
    "language_info": {
      "name": "python"
    },
    "accelerator": "GPU"
  },
  "cells": [
    {
      "cell_type": "code",
      "source": [
        "seed=101"
      ],
      "metadata": {
        "id": "hapacCFSccif"
      },
      "execution_count": null,
      "outputs": []
    },
    {
      "cell_type": "code",
      "execution_count": null,
      "metadata": {
        "id": "Mafn_4c2M-v-"
      },
      "outputs": [],
      "source": [
        "import os\n",
        "import cv2\n",
        "import shutil\n",
        "import requests\n",
        "import numpy as np\n",
        "import pandas as pd\n",
        "import random as rn\n",
        "import tensorflow as tf\n",
        "import matplotlib.pyplot as plt\n",
        "from zipfile import ZipFile\n",
        "from tensorflow import keras\n",
        "from keras import Model\n",
        "from keras import applications\n",
        "from keras import regularizers\n",
        "from keras import backend as K\n",
        "from keras.layers import Dense,Dropout\n",
        "from sklearn import metrics\n",
        "from sklearn import preprocessing\n",
        "from sklearn.preprocessing import LabelBinarizer\n",
        "from sklearn.ensemble import RandomForestClassifier\n",
        "from sklearn.linear_model import LogisticRegression\n",
        "from sklearn.model_selection import train_test_split"
      ]
    },
    {
      "cell_type": "markdown",
      "source": [
        "#Download Dataset"
      ],
      "metadata": {
        "id": "amWQT598IxOY"
      }
    },
    {
      "cell_type": "code",
      "source": [
        "def download_file(url):\n",
        "    local_filename = url.split('/')[-1]\n",
        "    # NOTE the stream=True parameter below\n",
        "    with requests.get(url, stream=True) as r:\n",
        "        r.raise_for_status()\n",
        "        with open(local_filename, 'wb') as f:\n",
        "            for chunk in r.iter_content(chunk_size=8192): \n",
        "                # If you have chunk encoded response uncomment if\n",
        "                # and set chunk_size parameter to None.\n",
        "                #if chunk: \n",
        "                f.write(chunk)\n",
        "    return local_filename\n",
        "    \n",
        "file_name=download_file(\"https://md-datasets-cache-zipfiles-prod.s3.eu-west-1.amazonaws.com/zr7vgbcyr2-1.zip\")\n",
        "# opening the zip file in READ mode\n",
        "with ZipFile(file_name, 'r') as zip:\n",
        "\t# printing all the contents of the zip file\n",
        "\tzip.printdir()\n",
        "\n",
        "\t# extracting all the files\n",
        "\tprint('Extracting all the files now...')\n",
        "\tzip.extractall()\n",
        "\tprint('Done!')"
      ],
      "metadata": {
        "id": "pARBLEwbVWhs",
        "outputId": "74cc704f-0bc8-4440-e2bd-49bea00865f9",
        "colab": {
          "base_uri": "https://localhost:8080/"
        }
      },
      "execution_count": null,
      "outputs": [
        {
          "output_type": "stream",
          "name": "stdout",
          "text": [
            "File Name                                             Modified             Size\n",
            "images/                                        2020-07-09 12:36:14            0\n",
            "images/imgs_part_2.zip                         2020-07-09 12:36:14   1126646990\n",
            "images/imgs_part_3.zip                         2020-07-09 12:58:40   1220565093\n",
            "images/imgs_part_1.zip                         2020-07-09 13:29:36   1245184680\n",
            "metadata.csv                                   2020-07-09 13:53:28       316209\n",
            "Extracting all the files now...\n",
            "Done!\n"
          ]
        }
      ]
    },
    {
      "cell_type": "code",
      "source": [
        "file_name=\"images/imgs_part_1.zip\"\n",
        "with ZipFile(file_name, 'r') as zip:\n",
        "\t# extracting all the files\n",
        "\tprint('Extracting all the files now...')\n",
        "\tzip.extractall()\n",
        "\tprint('Done!')\n",
        " \n",
        "file_name=\"images/imgs_part_2.zip\"\n",
        "with ZipFile(file_name, 'r') as zip:\n",
        "\t# extracting all the files\n",
        "\tprint('Extracting all the files now...')\n",
        "\tzip.extractall()\n",
        "\tprint('Done!')\n",
        "\n",
        "file_name=\"images/imgs_part_3.zip\"\n",
        "with ZipFile(file_name, 'r') as zip:\n",
        "\t# extracting all the files\n",
        "\tprint('Extracting all the files now...')\n",
        "\tzip.extractall()\n",
        "\tprint('Done!')"
      ],
      "metadata": {
        "id": "R8hyVxvwXfmN",
        "outputId": "d7cb3410-e1cf-4c53-9dc2-1e09592c5a27",
        "colab": {
          "base_uri": "https://localhost:8080/"
        }
      },
      "execution_count": null,
      "outputs": [
        {
          "output_type": "stream",
          "name": "stdout",
          "text": [
            "Extracting all the files now...\n",
            "Done!\n",
            "Extracting all the files now...\n",
            "Done!\n",
            "Extracting all the files now...\n",
            "Done!\n"
          ]
        }
      ]
    },
    {
      "cell_type": "markdown",
      "source": [
        "#Move all images to one folder"
      ],
      "metadata": {
        "id": "hVXSpSjoI3vo"
      }
    },
    {
      "cell_type": "code",
      "source": [
        "os.mkdir(\"/content/all_images\")\n",
        "source_dir=\"/content/imgs_part_1\"\n",
        "file_names = os.listdir(source_dir)\n",
        "for file_name in file_names:\n",
        "    shutil.move(os.path.join(source_dir, file_name), \"/content/all_images\")\n",
        "\n",
        "source_dir=\"/content/imgs_part_2\"\n",
        "file_names = os.listdir(source_dir)\n",
        "for file_name in file_names:\n",
        "    shutil.move(os.path.join(source_dir, file_name), \"/content/all_images\")\n",
        "\n",
        "source_dir=\"/content/imgs_part_3\"\n",
        "file_names = os.listdir(source_dir)\n",
        "for file_name in file_names:\n",
        "    shutil.move(os.path.join(source_dir, file_name), \"/content/all_images\")"
      ],
      "metadata": {
        "id": "eSKNxj5GYWkC"
      },
      "execution_count": null,
      "outputs": []
    },
    {
      "cell_type": "markdown",
      "source": [
        "# Read Meta"
      ],
      "metadata": {
        "id": "FtfYh-wlJHej"
      }
    },
    {
      "cell_type": "code",
      "source": [
        "metadata_path=\"/content/metadata.csv\"\n",
        "meta = pd.read_csv(metadata_path)\n",
        "meta=meta.drop(['patient_id','lesion_id'],axis=1)"
      ],
      "metadata": {
        "id": "fTS_QdvSL042"
      },
      "execution_count": null,
      "outputs": []
    },
    {
      "cell_type": "code",
      "source": [
        "meta['smoke']=meta['smoke'].map({True: 2, False: 1})\n",
        "meta['smoke']=meta['smoke'].fillna(0)\n",
        "\n",
        "meta['drink']=meta['drink'].map({True: 2, False: 1})\n",
        "meta['drink']=meta['drink'].fillna(0)\n",
        "\n",
        "meta['pesticide']=meta['pesticide'].map({True: 2, False: 1})\n",
        "meta['pesticide']=meta['pesticide'].fillna(0)\n",
        "\n",
        "meta['gender']=meta['gender'].map({'FEMALE': 2, 'MALE': 1})\n",
        "meta['gender']=meta['gender'].fillna(0)\n",
        "\n",
        "meta['skin_cancer_history']=meta['skin_cancer_history'].map({True: 2, False: 1})\n",
        "meta['skin_cancer_history']=meta['skin_cancer_history'].fillna(0)\n",
        "\n",
        "meta['cancer_history']=meta['cancer_history'].map({True: 2, False: 1})\n",
        "meta['cancer_history']=meta['cancer_history'].fillna(0)\n",
        "\n",
        "meta['has_piped_water']=meta['has_piped_water'].map({True: 2, False: 1})\n",
        "meta['has_piped_water']=meta['has_piped_water'].fillna(0)\n",
        "\n",
        "meta['has_sewage_system']=meta['has_sewage_system'].map({True: 2, False: 1})\n",
        "meta['has_sewage_system']=meta['has_sewage_system'].fillna(0)\n",
        "\n",
        "meta['biopsed']=meta['biopsed'].map({True: 2, False: 1})\n",
        "meta['biopsed']=meta['biopsed'].fillna(0)\n",
        "\n",
        "# digits\n",
        "meta['fitspatrick']=meta['fitspatrick'].fillna(-1)\n",
        "meta['diameter_1']=meta['diameter_1'].fillna(-1)\n",
        "meta['diameter_2']=meta['diameter_2'].fillna(-1)\n",
        "\n",
        "meta['itch']=meta['itch'].map({'True': 2, 'False': 1,'UNK':0})\n",
        "meta['grew']=meta['grew'].map({'True': 2, 'False': 1,'UNK':0})\n",
        "meta['hurt']=meta['hurt'].map({'True': 2, 'False': 1,'UNK':0})\n",
        "meta['changed']=meta['changed'].map({'True': 2, 'False': 1,'UNK':0})\n",
        "meta['bleed']=meta['bleed'].map({'True': 2, 'False': 1,'UNK':0})\n",
        "meta['elevation']=meta['elevation'].map({'True': 2, 'False': 1,'UNK':0})\n",
        "\n",
        "meta['background_father']=meta['background_father'].fillna('None')\n",
        "meta['background_mother']=meta['background_mother'].fillna('None')"
      ],
      "metadata": {
        "id": "bwZny2nrStzy"
      },
      "execution_count": null,
      "outputs": []
    },
    {
      "cell_type": "code",
      "source": [
        "for i in meta.columns:\n",
        "  if meta[i].dtypes=='O':\n",
        "    if i!=\"img_id\":\n",
        "      ls=meta[i].values.tolist()\n",
        "      le = preprocessing.LabelEncoder()\n",
        "      meta[i] = le.fit_transform(meta[i]) "
      ],
      "metadata": {
        "id": "zQaxI23pTCb6"
      },
      "execution_count": null,
      "outputs": []
    },
    {
      "cell_type": "code",
      "source": [
        "meta"
      ],
      "metadata": {
        "id": "Tnwqwn_Cqitq",
        "colab": {
          "base_uri": "https://localhost:8080/",
          "height": 488
        },
        "outputId": "faf1a7af-e767-4a58-b29a-044d9ef20921"
      },
      "execution_count": null,
      "outputs": [
        {
          "output_type": "execute_result",
          "data": {
            "text/plain": [
              "      smoke  drink  background_father  background_mother  age  pesticide  \\\n",
              "0       0.0    0.0                  8                  6    8        0.0   \n",
              "1       1.0    1.0                 10                  8   55        1.0   \n",
              "2       0.0    0.0                  8                  6   77        0.0   \n",
              "3       0.0    0.0                  8                  6   75        0.0   \n",
              "4       1.0    2.0                 10                  8   79        1.0   \n",
              "...     ...    ...                ...                ...  ...        ...   \n",
              "2293    0.0    0.0                  8                  6   73        0.0   \n",
              "2294    1.0    1.0                 10                  8   55        1.0   \n",
              "2295    0.0    0.0                  8                  6   74        0.0   \n",
              "2296    1.0    1.0                 10                  8   58        2.0   \n",
              "2297    0.0    0.0                  8                  6   41        0.0   \n",
              "\n",
              "      gender  skin_cancer_history  cancer_history  has_piped_water  ...  \\\n",
              "0        0.0                  0.0             0.0              0.0  ...   \n",
              "1        2.0                  2.0             2.0              2.0  ...   \n",
              "2        0.0                  0.0             0.0              0.0  ...   \n",
              "3        0.0                  0.0             0.0              0.0  ...   \n",
              "4        1.0                  2.0             1.0              1.0  ...   \n",
              "...      ...                  ...             ...              ...  ...   \n",
              "2293     0.0                  0.0             0.0              0.0  ...   \n",
              "2294     2.0                  2.0             2.0              2.0  ...   \n",
              "2295     0.0                  0.0             0.0              0.0  ...   \n",
              "2296     2.0                  2.0             2.0              1.0  ...   \n",
              "2297     0.0                  0.0             0.0              0.0  ...   \n",
              "\n",
              "      diameter_2  diagnostic  itch  grew  hurt  changed  bleed  elevation  \\\n",
              "0           -1.0           3     1     1     1        1      1          1   \n",
              "1            5.0           1     2     2     1        2      2          2   \n",
              "2           -1.0           0     2     1     1        1      1          1   \n",
              "3           -1.0           0     2     1     1        1      1          1   \n",
              "4            5.0           1     2     2     1        1      2          2   \n",
              "...          ...         ...   ...   ...   ...      ...    ...        ...   \n",
              "2293        -1.0           0     2     1     1        1      1          1   \n",
              "2294        12.0           1     2     2     1        2      1          1   \n",
              "2295        -1.0           5     1     1     1        1      1          1   \n",
              "2296         4.0           1     2     1     1        1      1          2   \n",
              "2297        -1.0           5     1     2     1        1      1          2   \n",
              "\n",
              "                     img_id  biopsed  \n",
              "0     PAT_1516_1765_530.png        1  \n",
              "1        PAT_46_881_939.png        2  \n",
              "2     PAT_1545_1867_547.png        1  \n",
              "3     PAT_1989_4061_934.png        1  \n",
              "4      PAT_684_1302_588.png        2  \n",
              "...                     ...      ...  \n",
              "2293  PAT_1708_3156_175.png        1  \n",
              "2294     PAT_46_880_140.png        2  \n",
              "2295  PAT_1343_1217_404.png        1  \n",
              "2296    PAT_326_690_823.png        2  \n",
              "2297  PAT_1714_3189_989.png        1  \n",
              "\n",
              "[2298 rows x 24 columns]"
            ],
            "text/html": [
              "\n",
              "  <div id=\"df-7a2f6370-c1f5-44e4-afec-98ba81c4e16e\">\n",
              "    <div class=\"colab-df-container\">\n",
              "      <div>\n",
              "<style scoped>\n",
              "    .dataframe tbody tr th:only-of-type {\n",
              "        vertical-align: middle;\n",
              "    }\n",
              "\n",
              "    .dataframe tbody tr th {\n",
              "        vertical-align: top;\n",
              "    }\n",
              "\n",
              "    .dataframe thead th {\n",
              "        text-align: right;\n",
              "    }\n",
              "</style>\n",
              "<table border=\"1\" class=\"dataframe\">\n",
              "  <thead>\n",
              "    <tr style=\"text-align: right;\">\n",
              "      <th></th>\n",
              "      <th>smoke</th>\n",
              "      <th>drink</th>\n",
              "      <th>background_father</th>\n",
              "      <th>background_mother</th>\n",
              "      <th>age</th>\n",
              "      <th>pesticide</th>\n",
              "      <th>gender</th>\n",
              "      <th>skin_cancer_history</th>\n",
              "      <th>cancer_history</th>\n",
              "      <th>has_piped_water</th>\n",
              "      <th>...</th>\n",
              "      <th>diameter_2</th>\n",
              "      <th>diagnostic</th>\n",
              "      <th>itch</th>\n",
              "      <th>grew</th>\n",
              "      <th>hurt</th>\n",
              "      <th>changed</th>\n",
              "      <th>bleed</th>\n",
              "      <th>elevation</th>\n",
              "      <th>img_id</th>\n",
              "      <th>biopsed</th>\n",
              "    </tr>\n",
              "  </thead>\n",
              "  <tbody>\n",
              "    <tr>\n",
              "      <th>0</th>\n",
              "      <td>0.0</td>\n",
              "      <td>0.0</td>\n",
              "      <td>8</td>\n",
              "      <td>6</td>\n",
              "      <td>8</td>\n",
              "      <td>0.0</td>\n",
              "      <td>0.0</td>\n",
              "      <td>0.0</td>\n",
              "      <td>0.0</td>\n",
              "      <td>0.0</td>\n",
              "      <td>...</td>\n",
              "      <td>-1.0</td>\n",
              "      <td>3</td>\n",
              "      <td>1</td>\n",
              "      <td>1</td>\n",
              "      <td>1</td>\n",
              "      <td>1</td>\n",
              "      <td>1</td>\n",
              "      <td>1</td>\n",
              "      <td>PAT_1516_1765_530.png</td>\n",
              "      <td>1</td>\n",
              "    </tr>\n",
              "    <tr>\n",
              "      <th>1</th>\n",
              "      <td>1.0</td>\n",
              "      <td>1.0</td>\n",
              "      <td>10</td>\n",
              "      <td>8</td>\n",
              "      <td>55</td>\n",
              "      <td>1.0</td>\n",
              "      <td>2.0</td>\n",
              "      <td>2.0</td>\n",
              "      <td>2.0</td>\n",
              "      <td>2.0</td>\n",
              "      <td>...</td>\n",
              "      <td>5.0</td>\n",
              "      <td>1</td>\n",
              "      <td>2</td>\n",
              "      <td>2</td>\n",
              "      <td>1</td>\n",
              "      <td>2</td>\n",
              "      <td>2</td>\n",
              "      <td>2</td>\n",
              "      <td>PAT_46_881_939.png</td>\n",
              "      <td>2</td>\n",
              "    </tr>\n",
              "    <tr>\n",
              "      <th>2</th>\n",
              "      <td>0.0</td>\n",
              "      <td>0.0</td>\n",
              "      <td>8</td>\n",
              "      <td>6</td>\n",
              "      <td>77</td>\n",
              "      <td>0.0</td>\n",
              "      <td>0.0</td>\n",
              "      <td>0.0</td>\n",
              "      <td>0.0</td>\n",
              "      <td>0.0</td>\n",
              "      <td>...</td>\n",
              "      <td>-1.0</td>\n",
              "      <td>0</td>\n",
              "      <td>2</td>\n",
              "      <td>1</td>\n",
              "      <td>1</td>\n",
              "      <td>1</td>\n",
              "      <td>1</td>\n",
              "      <td>1</td>\n",
              "      <td>PAT_1545_1867_547.png</td>\n",
              "      <td>1</td>\n",
              "    </tr>\n",
              "    <tr>\n",
              "      <th>3</th>\n",
              "      <td>0.0</td>\n",
              "      <td>0.0</td>\n",
              "      <td>8</td>\n",
              "      <td>6</td>\n",
              "      <td>75</td>\n",
              "      <td>0.0</td>\n",
              "      <td>0.0</td>\n",
              "      <td>0.0</td>\n",
              "      <td>0.0</td>\n",
              "      <td>0.0</td>\n",
              "      <td>...</td>\n",
              "      <td>-1.0</td>\n",
              "      <td>0</td>\n",
              "      <td>2</td>\n",
              "      <td>1</td>\n",
              "      <td>1</td>\n",
              "      <td>1</td>\n",
              "      <td>1</td>\n",
              "      <td>1</td>\n",
              "      <td>PAT_1989_4061_934.png</td>\n",
              "      <td>1</td>\n",
              "    </tr>\n",
              "    <tr>\n",
              "      <th>4</th>\n",
              "      <td>1.0</td>\n",
              "      <td>2.0</td>\n",
              "      <td>10</td>\n",
              "      <td>8</td>\n",
              "      <td>79</td>\n",
              "      <td>1.0</td>\n",
              "      <td>1.0</td>\n",
              "      <td>2.0</td>\n",
              "      <td>1.0</td>\n",
              "      <td>1.0</td>\n",
              "      <td>...</td>\n",
              "      <td>5.0</td>\n",
              "      <td>1</td>\n",
              "      <td>2</td>\n",
              "      <td>2</td>\n",
              "      <td>1</td>\n",
              "      <td>1</td>\n",
              "      <td>2</td>\n",
              "      <td>2</td>\n",
              "      <td>PAT_684_1302_588.png</td>\n",
              "      <td>2</td>\n",
              "    </tr>\n",
              "    <tr>\n",
              "      <th>...</th>\n",
              "      <td>...</td>\n",
              "      <td>...</td>\n",
              "      <td>...</td>\n",
              "      <td>...</td>\n",
              "      <td>...</td>\n",
              "      <td>...</td>\n",
              "      <td>...</td>\n",
              "      <td>...</td>\n",
              "      <td>...</td>\n",
              "      <td>...</td>\n",
              "      <td>...</td>\n",
              "      <td>...</td>\n",
              "      <td>...</td>\n",
              "      <td>...</td>\n",
              "      <td>...</td>\n",
              "      <td>...</td>\n",
              "      <td>...</td>\n",
              "      <td>...</td>\n",
              "      <td>...</td>\n",
              "      <td>...</td>\n",
              "      <td>...</td>\n",
              "    </tr>\n",
              "    <tr>\n",
              "      <th>2293</th>\n",
              "      <td>0.0</td>\n",
              "      <td>0.0</td>\n",
              "      <td>8</td>\n",
              "      <td>6</td>\n",
              "      <td>73</td>\n",
              "      <td>0.0</td>\n",
              "      <td>0.0</td>\n",
              "      <td>0.0</td>\n",
              "      <td>0.0</td>\n",
              "      <td>0.0</td>\n",
              "      <td>...</td>\n",
              "      <td>-1.0</td>\n",
              "      <td>0</td>\n",
              "      <td>2</td>\n",
              "      <td>1</td>\n",
              "      <td>1</td>\n",
              "      <td>1</td>\n",
              "      <td>1</td>\n",
              "      <td>1</td>\n",
              "      <td>PAT_1708_3156_175.png</td>\n",
              "      <td>1</td>\n",
              "    </tr>\n",
              "    <tr>\n",
              "      <th>2294</th>\n",
              "      <td>1.0</td>\n",
              "      <td>1.0</td>\n",
              "      <td>10</td>\n",
              "      <td>8</td>\n",
              "      <td>55</td>\n",
              "      <td>1.0</td>\n",
              "      <td>2.0</td>\n",
              "      <td>2.0</td>\n",
              "      <td>2.0</td>\n",
              "      <td>2.0</td>\n",
              "      <td>...</td>\n",
              "      <td>12.0</td>\n",
              "      <td>1</td>\n",
              "      <td>2</td>\n",
              "      <td>2</td>\n",
              "      <td>1</td>\n",
              "      <td>2</td>\n",
              "      <td>1</td>\n",
              "      <td>1</td>\n",
              "      <td>PAT_46_880_140.png</td>\n",
              "      <td>2</td>\n",
              "    </tr>\n",
              "    <tr>\n",
              "      <th>2295</th>\n",
              "      <td>0.0</td>\n",
              "      <td>0.0</td>\n",
              "      <td>8</td>\n",
              "      <td>6</td>\n",
              "      <td>74</td>\n",
              "      <td>0.0</td>\n",
              "      <td>0.0</td>\n",
              "      <td>0.0</td>\n",
              "      <td>0.0</td>\n",
              "      <td>0.0</td>\n",
              "      <td>...</td>\n",
              "      <td>-1.0</td>\n",
              "      <td>5</td>\n",
              "      <td>1</td>\n",
              "      <td>1</td>\n",
              "      <td>1</td>\n",
              "      <td>1</td>\n",
              "      <td>1</td>\n",
              "      <td>1</td>\n",
              "      <td>PAT_1343_1217_404.png</td>\n",
              "      <td>1</td>\n",
              "    </tr>\n",
              "    <tr>\n",
              "      <th>2296</th>\n",
              "      <td>1.0</td>\n",
              "      <td>1.0</td>\n",
              "      <td>10</td>\n",
              "      <td>8</td>\n",
              "      <td>58</td>\n",
              "      <td>2.0</td>\n",
              "      <td>2.0</td>\n",
              "      <td>2.0</td>\n",
              "      <td>2.0</td>\n",
              "      <td>1.0</td>\n",
              "      <td>...</td>\n",
              "      <td>4.0</td>\n",
              "      <td>1</td>\n",
              "      <td>2</td>\n",
              "      <td>1</td>\n",
              "      <td>1</td>\n",
              "      <td>1</td>\n",
              "      <td>1</td>\n",
              "      <td>2</td>\n",
              "      <td>PAT_326_690_823.png</td>\n",
              "      <td>2</td>\n",
              "    </tr>\n",
              "    <tr>\n",
              "      <th>2297</th>\n",
              "      <td>0.0</td>\n",
              "      <td>0.0</td>\n",
              "      <td>8</td>\n",
              "      <td>6</td>\n",
              "      <td>41</td>\n",
              "      <td>0.0</td>\n",
              "      <td>0.0</td>\n",
              "      <td>0.0</td>\n",
              "      <td>0.0</td>\n",
              "      <td>0.0</td>\n",
              "      <td>...</td>\n",
              "      <td>-1.0</td>\n",
              "      <td>5</td>\n",
              "      <td>1</td>\n",
              "      <td>2</td>\n",
              "      <td>1</td>\n",
              "      <td>1</td>\n",
              "      <td>1</td>\n",
              "      <td>2</td>\n",
              "      <td>PAT_1714_3189_989.png</td>\n",
              "      <td>1</td>\n",
              "    </tr>\n",
              "  </tbody>\n",
              "</table>\n",
              "<p>2298 rows × 24 columns</p>\n",
              "</div>\n",
              "      <button class=\"colab-df-convert\" onclick=\"convertToInteractive('df-7a2f6370-c1f5-44e4-afec-98ba81c4e16e')\"\n",
              "              title=\"Convert this dataframe to an interactive table.\"\n",
              "              style=\"display:none;\">\n",
              "        \n",
              "  <svg xmlns=\"http://www.w3.org/2000/svg\" height=\"24px\"viewBox=\"0 0 24 24\"\n",
              "       width=\"24px\">\n",
              "    <path d=\"M0 0h24v24H0V0z\" fill=\"none\"/>\n",
              "    <path d=\"M18.56 5.44l.94 2.06.94-2.06 2.06-.94-2.06-.94-.94-2.06-.94 2.06-2.06.94zm-11 1L8.5 8.5l.94-2.06 2.06-.94-2.06-.94L8.5 2.5l-.94 2.06-2.06.94zm10 10l.94 2.06.94-2.06 2.06-.94-2.06-.94-.94-2.06-.94 2.06-2.06.94z\"/><path d=\"M17.41 7.96l-1.37-1.37c-.4-.4-.92-.59-1.43-.59-.52 0-1.04.2-1.43.59L10.3 9.45l-7.72 7.72c-.78.78-.78 2.05 0 2.83L4 21.41c.39.39.9.59 1.41.59.51 0 1.02-.2 1.41-.59l7.78-7.78 2.81-2.81c.8-.78.8-2.07 0-2.86zM5.41 20L4 18.59l7.72-7.72 1.47 1.35L5.41 20z\"/>\n",
              "  </svg>\n",
              "      </button>\n",
              "      \n",
              "  <style>\n",
              "    .colab-df-container {\n",
              "      display:flex;\n",
              "      flex-wrap:wrap;\n",
              "      gap: 12px;\n",
              "    }\n",
              "\n",
              "    .colab-df-convert {\n",
              "      background-color: #E8F0FE;\n",
              "      border: none;\n",
              "      border-radius: 50%;\n",
              "      cursor: pointer;\n",
              "      display: none;\n",
              "      fill: #1967D2;\n",
              "      height: 32px;\n",
              "      padding: 0 0 0 0;\n",
              "      width: 32px;\n",
              "    }\n",
              "\n",
              "    .colab-df-convert:hover {\n",
              "      background-color: #E2EBFA;\n",
              "      box-shadow: 0px 1px 2px rgba(60, 64, 67, 0.3), 0px 1px 3px 1px rgba(60, 64, 67, 0.15);\n",
              "      fill: #174EA6;\n",
              "    }\n",
              "\n",
              "    [theme=dark] .colab-df-convert {\n",
              "      background-color: #3B4455;\n",
              "      fill: #D2E3FC;\n",
              "    }\n",
              "\n",
              "    [theme=dark] .colab-df-convert:hover {\n",
              "      background-color: #434B5C;\n",
              "      box-shadow: 0px 1px 3px 1px rgba(0, 0, 0, 0.15);\n",
              "      filter: drop-shadow(0px 1px 2px rgba(0, 0, 0, 0.3));\n",
              "      fill: #FFFFFF;\n",
              "    }\n",
              "  </style>\n",
              "\n",
              "      <script>\n",
              "        const buttonEl =\n",
              "          document.querySelector('#df-7a2f6370-c1f5-44e4-afec-98ba81c4e16e button.colab-df-convert');\n",
              "        buttonEl.style.display =\n",
              "          google.colab.kernel.accessAllowed ? 'block' : 'none';\n",
              "\n",
              "        async function convertToInteractive(key) {\n",
              "          const element = document.querySelector('#df-7a2f6370-c1f5-44e4-afec-98ba81c4e16e');\n",
              "          const dataTable =\n",
              "            await google.colab.kernel.invokeFunction('convertToInteractive',\n",
              "                                                     [key], {});\n",
              "          if (!dataTable) return;\n",
              "\n",
              "          const docLinkHtml = 'Like what you see? Visit the ' +\n",
              "            '<a target=\"_blank\" href=https://colab.research.google.com/notebooks/data_table.ipynb>data table notebook</a>'\n",
              "            + ' to learn more about interactive tables.';\n",
              "          element.innerHTML = '';\n",
              "          dataTable['output_type'] = 'display_data';\n",
              "          await google.colab.output.renderOutput(dataTable, element);\n",
              "          const docLink = document.createElement('div');\n",
              "          docLink.innerHTML = docLinkHtml;\n",
              "          element.appendChild(docLink);\n",
              "        }\n",
              "      </script>\n",
              "    </div>\n",
              "  </div>\n",
              "  "
            ]
          },
          "metadata": {},
          "execution_count": 79
        }
      ]
    },
    {
      "cell_type": "markdown",
      "source": [
        "#Pre-processing"
      ],
      "metadata": {
        "id": "MriVq4rYpEiF"
      }
    },
    {
      "cell_type": "code",
      "source": [
        "num_cores=1  \n",
        "os.environ['PYTHONHASHSEED'] = '0'                      \n",
        "np.random.seed(seed)\n",
        "rn.seed(seed)\n",
        "tf.random.set_seed(seed)\n",
        "session_conf = tf.compat.v1.ConfigProto(intra_op_parallelism_threads=num_cores,\n",
        "                              inter_op_parallelism_threads=num_cores, \n",
        "                              allow_soft_placement=True,\n",
        "                              device_count = {'CPU' : 1, 'GPU' : 0})\n",
        "sess = tf.compat.v1.Session(graph=tf.compat.v1.get_default_graph(), config=session_conf)\n",
        "K.set_session(sess)\n",
        "\n",
        "#getting features from images\n",
        "model = tf.keras.applications.MobileNetV2(input_shape=(380, 380, 3), include_top=False, weights='imagenet')"
      ],
      "metadata": {
        "id": "lIDJKUQGOI_9",
        "colab": {
          "base_uri": "https://localhost:8080/"
        },
        "outputId": "1e184ca6-1398-48ea-9872-b7ccab074967"
      },
      "execution_count": null,
      "outputs": [
        {
          "output_type": "stream",
          "name": "stdout",
          "text": [
            "WARNING:tensorflow:`input_shape` is undefined or non-square, or `rows` is not in [96, 128, 160, 192, 224]. Weights for input shape (224, 224) will be loaded as the default.\n"
          ]
        }
      ]
    },
    {
      "cell_type": "code",
      "source": [
        "for indx,i in enumerate(meta['img_id']):\n",
        "    path=os.path.join(\"/content/all_images/\",i)\n",
        "    image=tf.keras.utils.load_img(path,target_size=(380,380))\n",
        "    input_arr = tf.keras.preprocessing.image.img_to_array(image)\n",
        "    input_arr = cv2.cvtColor(input_arr,cv2.COLOR_BGR2RGB)\n",
        "    input_arr=np.array([input_arr])\n",
        "    input_arr=input_arr/255\n",
        "    features=model.predict(input_arr)\n",
        "    nx, ny,_ = features[0].shape\n",
        "    d2_train_dataset = features[0].reshape(nx*ny*_)\n",
        "    meta['img_id'][indx]=d2_train_dataset"
      ],
      "metadata": {
        "colab": {
          "base_uri": "https://localhost:8080/"
        },
        "id": "zoV9VIyNpklF",
        "outputId": "65992a2f-02dd-4fb1-b6d3-4757336ea3d2"
      },
      "execution_count": null,
      "outputs": [
        {
          "output_type": "stream",
          "name": "stderr",
          "text": [
            "/usr/local/lib/python3.7/dist-packages/ipykernel_launcher.py:11: SettingWithCopyWarning: \n",
            "A value is trying to be set on a copy of a slice from a DataFrame\n",
            "\n",
            "See the caveats in the documentation: https://pandas.pydata.org/pandas-docs/stable/user_guide/indexing.html#returning-a-view-versus-a-copy\n",
            "  # This is added back by InteractiveShellApp.init_path()\n"
          ]
        }
      ]
    },
    {
      "cell_type": "markdown",
      "source": [
        "#Split Data"
      ],
      "metadata": {
        "id": "SH4i9YhcJlUR"
      }
    },
    {
      "cell_type": "code",
      "source": [
        "train,test0=train_test_split(meta,test_size=0.2,random_state=seed)\n",
        "valid,test=train_test_split(test0,test_size=0.5,random_state=seed)"
      ],
      "metadata": {
        "id": "CZJ_JBEuTJ3t"
      },
      "execution_count": null,
      "outputs": []
    },
    {
      "cell_type": "code",
      "source": [
        "imgF=[]\n",
        "for indx in train.index:\n",
        "  imgF.append(train['img_id'][indx])\n",
        "\n",
        "imgF_tst=[]\n",
        "for indx in test.index:\n",
        "  imgF_tst.append(test['img_id'][indx])\n",
        "\n",
        "imgF_valid=[]\n",
        "for indx in valid.index:\n",
        "  imgF_valid.append(valid['img_id'][indx])"
      ],
      "metadata": {
        "id": "HOyoKBD8QE2v"
      },
      "execution_count": null,
      "outputs": []
    },
    {
      "cell_type": "code",
      "source": [
        "target=train['diagnostic']\n",
        "x=train.drop(['diagnostic','img_id','background_father'],axis=1)\n",
        "\n",
        "target_test=test['diagnostic']\n",
        "x_test=test.drop(['diagnostic','img_id','background_father'],axis=1)\n",
        "\n",
        "target_valid=valid['diagnostic']\n",
        "x_valid=valid.drop(['diagnostic','img_id','background_father'],axis=1)"
      ],
      "metadata": {
        "id": "7X8uL8L4z0k4"
      },
      "execution_count": null,
      "outputs": []
    },
    {
      "cell_type": "code",
      "source": [
        "meta_clf = RandomForestClassifier(random_state=seed)\n",
        "img_clf = LogisticRegression(random_state=seed)\n",
        "img_clf.fit(imgF, target)\n",
        "meta_clf.fit(x, target)"
      ],
      "metadata": {
        "id": "0jbQaWJM3cnn",
        "colab": {
          "base_uri": "https://localhost:8080/"
        },
        "outputId": "bcd865b4-023f-4d11-ddaa-5e25b11c1443"
      },
      "execution_count": null,
      "outputs": [
        {
          "output_type": "stream",
          "name": "stderr",
          "text": [
            "/usr/local/lib/python3.7/dist-packages/sklearn/linear_model/_logistic.py:818: ConvergenceWarning: lbfgs failed to converge (status=1):\n",
            "STOP: TOTAL NO. of ITERATIONS REACHED LIMIT.\n",
            "\n",
            "Increase the number of iterations (max_iter) or scale the data as shown in:\n",
            "    https://scikit-learn.org/stable/modules/preprocessing.html\n",
            "Please also refer to the documentation for alternative solver options:\n",
            "    https://scikit-learn.org/stable/modules/linear_model.html#logistic-regression\n",
            "  extra_warning_msg=_LOGISTIC_SOLVER_CONVERGENCE_MSG,\n"
          ]
        },
        {
          "output_type": "execute_result",
          "data": {
            "text/plain": [
              "RandomForestClassifier(random_state=101)"
            ]
          },
          "metadata": {},
          "execution_count": 85
        }
      ]
    },
    {
      "cell_type": "code",
      "source": [
        "def multiclass_accuracy_score(y_test, y_pred, average=\"macro\"):\n",
        "        lb = LabelBinarizer()\n",
        "        lb.fit(y_test)\n",
        "        y_test = lb.transform(y_test)\n",
        "        y_pred = lb.transform(y_pred)\n",
        "\n",
        "        return  metrics.accuracy_score(y_test,y_pred)\n",
        "        # return metrics.roc_auc_score(y_test, y_pred, average=average)"
      ],
      "metadata": {
        "id": "eRuzKwf8Xcxw"
      },
      "execution_count": null,
      "outputs": []
    },
    {
      "cell_type": "markdown",
      "source": [
        "#Meta + Image in one Model"
      ],
      "metadata": {
        "id": "lErH-F2YZQDe"
      }
    },
    {
      "cell_type": "code",
      "source": [
        "predicted_img_labels_tst = img_clf.predict_proba(imgF_tst)\n",
        "predicted_meta_labels_tst = meta_clf.predict_proba(x_test)\n",
        "\n",
        "predicted_img_labels_valid = img_clf.predict_proba(imgF_valid)\n",
        "predicted_meta_labels_valid = meta_clf.predict_proba(x_valid)"
      ],
      "metadata": {
        "id": "pSYE0lZ-DclU"
      },
      "execution_count": null,
      "outputs": []
    },
    {
      "cell_type": "code",
      "source": [
        "pre_img=[]\n",
        "for i in predicted_img_labels_tst:\n",
        "  pre_img.append(np.argmax(i))\n",
        "\n",
        "pre_meta=[]\n",
        "for i in predicted_meta_labels_tst:\n",
        "  pre_meta.append(np.argmax(i))"
      ],
      "metadata": {
        "id": "qVBDJ7JIiKb5"
      },
      "execution_count": null,
      "outputs": []
    },
    {
      "cell_type": "code",
      "source": [
        "print('img',multiclass_accuracy_score(pre_img,target_test)*100)\n",
        "print('meta',multiclass_accuracy_score(pre_meta,target_test)*100)\n",
        "# Roc Auc Score\n",
        "# img 71.89755624663128\n",
        "# meta 91.829753751555"
      ],
      "metadata": {
        "id": "x2pwx5Pt_ZrX",
        "outputId": "72b34d05-49e2-43bd-e7da-cf213b2f8e08",
        "colab": {
          "base_uri": "https://localhost:8080/"
        }
      },
      "execution_count": null,
      "outputs": [
        {
          "output_type": "stream",
          "name": "stdout",
          "text": [
            "img 63.91304347826087\n",
            "meta 85.65217391304348\n"
          ]
        }
      ]
    },
    {
      "cell_type": "code",
      "source": [
        "all_x=[]\n",
        "all_im=[]\n",
        "all_y=[]\n",
        "for i in range(len(predicted_meta_labels_valid)):\n",
        "  all_x.append(predicted_meta_labels_valid[i])\n",
        "  all_im.append(predicted_img_labels_valid[i])\n",
        "  all_y.append(target_valid.iloc[i])\n",
        "\n",
        "  all_x.append(predicted_meta_labels_tst[i])\n",
        "  all_im.append(predicted_img_labels_tst[i])\n",
        "  all_y.append(target_test.iloc[i])"
      ],
      "metadata": {
        "id": "1kti0Ihw4UiN"
      },
      "execution_count": null,
      "outputs": []
    },
    {
      "cell_type": "code",
      "source": [
        "dict = {'meta': all_x, 'image': all_im, 'label': all_y} \n",
        "df = pd.DataFrame(dict)"
      ],
      "metadata": {
        "id": "tbV_QqmwJxZQ"
      },
      "execution_count": null,
      "outputs": []
    },
    {
      "cell_type": "code",
      "source": [
        "df"
      ],
      "metadata": {
        "colab": {
          "base_uri": "https://localhost:8080/",
          "height": 424
        },
        "id": "oeHFFjSfLGnQ",
        "outputId": "45ef2740-bad3-446d-d9ee-99aa570ffcac"
      },
      "execution_count": null,
      "outputs": [
        {
          "output_type": "execute_result",
          "data": {
            "text/plain": [
              "                                    meta  \\\n",
              "0         [1.0, 0.0, 0.0, 0.0, 0.0, 0.0]   \n",
              "1       [0.21, 0.0, 0.0, 0.0, 0.0, 0.79]   \n",
              "2         [1.0, 0.0, 0.0, 0.0, 0.0, 0.0]   \n",
              "3      [0.93, 0.0, 0.0, 0.01, 0.0, 0.06]   \n",
              "4      [0.64, 0.19, 0.0, 0.0, 0.17, 0.0]   \n",
              "..                                   ...   \n",
              "455   [0.02, 0.8, 0.0, 0.01, 0.16, 0.01]   \n",
              "456    [0.09, 0.73, 0.0, 0.0, 0.18, 0.0]   \n",
              "457   [0.04, 0.88, 0.0, 0.01, 0.07, 0.0]   \n",
              "458  [0.05, 0.24, 0.2, 0.07, 0.42, 0.02]   \n",
              "459   [0.28, 0.62, 0.0, 0.03, 0.07, 0.0]   \n",
              "\n",
              "                                                 image  label  \n",
              "0    [0.004061240624716062, 0.07063830470674712, 9....      0  \n",
              "1    [2.391423689129827e-06, 0.9885252911002861, 1....      5  \n",
              "2    [0.9999804516489698, 1.9521513650302876e-05, 4...      0  \n",
              "3    [0.9993386408277762, 3.2072214363774035e-08, 1...      0  \n",
              "4    [0.23278781222726935, 0.605859145025308, 6.520...      0  \n",
              "..                                                 ...    ...  \n",
              "455  [0.29717014778899953, 0.7028298324514438, 7.53...      1  \n",
              "456  [1.1531481553860057e-06, 0.01078537737781342, ...      1  \n",
              "457  [1.3795596119816178e-06, 0.999860993476166, 0....      1  \n",
              "458  [2.3067624543820716e-11, 0.9999999998649127, 1...      3  \n",
              "459  [2.0082955212083443e-15, 0.9999997089788294, 7...      1  \n",
              "\n",
              "[460 rows x 3 columns]"
            ],
            "text/html": [
              "\n",
              "  <div id=\"df-6086a333-1cd6-43a3-a997-61976d002aa3\">\n",
              "    <div class=\"colab-df-container\">\n",
              "      <div>\n",
              "<style scoped>\n",
              "    .dataframe tbody tr th:only-of-type {\n",
              "        vertical-align: middle;\n",
              "    }\n",
              "\n",
              "    .dataframe tbody tr th {\n",
              "        vertical-align: top;\n",
              "    }\n",
              "\n",
              "    .dataframe thead th {\n",
              "        text-align: right;\n",
              "    }\n",
              "</style>\n",
              "<table border=\"1\" class=\"dataframe\">\n",
              "  <thead>\n",
              "    <tr style=\"text-align: right;\">\n",
              "      <th></th>\n",
              "      <th>meta</th>\n",
              "      <th>image</th>\n",
              "      <th>label</th>\n",
              "    </tr>\n",
              "  </thead>\n",
              "  <tbody>\n",
              "    <tr>\n",
              "      <th>0</th>\n",
              "      <td>[1.0, 0.0, 0.0, 0.0, 0.0, 0.0]</td>\n",
              "      <td>[0.004061240624716062, 0.07063830470674712, 9....</td>\n",
              "      <td>0</td>\n",
              "    </tr>\n",
              "    <tr>\n",
              "      <th>1</th>\n",
              "      <td>[0.21, 0.0, 0.0, 0.0, 0.0, 0.79]</td>\n",
              "      <td>[2.391423689129827e-06, 0.9885252911002861, 1....</td>\n",
              "      <td>5</td>\n",
              "    </tr>\n",
              "    <tr>\n",
              "      <th>2</th>\n",
              "      <td>[1.0, 0.0, 0.0, 0.0, 0.0, 0.0]</td>\n",
              "      <td>[0.9999804516489698, 1.9521513650302876e-05, 4...</td>\n",
              "      <td>0</td>\n",
              "    </tr>\n",
              "    <tr>\n",
              "      <th>3</th>\n",
              "      <td>[0.93, 0.0, 0.0, 0.01, 0.0, 0.06]</td>\n",
              "      <td>[0.9993386408277762, 3.2072214363774035e-08, 1...</td>\n",
              "      <td>0</td>\n",
              "    </tr>\n",
              "    <tr>\n",
              "      <th>4</th>\n",
              "      <td>[0.64, 0.19, 0.0, 0.0, 0.17, 0.0]</td>\n",
              "      <td>[0.23278781222726935, 0.605859145025308, 6.520...</td>\n",
              "      <td>0</td>\n",
              "    </tr>\n",
              "    <tr>\n",
              "      <th>...</th>\n",
              "      <td>...</td>\n",
              "      <td>...</td>\n",
              "      <td>...</td>\n",
              "    </tr>\n",
              "    <tr>\n",
              "      <th>455</th>\n",
              "      <td>[0.02, 0.8, 0.0, 0.01, 0.16, 0.01]</td>\n",
              "      <td>[0.29717014778899953, 0.7028298324514438, 7.53...</td>\n",
              "      <td>1</td>\n",
              "    </tr>\n",
              "    <tr>\n",
              "      <th>456</th>\n",
              "      <td>[0.09, 0.73, 0.0, 0.0, 0.18, 0.0]</td>\n",
              "      <td>[1.1531481553860057e-06, 0.01078537737781342, ...</td>\n",
              "      <td>1</td>\n",
              "    </tr>\n",
              "    <tr>\n",
              "      <th>457</th>\n",
              "      <td>[0.04, 0.88, 0.0, 0.01, 0.07, 0.0]</td>\n",
              "      <td>[1.3795596119816178e-06, 0.999860993476166, 0....</td>\n",
              "      <td>1</td>\n",
              "    </tr>\n",
              "    <tr>\n",
              "      <th>458</th>\n",
              "      <td>[0.05, 0.24, 0.2, 0.07, 0.42, 0.02]</td>\n",
              "      <td>[2.3067624543820716e-11, 0.9999999998649127, 1...</td>\n",
              "      <td>3</td>\n",
              "    </tr>\n",
              "    <tr>\n",
              "      <th>459</th>\n",
              "      <td>[0.28, 0.62, 0.0, 0.03, 0.07, 0.0]</td>\n",
              "      <td>[2.0082955212083443e-15, 0.9999997089788294, 7...</td>\n",
              "      <td>1</td>\n",
              "    </tr>\n",
              "  </tbody>\n",
              "</table>\n",
              "<p>460 rows × 3 columns</p>\n",
              "</div>\n",
              "      <button class=\"colab-df-convert\" onclick=\"convertToInteractive('df-6086a333-1cd6-43a3-a997-61976d002aa3')\"\n",
              "              title=\"Convert this dataframe to an interactive table.\"\n",
              "              style=\"display:none;\">\n",
              "        \n",
              "  <svg xmlns=\"http://www.w3.org/2000/svg\" height=\"24px\"viewBox=\"0 0 24 24\"\n",
              "       width=\"24px\">\n",
              "    <path d=\"M0 0h24v24H0V0z\" fill=\"none\"/>\n",
              "    <path d=\"M18.56 5.44l.94 2.06.94-2.06 2.06-.94-2.06-.94-.94-2.06-.94 2.06-2.06.94zm-11 1L8.5 8.5l.94-2.06 2.06-.94-2.06-.94L8.5 2.5l-.94 2.06-2.06.94zm10 10l.94 2.06.94-2.06 2.06-.94-2.06-.94-.94-2.06-.94 2.06-2.06.94z\"/><path d=\"M17.41 7.96l-1.37-1.37c-.4-.4-.92-.59-1.43-.59-.52 0-1.04.2-1.43.59L10.3 9.45l-7.72 7.72c-.78.78-.78 2.05 0 2.83L4 21.41c.39.39.9.59 1.41.59.51 0 1.02-.2 1.41-.59l7.78-7.78 2.81-2.81c.8-.78.8-2.07 0-2.86zM5.41 20L4 18.59l7.72-7.72 1.47 1.35L5.41 20z\"/>\n",
              "  </svg>\n",
              "      </button>\n",
              "      \n",
              "  <style>\n",
              "    .colab-df-container {\n",
              "      display:flex;\n",
              "      flex-wrap:wrap;\n",
              "      gap: 12px;\n",
              "    }\n",
              "\n",
              "    .colab-df-convert {\n",
              "      background-color: #E8F0FE;\n",
              "      border: none;\n",
              "      border-radius: 50%;\n",
              "      cursor: pointer;\n",
              "      display: none;\n",
              "      fill: #1967D2;\n",
              "      height: 32px;\n",
              "      padding: 0 0 0 0;\n",
              "      width: 32px;\n",
              "    }\n",
              "\n",
              "    .colab-df-convert:hover {\n",
              "      background-color: #E2EBFA;\n",
              "      box-shadow: 0px 1px 2px rgba(60, 64, 67, 0.3), 0px 1px 3px 1px rgba(60, 64, 67, 0.15);\n",
              "      fill: #174EA6;\n",
              "    }\n",
              "\n",
              "    [theme=dark] .colab-df-convert {\n",
              "      background-color: #3B4455;\n",
              "      fill: #D2E3FC;\n",
              "    }\n",
              "\n",
              "    [theme=dark] .colab-df-convert:hover {\n",
              "      background-color: #434B5C;\n",
              "      box-shadow: 0px 1px 3px 1px rgba(0, 0, 0, 0.15);\n",
              "      filter: drop-shadow(0px 1px 2px rgba(0, 0, 0, 0.3));\n",
              "      fill: #FFFFFF;\n",
              "    }\n",
              "  </style>\n",
              "\n",
              "      <script>\n",
              "        const buttonEl =\n",
              "          document.querySelector('#df-6086a333-1cd6-43a3-a997-61976d002aa3 button.colab-df-convert');\n",
              "        buttonEl.style.display =\n",
              "          google.colab.kernel.accessAllowed ? 'block' : 'none';\n",
              "\n",
              "        async function convertToInteractive(key) {\n",
              "          const element = document.querySelector('#df-6086a333-1cd6-43a3-a997-61976d002aa3');\n",
              "          const dataTable =\n",
              "            await google.colab.kernel.invokeFunction('convertToInteractive',\n",
              "                                                     [key], {});\n",
              "          if (!dataTable) return;\n",
              "\n",
              "          const docLinkHtml = 'Like what you see? Visit the ' +\n",
              "            '<a target=\"_blank\" href=https://colab.research.google.com/notebooks/data_table.ipynb>data table notebook</a>'\n",
              "            + ' to learn more about interactive tables.';\n",
              "          element.innerHTML = '';\n",
              "          dataTable['output_type'] = 'display_data';\n",
              "          await google.colab.output.renderOutput(dataTable, element);\n",
              "          const docLink = document.createElement('div');\n",
              "          docLink.innerHTML = docLinkHtml;\n",
              "          element.appendChild(docLink);\n",
              "        }\n",
              "      </script>\n",
              "    </div>\n",
              "  </div>\n",
              "  "
            ]
          },
          "metadata": {},
          "execution_count": 92
        }
      ]
    },
    {
      "cell_type": "code",
      "source": [
        "train,test0=train_test_split(df,test_size=0.2,random_state=seed)\n",
        "test,valid=train_test_split(test0,test_size=0.5,random_state=seed)"
      ],
      "metadata": {
        "id": "0PF-MXQC5PSa"
      },
      "execution_count": null,
      "outputs": []
    },
    {
      "cell_type": "code",
      "source": [
        "x_train=train.drop(['label'],axis=1)\n",
        "y_train=train['label']\n",
        "\n",
        "x_test=test.drop(['label'],axis=1)\n",
        "y_test=test['label']\n",
        "\n",
        "x_valid=valid.drop(['label'],axis=1)\n",
        "y_valid=valid['label']"
      ],
      "metadata": {
        "id": "OulcbS8m4252"
      },
      "execution_count": null,
      "outputs": []
    },
    {
      "cell_type": "code",
      "source": [
        "num_cores=1  \n",
        "os.environ['PYTHONHASHSEED'] = '0'                      \n",
        "np.random.seed(seed)\n",
        "rn.seed(seed)\n",
        "tf.random.set_seed(seed)\n",
        "session_conf = tf.compat.v1.ConfigProto(intra_op_parallelism_threads=num_cores,\n",
        "                              inter_op_parallelism_threads=num_cores, \n",
        "                              allow_soft_placement=True,\n",
        "                              device_count = {'CPU' : 1, 'GPU' : 0})\n",
        "sess = tf.compat.v1.Session(graph=tf.compat.v1.get_default_graph(), config=session_conf)\n",
        "K.set_session(sess)\n",
        "\n",
        "model_inputs=[]\n",
        "for i in range(2):\n",
        "  model_inputs.append(keras.Input(shape=(6,)))\n",
        "\n",
        "combinedInput = tf.keras.layers.concatenate(model_inputs)\n",
        "# 390\n",
        "x = Dense(1024,activation=\"relu\",\n",
        "          kernel_regularizer=regularizers.L1L2(l1=1e-5, l2=1e-4),\n",
        "          )(combinedInput)\n",
        "\n",
        "x=Dropout(.9)(x)\n",
        "predictions = Dense(6,activation=\"softmax\")(x)\n",
        "\n",
        "model = Model(inputs=model_inputs,outputs=predictions)\n",
        "\n",
        "opt= keras.optimizers.Adam(learning_rate=0.0001,epsilon=0.01)\n",
        "model.compile(optimizer=opt,loss=\"sparse_categorical_crossentropy\",metrics=['accuracy'])\n",
        "\n",
        "# test\n",
        "# model.fit([predicted_img_labels_tst,predicted_meta_labels_tst],target_test ,epochs=200,validation_split=.2,batch_size=16)#validation_data=(validList,validDic['diagnostic'])\n",
        "\n",
        "# train\n",
        "# model.fit([predicted_img_labels,predicted_meta_labels],target ,epochs=100,validation_split=.1,batch_size=16)#validation_data=(validList,validDic['diagnostic'])\n",
        "\n",
        "# valid\n",
        "hist = model.fit([np.array(x_train['meta'].tolist()),np.array(x_train['image'].tolist())],y_train ,epochs=200,validation_data=([np.array(x_test['meta'].tolist()),np.array(x_test['image'].tolist())],y_test),batch_size=16)#validation_data=(validList,validDic['diagnostic'])\n",
        "\n",
        "print(\"evaluate\")\n",
        "\n",
        "# valid\n",
        "# model_loss,modelAccuracy = model.evaluate([predicted_img_labels_valid,predicted_meta_labels_valid],target_valid)\n"
      ],
      "metadata": {
        "colab": {
          "base_uri": "https://localhost:8080/"
        },
        "id": "0VPPvREzIWKj",
        "outputId": "df15a14a-a39f-4068-db04-fb856fd24c8e"
      },
      "execution_count": null,
      "outputs": [
        {
          "output_type": "stream",
          "name": "stdout",
          "text": [
            "Epoch 1/200\n",
            "23/23 [==============================] - 1s 10ms/step - loss: 1.8109 - accuracy: 0.1712 - val_loss: 1.7974 - val_accuracy: 0.1304\n",
            "Epoch 2/200\n",
            "23/23 [==============================] - 0s 4ms/step - loss: 1.8088 - accuracy: 0.1712 - val_loss: 1.7850 - val_accuracy: 0.1739\n",
            "Epoch 3/200\n",
            "23/23 [==============================] - 0s 5ms/step - loss: 1.7840 - accuracy: 0.2065 - val_loss: 1.7706 - val_accuracy: 0.2391\n",
            "Epoch 4/200\n",
            "23/23 [==============================] - 0s 4ms/step - loss: 1.7685 - accuracy: 0.2418 - val_loss: 1.7552 - val_accuracy: 0.2609\n",
            "Epoch 5/200\n",
            "23/23 [==============================] - 0s 4ms/step - loss: 1.7384 - accuracy: 0.2935 - val_loss: 1.7390 - val_accuracy: 0.3261\n",
            "Epoch 6/200\n",
            "23/23 [==============================] - 0s 4ms/step - loss: 1.7297 - accuracy: 0.3098 - val_loss: 1.7221 - val_accuracy: 0.5000\n",
            "Epoch 7/200\n",
            "23/23 [==============================] - 0s 4ms/step - loss: 1.7066 - accuracy: 0.3668 - val_loss: 1.7048 - val_accuracy: 0.5217\n",
            "Epoch 8/200\n",
            "23/23 [==============================] - 0s 4ms/step - loss: 1.6879 - accuracy: 0.4076 - val_loss: 1.6877 - val_accuracy: 0.5217\n",
            "Epoch 9/200\n",
            "23/23 [==============================] - 0s 4ms/step - loss: 1.6579 - accuracy: 0.4484 - val_loss: 1.6704 - val_accuracy: 0.5435\n",
            "Epoch 10/200\n",
            "23/23 [==============================] - 0s 4ms/step - loss: 1.6421 - accuracy: 0.4864 - val_loss: 1.6529 - val_accuracy: 0.5652\n",
            "Epoch 11/200\n",
            "23/23 [==============================] - 0s 4ms/step - loss: 1.6232 - accuracy: 0.5000 - val_loss: 1.6353 - val_accuracy: 0.5652\n",
            "Epoch 12/200\n",
            "23/23 [==============================] - 0s 4ms/step - loss: 1.6030 - accuracy: 0.5245 - val_loss: 1.6181 - val_accuracy: 0.5652\n",
            "Epoch 13/200\n",
            "23/23 [==============================] - 0s 4ms/step - loss: 1.5857 - accuracy: 0.5136 - val_loss: 1.5998 - val_accuracy: 0.5652\n",
            "Epoch 14/200\n",
            "23/23 [==============================] - 0s 4ms/step - loss: 1.5525 - accuracy: 0.5734 - val_loss: 1.5828 - val_accuracy: 0.5870\n",
            "Epoch 15/200\n",
            "23/23 [==============================] - 0s 4ms/step - loss: 1.5416 - accuracy: 0.5815 - val_loss: 1.5657 - val_accuracy: 0.5870\n",
            "Epoch 16/200\n",
            "23/23 [==============================] - 0s 4ms/step - loss: 1.4975 - accuracy: 0.6060 - val_loss: 1.5485 - val_accuracy: 0.5870\n",
            "Epoch 17/200\n",
            "23/23 [==============================] - 0s 5ms/step - loss: 1.5031 - accuracy: 0.5842 - val_loss: 1.5320 - val_accuracy: 0.5870\n",
            "Epoch 18/200\n",
            "23/23 [==============================] - 0s 4ms/step - loss: 1.4870 - accuracy: 0.5978 - val_loss: 1.5155 - val_accuracy: 0.5870\n",
            "Epoch 19/200\n",
            "23/23 [==============================] - 0s 4ms/step - loss: 1.4567 - accuracy: 0.6060 - val_loss: 1.4995 - val_accuracy: 0.5870\n",
            "Epoch 20/200\n",
            "23/23 [==============================] - 0s 4ms/step - loss: 1.4308 - accuracy: 0.6277 - val_loss: 1.4833 - val_accuracy: 0.5870\n",
            "Epoch 21/200\n",
            "23/23 [==============================] - 0s 4ms/step - loss: 1.4252 - accuracy: 0.6250 - val_loss: 1.4676 - val_accuracy: 0.5870\n",
            "Epoch 22/200\n",
            "23/23 [==============================] - 0s 4ms/step - loss: 1.3928 - accuracy: 0.6304 - val_loss: 1.4519 - val_accuracy: 0.5870\n",
            "Epoch 23/200\n",
            "23/23 [==============================] - 0s 4ms/step - loss: 1.3920 - accuracy: 0.6223 - val_loss: 1.4363 - val_accuracy: 0.5870\n",
            "Epoch 24/200\n",
            "23/23 [==============================] - 0s 4ms/step - loss: 1.3457 - accuracy: 0.6467 - val_loss: 1.4212 - val_accuracy: 0.5870\n",
            "Epoch 25/200\n",
            "23/23 [==============================] - 0s 4ms/step - loss: 1.3489 - accuracy: 0.6168 - val_loss: 1.4063 - val_accuracy: 0.5870\n",
            "Epoch 26/200\n",
            "23/23 [==============================] - 0s 4ms/step - loss: 1.3368 - accuracy: 0.6304 - val_loss: 1.3918 - val_accuracy: 0.5870\n",
            "Epoch 27/200\n",
            "23/23 [==============================] - 0s 4ms/step - loss: 1.3050 - accuracy: 0.6495 - val_loss: 1.3772 - val_accuracy: 0.5870\n",
            "Epoch 28/200\n",
            "23/23 [==============================] - 0s 4ms/step - loss: 1.2934 - accuracy: 0.6495 - val_loss: 1.3629 - val_accuracy: 0.5870\n",
            "Epoch 29/200\n",
            "23/23 [==============================] - 0s 3ms/step - loss: 1.2750 - accuracy: 0.6304 - val_loss: 1.3494 - val_accuracy: 0.5870\n",
            "Epoch 30/200\n",
            "23/23 [==============================] - 0s 4ms/step - loss: 1.2814 - accuracy: 0.6522 - val_loss: 1.3364 - val_accuracy: 0.5870\n",
            "Epoch 31/200\n",
            "23/23 [==============================] - 0s 4ms/step - loss: 1.2487 - accuracy: 0.6630 - val_loss: 1.3235 - val_accuracy: 0.5870\n",
            "Epoch 32/200\n",
            "23/23 [==============================] - 0s 4ms/step - loss: 1.2454 - accuracy: 0.6522 - val_loss: 1.3106 - val_accuracy: 0.5870\n",
            "Epoch 33/200\n",
            "23/23 [==============================] - 0s 4ms/step - loss: 1.2085 - accuracy: 0.6549 - val_loss: 1.2984 - val_accuracy: 0.5870\n",
            "Epoch 34/200\n",
            "23/23 [==============================] - 0s 4ms/step - loss: 1.2170 - accuracy: 0.6576 - val_loss: 1.2862 - val_accuracy: 0.5870\n",
            "Epoch 35/200\n",
            "23/23 [==============================] - 0s 4ms/step - loss: 1.1866 - accuracy: 0.6549 - val_loss: 1.2746 - val_accuracy: 0.5870\n",
            "Epoch 36/200\n",
            "23/23 [==============================] - 0s 4ms/step - loss: 1.1928 - accuracy: 0.6495 - val_loss: 1.2635 - val_accuracy: 0.5870\n",
            "Epoch 37/200\n",
            "23/23 [==============================] - 0s 4ms/step - loss: 1.1636 - accuracy: 0.6549 - val_loss: 1.2519 - val_accuracy: 0.5870\n",
            "Epoch 38/200\n",
            "23/23 [==============================] - 0s 4ms/step - loss: 1.1455 - accuracy: 0.6658 - val_loss: 1.2409 - val_accuracy: 0.5870\n",
            "Epoch 39/200\n",
            "23/23 [==============================] - 0s 4ms/step - loss: 1.1375 - accuracy: 0.6685 - val_loss: 1.2301 - val_accuracy: 0.5870\n",
            "Epoch 40/200\n",
            "23/23 [==============================] - 0s 4ms/step - loss: 1.1478 - accuracy: 0.6712 - val_loss: 1.2199 - val_accuracy: 0.5870\n",
            "Epoch 41/200\n",
            "23/23 [==============================] - 0s 4ms/step - loss: 1.1177 - accuracy: 0.6630 - val_loss: 1.2097 - val_accuracy: 0.5870\n",
            "Epoch 42/200\n",
            "23/23 [==============================] - 0s 4ms/step - loss: 1.1260 - accuracy: 0.6630 - val_loss: 1.2001 - val_accuracy: 0.6087\n",
            "Epoch 43/200\n",
            "23/23 [==============================] - 0s 4ms/step - loss: 1.0865 - accuracy: 0.6576 - val_loss: 1.1900 - val_accuracy: 0.6087\n",
            "Epoch 44/200\n",
            "23/23 [==============================] - 0s 4ms/step - loss: 1.1134 - accuracy: 0.6793 - val_loss: 1.1806 - val_accuracy: 0.6087\n",
            "Epoch 45/200\n",
            "23/23 [==============================] - 0s 4ms/step - loss: 1.0661 - accuracy: 0.6793 - val_loss: 1.1716 - val_accuracy: 0.6087\n",
            "Epoch 46/200\n",
            "23/23 [==============================] - 0s 4ms/step - loss: 1.0706 - accuracy: 0.6603 - val_loss: 1.1627 - val_accuracy: 0.6087\n",
            "Epoch 47/200\n",
            "23/23 [==============================] - 0s 4ms/step - loss: 1.0819 - accuracy: 0.6576 - val_loss: 1.1540 - val_accuracy: 0.6522\n",
            "Epoch 48/200\n",
            "23/23 [==============================] - 0s 6ms/step - loss: 1.0609 - accuracy: 0.6739 - val_loss: 1.1455 - val_accuracy: 0.6522\n",
            "Epoch 49/200\n",
            "23/23 [==============================] - 0s 9ms/step - loss: 1.0404 - accuracy: 0.6929 - val_loss: 1.1373 - val_accuracy: 0.6522\n",
            "Epoch 50/200\n",
            "23/23 [==============================] - 0s 9ms/step - loss: 1.0517 - accuracy: 0.6712 - val_loss: 1.1292 - val_accuracy: 0.6522\n",
            "Epoch 51/200\n",
            "23/23 [==============================] - 0s 7ms/step - loss: 1.0235 - accuracy: 0.6875 - val_loss: 1.1213 - val_accuracy: 0.6522\n",
            "Epoch 52/200\n",
            "23/23 [==============================] - 0s 6ms/step - loss: 1.0313 - accuracy: 0.6685 - val_loss: 1.1137 - val_accuracy: 0.6522\n",
            "Epoch 53/200\n",
            "23/23 [==============================] - 0s 8ms/step - loss: 1.0224 - accuracy: 0.7065 - val_loss: 1.1060 - val_accuracy: 0.6522\n",
            "Epoch 54/200\n",
            "23/23 [==============================] - 0s 5ms/step - loss: 1.0251 - accuracy: 0.6875 - val_loss: 1.0988 - val_accuracy: 0.6522\n",
            "Epoch 55/200\n",
            "23/23 [==============================] - 0s 4ms/step - loss: 0.9922 - accuracy: 0.7065 - val_loss: 1.0915 - val_accuracy: 0.6522\n",
            "Epoch 56/200\n",
            "23/23 [==============================] - 0s 4ms/step - loss: 0.9967 - accuracy: 0.6957 - val_loss: 1.0837 - val_accuracy: 0.6522\n",
            "Epoch 57/200\n",
            "23/23 [==============================] - 0s 4ms/step - loss: 0.9822 - accuracy: 0.7065 - val_loss: 1.0768 - val_accuracy: 0.6739\n",
            "Epoch 58/200\n",
            "23/23 [==============================] - 0s 4ms/step - loss: 0.9899 - accuracy: 0.6929 - val_loss: 1.0700 - val_accuracy: 0.6739\n",
            "Epoch 59/200\n",
            "23/23 [==============================] - 0s 4ms/step - loss: 0.9728 - accuracy: 0.6984 - val_loss: 1.0634 - val_accuracy: 0.6739\n",
            "Epoch 60/200\n",
            "23/23 [==============================] - 0s 4ms/step - loss: 0.9778 - accuracy: 0.6902 - val_loss: 1.0565 - val_accuracy: 0.6739\n",
            "Epoch 61/200\n",
            "23/23 [==============================] - 0s 4ms/step - loss: 0.9807 - accuracy: 0.6957 - val_loss: 1.0501 - val_accuracy: 0.6957\n",
            "Epoch 62/200\n",
            "23/23 [==============================] - 0s 3ms/step - loss: 0.9547 - accuracy: 0.7147 - val_loss: 1.0438 - val_accuracy: 0.6957\n",
            "Epoch 63/200\n",
            "23/23 [==============================] - 0s 4ms/step - loss: 0.9566 - accuracy: 0.7120 - val_loss: 1.0371 - val_accuracy: 0.6957\n",
            "Epoch 64/200\n",
            "23/23 [==============================] - 0s 4ms/step - loss: 0.9455 - accuracy: 0.7147 - val_loss: 1.0308 - val_accuracy: 0.6957\n",
            "Epoch 65/200\n",
            "23/23 [==============================] - 0s 4ms/step - loss: 0.9283 - accuracy: 0.7255 - val_loss: 1.0248 - val_accuracy: 0.6957\n",
            "Epoch 66/200\n",
            "23/23 [==============================] - 0s 5ms/step - loss: 0.9417 - accuracy: 0.7011 - val_loss: 1.0190 - val_accuracy: 0.6957\n",
            "Epoch 67/200\n",
            "23/23 [==============================] - 0s 4ms/step - loss: 0.9563 - accuracy: 0.7201 - val_loss: 1.0131 - val_accuracy: 0.6957\n",
            "Epoch 68/200\n",
            "23/23 [==============================] - 0s 4ms/step - loss: 0.9227 - accuracy: 0.7201 - val_loss: 1.0071 - val_accuracy: 0.6957\n",
            "Epoch 69/200\n",
            "23/23 [==============================] - 0s 4ms/step - loss: 0.9255 - accuracy: 0.7310 - val_loss: 1.0013 - val_accuracy: 0.6957\n",
            "Epoch 70/200\n",
            "23/23 [==============================] - 0s 4ms/step - loss: 0.8962 - accuracy: 0.7310 - val_loss: 0.9958 - val_accuracy: 0.6957\n",
            "Epoch 71/200\n",
            "23/23 [==============================] - 0s 4ms/step - loss: 0.9060 - accuracy: 0.7201 - val_loss: 0.9901 - val_accuracy: 0.6957\n",
            "Epoch 72/200\n",
            "23/23 [==============================] - 0s 4ms/step - loss: 0.9157 - accuracy: 0.7418 - val_loss: 0.9845 - val_accuracy: 0.7174\n",
            "Epoch 73/200\n",
            "23/23 [==============================] - 0s 4ms/step - loss: 0.9058 - accuracy: 0.7310 - val_loss: 0.9789 - val_accuracy: 0.7174\n",
            "Epoch 74/200\n",
            "23/23 [==============================] - 0s 5ms/step - loss: 0.8896 - accuracy: 0.7310 - val_loss: 0.9739 - val_accuracy: 0.7391\n",
            "Epoch 75/200\n",
            "23/23 [==============================] - 0s 4ms/step - loss: 0.9029 - accuracy: 0.7310 - val_loss: 0.9685 - val_accuracy: 0.7391\n",
            "Epoch 76/200\n",
            "23/23 [==============================] - 0s 4ms/step - loss: 0.8848 - accuracy: 0.7310 - val_loss: 0.9633 - val_accuracy: 0.7391\n",
            "Epoch 77/200\n",
            "23/23 [==============================] - 0s 4ms/step - loss: 0.8843 - accuracy: 0.7283 - val_loss: 0.9582 - val_accuracy: 0.7391\n",
            "Epoch 78/200\n",
            "23/23 [==============================] - 0s 4ms/step - loss: 0.8604 - accuracy: 0.7364 - val_loss: 0.9530 - val_accuracy: 0.7391\n",
            "Epoch 79/200\n",
            "23/23 [==============================] - 0s 4ms/step - loss: 0.8676 - accuracy: 0.7391 - val_loss: 0.9478 - val_accuracy: 0.7391\n",
            "Epoch 80/200\n",
            "23/23 [==============================] - 0s 4ms/step - loss: 0.8606 - accuracy: 0.7473 - val_loss: 0.9428 - val_accuracy: 0.7391\n",
            "Epoch 81/200\n",
            "23/23 [==============================] - 0s 4ms/step - loss: 0.8406 - accuracy: 0.7473 - val_loss: 0.9379 - val_accuracy: 0.7391\n",
            "Epoch 82/200\n",
            "23/23 [==============================] - 0s 4ms/step - loss: 0.8551 - accuracy: 0.7364 - val_loss: 0.9326 - val_accuracy: 0.7391\n",
            "Epoch 83/200\n",
            "23/23 [==============================] - 0s 4ms/step - loss: 0.8545 - accuracy: 0.7554 - val_loss: 0.9277 - val_accuracy: 0.7391\n",
            "Epoch 84/200\n",
            "23/23 [==============================] - 0s 4ms/step - loss: 0.8593 - accuracy: 0.7337 - val_loss: 0.9231 - val_accuracy: 0.7391\n",
            "Epoch 85/200\n",
            "23/23 [==============================] - 0s 4ms/step - loss: 0.8327 - accuracy: 0.7418 - val_loss: 0.9183 - val_accuracy: 0.7609\n",
            "Epoch 86/200\n",
            "23/23 [==============================] - 0s 4ms/step - loss: 0.8442 - accuracy: 0.7554 - val_loss: 0.9142 - val_accuracy: 0.7826\n",
            "Epoch 87/200\n",
            "23/23 [==============================] - 0s 4ms/step - loss: 0.8371 - accuracy: 0.7527 - val_loss: 0.9097 - val_accuracy: 0.7826\n",
            "Epoch 88/200\n",
            "23/23 [==============================] - 0s 4ms/step - loss: 0.8391 - accuracy: 0.7473 - val_loss: 0.9049 - val_accuracy: 0.7826\n",
            "Epoch 89/200\n",
            "23/23 [==============================] - 0s 4ms/step - loss: 0.8319 - accuracy: 0.7364 - val_loss: 0.9002 - val_accuracy: 0.7826\n",
            "Epoch 90/200\n",
            "23/23 [==============================] - 0s 4ms/step - loss: 0.8465 - accuracy: 0.7554 - val_loss: 0.8960 - val_accuracy: 0.7826\n",
            "Epoch 91/200\n",
            "23/23 [==============================] - 0s 4ms/step - loss: 0.8200 - accuracy: 0.7609 - val_loss: 0.8916 - val_accuracy: 0.8043\n",
            "Epoch 92/200\n",
            "23/23 [==============================] - 0s 4ms/step - loss: 0.8322 - accuracy: 0.7582 - val_loss: 0.8876 - val_accuracy: 0.8043\n",
            "Epoch 93/200\n",
            "23/23 [==============================] - 0s 4ms/step - loss: 0.8431 - accuracy: 0.7527 - val_loss: 0.8831 - val_accuracy: 0.8043\n",
            "Epoch 94/200\n",
            "23/23 [==============================] - 0s 4ms/step - loss: 0.8302 - accuracy: 0.7473 - val_loss: 0.8788 - val_accuracy: 0.8043\n",
            "Epoch 95/200\n",
            "23/23 [==============================] - 0s 4ms/step - loss: 0.8142 - accuracy: 0.7663 - val_loss: 0.8749 - val_accuracy: 0.8043\n",
            "Epoch 96/200\n",
            "23/23 [==============================] - 0s 4ms/step - loss: 0.8226 - accuracy: 0.7527 - val_loss: 0.8710 - val_accuracy: 0.8043\n",
            "Epoch 97/200\n",
            "23/23 [==============================] - 0s 4ms/step - loss: 0.8080 - accuracy: 0.7690 - val_loss: 0.8669 - val_accuracy: 0.8043\n",
            "Epoch 98/200\n",
            "23/23 [==============================] - 0s 5ms/step - loss: 0.8001 - accuracy: 0.7582 - val_loss: 0.8628 - val_accuracy: 0.8043\n",
            "Epoch 99/200\n",
            "23/23 [==============================] - 0s 4ms/step - loss: 0.7944 - accuracy: 0.7717 - val_loss: 0.8589 - val_accuracy: 0.8043\n",
            "Epoch 100/200\n",
            "23/23 [==============================] - 0s 4ms/step - loss: 0.7880 - accuracy: 0.7582 - val_loss: 0.8552 - val_accuracy: 0.8043\n",
            "Epoch 101/200\n",
            "23/23 [==============================] - 0s 4ms/step - loss: 0.7914 - accuracy: 0.7853 - val_loss: 0.8513 - val_accuracy: 0.8043\n",
            "Epoch 102/200\n",
            "23/23 [==============================] - 0s 4ms/step - loss: 0.7942 - accuracy: 0.7609 - val_loss: 0.8476 - val_accuracy: 0.8043\n",
            "Epoch 103/200\n",
            "23/23 [==============================] - 0s 4ms/step - loss: 0.7992 - accuracy: 0.7799 - val_loss: 0.8438 - val_accuracy: 0.8043\n",
            "Epoch 104/200\n",
            "23/23 [==============================] - 0s 4ms/step - loss: 0.7849 - accuracy: 0.7745 - val_loss: 0.8403 - val_accuracy: 0.8261\n",
            "Epoch 105/200\n",
            "23/23 [==============================] - 0s 4ms/step - loss: 0.7825 - accuracy: 0.7772 - val_loss: 0.8367 - val_accuracy: 0.8261\n",
            "Epoch 106/200\n",
            "23/23 [==============================] - 0s 4ms/step - loss: 0.7625 - accuracy: 0.7772 - val_loss: 0.8335 - val_accuracy: 0.8261\n",
            "Epoch 107/200\n",
            "23/23 [==============================] - 0s 4ms/step - loss: 0.7648 - accuracy: 0.7772 - val_loss: 0.8300 - val_accuracy: 0.8261\n",
            "Epoch 108/200\n",
            "23/23 [==============================] - 0s 4ms/step - loss: 0.7874 - accuracy: 0.7717 - val_loss: 0.8266 - val_accuracy: 0.8261\n",
            "Epoch 109/200\n",
            "23/23 [==============================] - 0s 4ms/step - loss: 0.7742 - accuracy: 0.7663 - val_loss: 0.8233 - val_accuracy: 0.8261\n",
            "Epoch 110/200\n",
            "23/23 [==============================] - 0s 4ms/step - loss: 0.7781 - accuracy: 0.7826 - val_loss: 0.8198 - val_accuracy: 0.8261\n",
            "Epoch 111/200\n",
            "23/23 [==============================] - 0s 4ms/step - loss: 0.7616 - accuracy: 0.7880 - val_loss: 0.8167 - val_accuracy: 0.8261\n",
            "Epoch 112/200\n",
            "23/23 [==============================] - 0s 4ms/step - loss: 0.7349 - accuracy: 0.7745 - val_loss: 0.8135 - val_accuracy: 0.8261\n",
            "Epoch 113/200\n",
            "23/23 [==============================] - 0s 4ms/step - loss: 0.7598 - accuracy: 0.7826 - val_loss: 0.8101 - val_accuracy: 0.8261\n",
            "Epoch 114/200\n",
            "23/23 [==============================] - 0s 4ms/step - loss: 0.7638 - accuracy: 0.7745 - val_loss: 0.8070 - val_accuracy: 0.8261\n",
            "Epoch 115/200\n",
            "23/23 [==============================] - 0s 4ms/step - loss: 0.7413 - accuracy: 0.7853 - val_loss: 0.8040 - val_accuracy: 0.8043\n",
            "Epoch 116/200\n",
            "23/23 [==============================] - 0s 4ms/step - loss: 0.7581 - accuracy: 0.7772 - val_loss: 0.8013 - val_accuracy: 0.8043\n",
            "Epoch 117/200\n",
            "23/23 [==============================] - 0s 4ms/step - loss: 0.7437 - accuracy: 0.7962 - val_loss: 0.7981 - val_accuracy: 0.8043\n",
            "Epoch 118/200\n",
            "23/23 [==============================] - 0s 4ms/step - loss: 0.7419 - accuracy: 0.7772 - val_loss: 0.7951 - val_accuracy: 0.8043\n",
            "Epoch 119/200\n",
            "23/23 [==============================] - 0s 4ms/step - loss: 0.7673 - accuracy: 0.7826 - val_loss: 0.7919 - val_accuracy: 0.8043\n",
            "Epoch 120/200\n",
            "23/23 [==============================] - 0s 4ms/step - loss: 0.7183 - accuracy: 0.7799 - val_loss: 0.7893 - val_accuracy: 0.8043\n",
            "Epoch 121/200\n",
            "23/23 [==============================] - 0s 4ms/step - loss: 0.7535 - accuracy: 0.7636 - val_loss: 0.7864 - val_accuracy: 0.8043\n",
            "Epoch 122/200\n",
            "23/23 [==============================] - 0s 4ms/step - loss: 0.7396 - accuracy: 0.7745 - val_loss: 0.7835 - val_accuracy: 0.8043\n",
            "Epoch 123/200\n",
            "23/23 [==============================] - 0s 4ms/step - loss: 0.7329 - accuracy: 0.7826 - val_loss: 0.7806 - val_accuracy: 0.8043\n",
            "Epoch 124/200\n",
            "23/23 [==============================] - 0s 4ms/step - loss: 0.7107 - accuracy: 0.7826 - val_loss: 0.7776 - val_accuracy: 0.8043\n",
            "Epoch 125/200\n",
            "23/23 [==============================] - 0s 4ms/step - loss: 0.7526 - accuracy: 0.7636 - val_loss: 0.7751 - val_accuracy: 0.8043\n",
            "Epoch 126/200\n",
            "23/23 [==============================] - 0s 4ms/step - loss: 0.7359 - accuracy: 0.7799 - val_loss: 0.7725 - val_accuracy: 0.8043\n",
            "Epoch 127/200\n",
            "23/23 [==============================] - 0s 4ms/step - loss: 0.7205 - accuracy: 0.7609 - val_loss: 0.7697 - val_accuracy: 0.8043\n",
            "Epoch 128/200\n",
            "23/23 [==============================] - 0s 5ms/step - loss: 0.7217 - accuracy: 0.8016 - val_loss: 0.7672 - val_accuracy: 0.8043\n",
            "Epoch 129/200\n",
            "23/23 [==============================] - 0s 4ms/step - loss: 0.7189 - accuracy: 0.7853 - val_loss: 0.7647 - val_accuracy: 0.8043\n",
            "Epoch 130/200\n",
            "23/23 [==============================] - 0s 4ms/step - loss: 0.7038 - accuracy: 0.7880 - val_loss: 0.7623 - val_accuracy: 0.8043\n",
            "Epoch 131/200\n",
            "23/23 [==============================] - 0s 4ms/step - loss: 0.7275 - accuracy: 0.7962 - val_loss: 0.7601 - val_accuracy: 0.8043\n",
            "Epoch 132/200\n",
            "23/23 [==============================] - 0s 4ms/step - loss: 0.7004 - accuracy: 0.7962 - val_loss: 0.7577 - val_accuracy: 0.8043\n",
            "Epoch 133/200\n",
            "23/23 [==============================] - 0s 4ms/step - loss: 0.7259 - accuracy: 0.7962 - val_loss: 0.7555 - val_accuracy: 0.8043\n",
            "Epoch 134/200\n",
            "23/23 [==============================] - 0s 4ms/step - loss: 0.7138 - accuracy: 0.7989 - val_loss: 0.7531 - val_accuracy: 0.8043\n",
            "Epoch 135/200\n",
            "23/23 [==============================] - 0s 4ms/step - loss: 0.7115 - accuracy: 0.7962 - val_loss: 0.7508 - val_accuracy: 0.8043\n",
            "Epoch 136/200\n",
            "23/23 [==============================] - 0s 4ms/step - loss: 0.6976 - accuracy: 0.7908 - val_loss: 0.7487 - val_accuracy: 0.8043\n",
            "Epoch 137/200\n",
            "23/23 [==============================] - 0s 4ms/step - loss: 0.7036 - accuracy: 0.7908 - val_loss: 0.7465 - val_accuracy: 0.8043\n",
            "Epoch 138/200\n",
            "23/23 [==============================] - 0s 4ms/step - loss: 0.7092 - accuracy: 0.7853 - val_loss: 0.7443 - val_accuracy: 0.8043\n",
            "Epoch 139/200\n",
            "23/23 [==============================] - 0s 4ms/step - loss: 0.6871 - accuracy: 0.7908 - val_loss: 0.7422 - val_accuracy: 0.8043\n",
            "Epoch 140/200\n",
            "23/23 [==============================] - 0s 4ms/step - loss: 0.6862 - accuracy: 0.8098 - val_loss: 0.7399 - val_accuracy: 0.8043\n",
            "Epoch 141/200\n",
            "23/23 [==============================] - 0s 4ms/step - loss: 0.6837 - accuracy: 0.8016 - val_loss: 0.7379 - val_accuracy: 0.8043\n",
            "Epoch 142/200\n",
            "23/23 [==============================] - 0s 4ms/step - loss: 0.6828 - accuracy: 0.7935 - val_loss: 0.7357 - val_accuracy: 0.8043\n",
            "Epoch 143/200\n",
            "23/23 [==============================] - 0s 4ms/step - loss: 0.6880 - accuracy: 0.7799 - val_loss: 0.7338 - val_accuracy: 0.8043\n",
            "Epoch 144/200\n",
            "23/23 [==============================] - 0s 4ms/step - loss: 0.6830 - accuracy: 0.7880 - val_loss: 0.7317 - val_accuracy: 0.8043\n",
            "Epoch 145/200\n",
            "23/23 [==============================] - 0s 4ms/step - loss: 0.7034 - accuracy: 0.7826 - val_loss: 0.7298 - val_accuracy: 0.8043\n",
            "Epoch 146/200\n",
            "23/23 [==============================] - 0s 5ms/step - loss: 0.6974 - accuracy: 0.7962 - val_loss: 0.7279 - val_accuracy: 0.8043\n",
            "Epoch 147/200\n",
            "23/23 [==============================] - 0s 4ms/step - loss: 0.6752 - accuracy: 0.8016 - val_loss: 0.7260 - val_accuracy: 0.8043\n",
            "Epoch 148/200\n",
            "23/23 [==============================] - 0s 4ms/step - loss: 0.7046 - accuracy: 0.7853 - val_loss: 0.7241 - val_accuracy: 0.8043\n",
            "Epoch 149/200\n",
            "23/23 [==============================] - 0s 4ms/step - loss: 0.6697 - accuracy: 0.8016 - val_loss: 0.7223 - val_accuracy: 0.8043\n",
            "Epoch 150/200\n",
            "23/23 [==============================] - 0s 4ms/step - loss: 0.6674 - accuracy: 0.7908 - val_loss: 0.7201 - val_accuracy: 0.8043\n",
            "Epoch 151/200\n",
            "23/23 [==============================] - 0s 4ms/step - loss: 0.6856 - accuracy: 0.8016 - val_loss: 0.7183 - val_accuracy: 0.8043\n",
            "Epoch 152/200\n",
            "23/23 [==============================] - 0s 4ms/step - loss: 0.6791 - accuracy: 0.8016 - val_loss: 0.7166 - val_accuracy: 0.8043\n",
            "Epoch 153/200\n",
            "23/23 [==============================] - 0s 4ms/step - loss: 0.6722 - accuracy: 0.8071 - val_loss: 0.7146 - val_accuracy: 0.8043\n",
            "Epoch 154/200\n",
            "23/23 [==============================] - 0s 5ms/step - loss: 0.6692 - accuracy: 0.8043 - val_loss: 0.7128 - val_accuracy: 0.8043\n",
            "Epoch 155/200\n",
            "23/23 [==============================] - 0s 4ms/step - loss: 0.6716 - accuracy: 0.7989 - val_loss: 0.7111 - val_accuracy: 0.8043\n",
            "Epoch 156/200\n",
            "23/23 [==============================] - 0s 4ms/step - loss: 0.6776 - accuracy: 0.7935 - val_loss: 0.7095 - val_accuracy: 0.8043\n",
            "Epoch 157/200\n",
            "23/23 [==============================] - 0s 4ms/step - loss: 0.6627 - accuracy: 0.8016 - val_loss: 0.7081 - val_accuracy: 0.8043\n",
            "Epoch 158/200\n",
            "23/23 [==============================] - 0s 4ms/step - loss: 0.6564 - accuracy: 0.8016 - val_loss: 0.7063 - val_accuracy: 0.8043\n",
            "Epoch 159/200\n",
            "23/23 [==============================] - 0s 4ms/step - loss: 0.6549 - accuracy: 0.7880 - val_loss: 0.7047 - val_accuracy: 0.8043\n",
            "Epoch 160/200\n",
            "23/23 [==============================] - 0s 5ms/step - loss: 0.6716 - accuracy: 0.8043 - val_loss: 0.7033 - val_accuracy: 0.8043\n",
            "Epoch 161/200\n",
            "23/23 [==============================] - 0s 4ms/step - loss: 0.6562 - accuracy: 0.8043 - val_loss: 0.7016 - val_accuracy: 0.8043\n",
            "Epoch 162/200\n",
            "23/23 [==============================] - 0s 4ms/step - loss: 0.6452 - accuracy: 0.8043 - val_loss: 0.7002 - val_accuracy: 0.7826\n",
            "Epoch 163/200\n",
            "23/23 [==============================] - 0s 4ms/step - loss: 0.6455 - accuracy: 0.8071 - val_loss: 0.6985 - val_accuracy: 0.7826\n",
            "Epoch 164/200\n",
            "23/23 [==============================] - 0s 4ms/step - loss: 0.6469 - accuracy: 0.8043 - val_loss: 0.6969 - val_accuracy: 0.7826\n",
            "Epoch 165/200\n",
            "23/23 [==============================] - 0s 4ms/step - loss: 0.6696 - accuracy: 0.7989 - val_loss: 0.6955 - val_accuracy: 0.7826\n",
            "Epoch 166/200\n",
            "23/23 [==============================] - 0s 4ms/step - loss: 0.6468 - accuracy: 0.8016 - val_loss: 0.6941 - val_accuracy: 0.7826\n",
            "Epoch 167/200\n",
            "23/23 [==============================] - 0s 4ms/step - loss: 0.6605 - accuracy: 0.7989 - val_loss: 0.6927 - val_accuracy: 0.7826\n",
            "Epoch 168/200\n",
            "23/23 [==============================] - 0s 4ms/step - loss: 0.6512 - accuracy: 0.8234 - val_loss: 0.6910 - val_accuracy: 0.7826\n",
            "Epoch 169/200\n",
            "23/23 [==============================] - 0s 4ms/step - loss: 0.6533 - accuracy: 0.8071 - val_loss: 0.6898 - val_accuracy: 0.7826\n",
            "Epoch 170/200\n",
            "23/23 [==============================] - 0s 4ms/step - loss: 0.6361 - accuracy: 0.8098 - val_loss: 0.6882 - val_accuracy: 0.7826\n",
            "Epoch 171/200\n",
            "23/23 [==============================] - 0s 4ms/step - loss: 0.6616 - accuracy: 0.8098 - val_loss: 0.6869 - val_accuracy: 0.7826\n",
            "Epoch 172/200\n",
            "23/23 [==============================] - 0s 4ms/step - loss: 0.6480 - accuracy: 0.7989 - val_loss: 0.6856 - val_accuracy: 0.8043\n",
            "Epoch 173/200\n",
            "23/23 [==============================] - 0s 4ms/step - loss: 0.6533 - accuracy: 0.8152 - val_loss: 0.6844 - val_accuracy: 0.8043\n",
            "Epoch 174/200\n",
            "23/23 [==============================] - 0s 4ms/step - loss: 0.6338 - accuracy: 0.8016 - val_loss: 0.6833 - val_accuracy: 0.8043\n",
            "Epoch 175/200\n",
            "23/23 [==============================] - 0s 4ms/step - loss: 0.6434 - accuracy: 0.8071 - val_loss: 0.6821 - val_accuracy: 0.8043\n",
            "Epoch 176/200\n",
            "23/23 [==============================] - 0s 4ms/step - loss: 0.6263 - accuracy: 0.8071 - val_loss: 0.6809 - val_accuracy: 0.8043\n",
            "Epoch 177/200\n",
            "23/23 [==============================] - 0s 4ms/step - loss: 0.6416 - accuracy: 0.7989 - val_loss: 0.6795 - val_accuracy: 0.8043\n",
            "Epoch 178/200\n",
            "23/23 [==============================] - 0s 5ms/step - loss: 0.6395 - accuracy: 0.8071 - val_loss: 0.6784 - val_accuracy: 0.8043\n",
            "Epoch 179/200\n",
            "23/23 [==============================] - 0s 5ms/step - loss: 0.6577 - accuracy: 0.7989 - val_loss: 0.6772 - val_accuracy: 0.8043\n",
            "Epoch 180/200\n",
            "23/23 [==============================] - 0s 4ms/step - loss: 0.6375 - accuracy: 0.8125 - val_loss: 0.6761 - val_accuracy: 0.8043\n",
            "Epoch 181/200\n",
            "23/23 [==============================] - 0s 4ms/step - loss: 0.6467 - accuracy: 0.7962 - val_loss: 0.6751 - val_accuracy: 0.8043\n",
            "Epoch 182/200\n",
            "23/23 [==============================] - 0s 4ms/step - loss: 0.6374 - accuracy: 0.8152 - val_loss: 0.6739 - val_accuracy: 0.8043\n",
            "Epoch 183/200\n",
            "23/23 [==============================] - 0s 4ms/step - loss: 0.6294 - accuracy: 0.8152 - val_loss: 0.6727 - val_accuracy: 0.8043\n",
            "Epoch 184/200\n",
            "23/23 [==============================] - 0s 4ms/step - loss: 0.6527 - accuracy: 0.8043 - val_loss: 0.6716 - val_accuracy: 0.8043\n",
            "Epoch 185/200\n",
            "23/23 [==============================] - 0s 4ms/step - loss: 0.6453 - accuracy: 0.7989 - val_loss: 0.6707 - val_accuracy: 0.8043\n",
            "Epoch 186/200\n",
            "23/23 [==============================] - 0s 4ms/step - loss: 0.6329 - accuracy: 0.8179 - val_loss: 0.6696 - val_accuracy: 0.8043\n",
            "Epoch 187/200\n",
            "23/23 [==============================] - 0s 4ms/step - loss: 0.6306 - accuracy: 0.8071 - val_loss: 0.6684 - val_accuracy: 0.8043\n",
            "Epoch 188/200\n",
            "23/23 [==============================] - 0s 4ms/step - loss: 0.6308 - accuracy: 0.8207 - val_loss: 0.6672 - val_accuracy: 0.8043\n",
            "Epoch 189/200\n",
            "23/23 [==============================] - 0s 4ms/step - loss: 0.6105 - accuracy: 0.8125 - val_loss: 0.6661 - val_accuracy: 0.8043\n",
            "Epoch 190/200\n",
            "23/23 [==============================] - 0s 4ms/step - loss: 0.6054 - accuracy: 0.8207 - val_loss: 0.6651 - val_accuracy: 0.8043\n",
            "Epoch 191/200\n",
            "23/23 [==============================] - 0s 4ms/step - loss: 0.6351 - accuracy: 0.8098 - val_loss: 0.6642 - val_accuracy: 0.8043\n",
            "Epoch 192/200\n",
            "23/23 [==============================] - 0s 4ms/step - loss: 0.6349 - accuracy: 0.8016 - val_loss: 0.6633 - val_accuracy: 0.8043\n",
            "Epoch 193/200\n",
            "23/23 [==============================] - 0s 5ms/step - loss: 0.6013 - accuracy: 0.8152 - val_loss: 0.6622 - val_accuracy: 0.8043\n",
            "Epoch 194/200\n",
            "23/23 [==============================] - 0s 4ms/step - loss: 0.6131 - accuracy: 0.8152 - val_loss: 0.6613 - val_accuracy: 0.8043\n",
            "Epoch 195/200\n",
            "23/23 [==============================] - 0s 4ms/step - loss: 0.6106 - accuracy: 0.8234 - val_loss: 0.6604 - val_accuracy: 0.8043\n",
            "Epoch 196/200\n",
            "23/23 [==============================] - 0s 4ms/step - loss: 0.6295 - accuracy: 0.8179 - val_loss: 0.6595 - val_accuracy: 0.8043\n",
            "Epoch 197/200\n",
            "23/23 [==============================] - 0s 4ms/step - loss: 0.6274 - accuracy: 0.8207 - val_loss: 0.6587 - val_accuracy: 0.8043\n",
            "Epoch 198/200\n",
            "23/23 [==============================] - 0s 4ms/step - loss: 0.5967 - accuracy: 0.8179 - val_loss: 0.6579 - val_accuracy: 0.8043\n",
            "Epoch 199/200\n",
            "23/23 [==============================] - 0s 4ms/step - loss: 0.6570 - accuracy: 0.8071 - val_loss: 0.6571 - val_accuracy: 0.8043\n",
            "Epoch 200/200\n",
            "23/23 [==============================] - 0s 4ms/step - loss: 0.6186 - accuracy: 0.8288 - val_loss: 0.6561 - val_accuracy: 0.8043\n",
            "evaluate\n"
          ]
        }
      ]
    },
    {
      "cell_type": "code",
      "source": [
        "hist.history.keys()"
      ],
      "metadata": {
        "colab": {
          "base_uri": "https://localhost:8080/"
        },
        "id": "wjcvt6sbxBd9",
        "outputId": "be8e12cc-1111-4d50-feb7-67fb2a3ccfa3"
      },
      "execution_count": null,
      "outputs": [
        {
          "output_type": "execute_result",
          "data": {
            "text/plain": [
              "dict_keys(['loss', 'accuracy', 'val_loss', 'val_accuracy'])"
            ]
          },
          "metadata": {},
          "execution_count": 96
        }
      ]
    },
    {
      "cell_type": "code",
      "source": [
        "# test\n",
        "model_loss,modelAccuracy = model.evaluate([np.array(x_valid['meta'].tolist()),np.array(x_valid['image'].tolist())],y_valid)\n",
        "print(\"Model Accuracy \"+str(modelAccuracy))"
      ],
      "metadata": {
        "colab": {
          "base_uri": "https://localhost:8080/"
        },
        "id": "HjSR5WHbO0nJ",
        "outputId": "ad0f64ab-1bff-4b36-d199-29dab8b6ff2a"
      },
      "execution_count": null,
      "outputs": [
        {
          "output_type": "stream",
          "name": "stdout",
          "text": [
            "2/2 [==============================] - 0s 7ms/step - loss: 0.3704 - accuracy: 0.9565\n",
            "Model Accuracy 0.95652174949646\n"
          ]
        }
      ]
    },
    {
      "cell_type": "markdown",
      "source": [
        "#Visualize"
      ],
      "metadata": {
        "id": "XPWlQscgVqS8"
      }
    },
    {
      "cell_type": "code",
      "source": [
        "plt.figure(figsize=(10,5))\n",
        "plt.plot(hist.history['accuracy'],color='b',label='Training Accuracy')\n",
        "plt.plot(hist.history['val_accuracy'],color='r',label='Validation Accuracy')\n",
        "plt.xlabel(\"Epochs\")\n",
        "plt.ylabel(\"Accuracy\")\n",
        "plt.title(\"Accuracy Graph\")\n",
        "plt.legend(loc='lower right')"
      ],
      "metadata": {
        "id": "PzH9_G9DBu4c",
        "colab": {
          "base_uri": "https://localhost:8080/",
          "height": 367
        },
        "outputId": "3349ada3-fbf8-4178-e9a6-8f159a954e6a"
      },
      "execution_count": null,
      "outputs": [
        {
          "output_type": "execute_result",
          "data": {
            "text/plain": [
              "<matplotlib.legend.Legend at 0x7f183fe96490>"
            ]
          },
          "metadata": {},
          "execution_count": 98
        },
        {
          "output_type": "display_data",
          "data": {
            "text/plain": [
              "<Figure size 720x360 with 1 Axes>"
            ],
            "image/png": "[encoded data removed]"
          },
          "metadata": {
            "needs_background": "light"
          }
        }
      ]
    },
    {
      "cell_type": "code",
      "source": [
        "plt.figure(figsize=(10,5))\n",
        "plt.plot(hist.history['loss'],color='b',label='Training Loss')\n",
        "plt.plot(hist.history['val_loss'],color='r',label='Validation Loss')\n",
        "plt.xlabel(\"Epochs\")\n",
        "plt.ylabel(\"Loss Value\")\n",
        "plt.title(\"Loss Graph\")\n",
        "plt.legend(loc='upper right')"
      ],
      "metadata": {
        "id": "IFTaRP_9BuUC",
        "colab": {
          "base_uri": "https://localhost:8080/",
          "height": 367
        },
        "outputId": "f8178921-7cbf-4ade-f4c4-0591188e6e96"
      },
      "execution_count": null,
      "outputs": [
        {
          "output_type": "execute_result",
          "data": {
            "text/plain": [
              "<matplotlib.legend.Legend at 0x7f183ff68fd0>"
            ]
          },
          "metadata": {},
          "execution_count": 99
        },
        {
          "output_type": "display_data",
          "data": {
            "text/plain": [
              "<Figure size 720x360 with 1 Axes>"
            ],
            "image/png": "[encoded data removed]"
          },
          "metadata": {
            "needs_background": "light"
          }
        }
      ]
    },
    {
      "cell_type": "code",
      "source": [
        "predictions = model.predict([np.array(x_valid['meta'].tolist()),np.array(x_valid['image'].tolist())], verbose=0) "
      ],
      "metadata": {
        "id": "vtJun7jIOc5m"
      },
      "execution_count": null,
      "outputs": []
    },
    {
      "cell_type": "code",
      "execution_count": null,
      "metadata": {
        "colab": {
          "base_uri": "https://localhost:8080/"
        },
        "outputId": "5f8ac792-4764-42bd-ac46-1f57fb03a37e",
        "id": "HtHMxh8eOc5n"
      },
      "outputs": [
        {
          "output_type": "stream",
          "name": "stdout",
          "text": [
            "\n",
            "Classification Report:\n",
            "              precision    recall  f1-score   support\n",
            "\n",
            "           0       1.00      1.00      1.00        17\n",
            "           1       0.94      1.00      0.97        16\n",
            "           3       1.00      0.89      0.94         9\n",
            "           4       1.00      0.67      0.80         3\n",
            "           5       0.50      1.00      0.67         1\n",
            "\n",
            "    accuracy                           0.96        46\n",
            "   macro avg       0.89      0.91      0.88        46\n",
            "weighted avg       0.97      0.96      0.96        46\n",
            "\n"
          ]
        }
      ],
      "source": [
        "from sklearn.metrics import  precision_score, recall_score, accuracy_score,classification_report,roc_auc_score,roc_curve,auc\n",
        "from tensorflow.keras.utils import to_categorical\n",
        "\n",
        "#geting predictions on test dataset\n",
        "y_pred = np.argmax(predictions, axis=1)\n",
        "targetnames = ['ACK', 'BCC', 'MEL', 'NEV', 'SCC', 'SEK']\n",
        "\n",
        "#getting the true labels per image \n",
        "y_true = y_valid\n",
        "\n",
        "# Creating classification report \n",
        "report = classification_report(y_true, y_pred)\n",
        "\n",
        "print(\"\\nClassification Report:\")\n",
        "print(report)"
      ]
    },
    {
      "cell_type": "code",
      "source": [
        "import seaborn as sn\n",
        "import pandas as pd\n",
        "from sklearn.metrics import confusion_matrix\n",
        "cmatrix = confusion_matrix(y_true, y_pred)\n",
        "ax = plt.subplot()\n",
        "sn.heatmap(cmatrix,annot=True,fmt='g',ax=ax)\n",
        "ax.set_xlabel('Predictied Labels');ax.set_ylabel('True Labels');\n",
        "ax.set_title('Confusion Matrix')"
      ],
      "metadata": {
        "id": "8HwNhnnaRihs",
        "outputId": "a3196f0b-8b25-4274-fb6e-9f73eac201d1",
        "colab": {
          "base_uri": "https://localhost:8080/",
          "height": 312
        }
      },
      "execution_count": null,
      "outputs": [
        {
          "output_type": "execute_result",
          "data": {
            "text/plain": [
              "Text(0.5, 1.0, 'Confusion Matrix')"
            ]
          },
          "metadata": {},
          "execution_count": 143
        },
        {
          "output_type": "display_data",
          "data": {
            "text/plain": [
              "<Figure size 432x288 with 2 Axes>"
            ],
            "image/png": "[encoded data removed]"
          },
          "metadata": {
            "needs_background": "light"
          }
        }
      ]
    },
    {
      "cell_type": "code",
      "source": [
        "y_valid"
      ],
      "metadata": {
        "colab": {
          "base_uri": "https://localhost:8080/"
        },
        "id": "W3I4zickCfzd",
        "outputId": "7baca9b8-b74f-443d-cf6c-2bbceda66f46"
      },
      "execution_count": null,
      "outputs": [
        {
          "output_type": "execute_result",
          "data": {
            "text/plain": [
              "24     3\n",
              "237    1\n",
              "69     0\n",
              "156    0\n",
              "436    1\n",
              "422    0\n",
              "312    1\n",
              "274    0\n",
              "323    3\n",
              "240    1\n",
              "31     0\n",
              "210    0\n",
              "379    1\n",
              "302    0\n",
              "133    1\n",
              "117    3\n",
              "179    1\n",
              "161    3\n",
              "106    1\n",
              "183    4\n",
              "189    3\n",
              "215    1\n",
              "36     1\n",
              "2      0\n",
              "211    0\n",
              "372    0\n",
              "147    4\n",
              "252    3\n",
              "261    1\n",
              "39     0\n",
              "81     3\n",
              "334    1\n",
              "198    0\n",
              "246    3\n",
              "408    1\n",
              "281    0\n",
              "296    1\n",
              "195    0\n",
              "89     5\n",
              "181    3\n",
              "138    1\n",
              "118    0\n",
              "130    1\n",
              "91     4\n",
              "265    0\n",
              "416    0\n",
              "Name: label, dtype: int64"
            ]
          },
          "metadata": {},
          "execution_count": 115
        }
      ]
    },
    {
      "cell_type": "code",
      "source": [
        "y_test"
      ],
      "metadata": {
        "outputId": "ffc7cd05-8622-4a76-bdcb-82b61dc1c7c0",
        "colab": {
          "base_uri": "https://localhost:8080/"
        },
        "id": "tfEPZ7KzFZi8"
      },
      "execution_count": null,
      "outputs": [
        {
          "output_type": "execute_result",
          "data": {
            "text/plain": [
              "100    0\n",
              "412    0\n",
              "387    0\n",
              "269    3\n",
              "395    4\n",
              "383    0\n",
              "419    0\n",
              "325    1\n",
              "139    1\n",
              "437    1\n",
              "38     1\n",
              "8      0\n",
              "251    0\n",
              "257    0\n",
              "391    1\n",
              "165    3\n",
              "356    1\n",
              "331    3\n",
              "231    0\n",
              "43     4\n",
              "95     1\n",
              "450    5\n",
              "157    2\n",
              "368    1\n",
              "187    0\n",
              "114    5\n",
              "194    3\n",
              "400    5\n",
              "225    3\n",
              "128    5\n",
              "12     0\n",
              "154    1\n",
              "405    1\n",
              "72     1\n",
              "56     1\n",
              "242    5\n",
              "19     1\n",
              "373    1\n",
              "98     3\n",
              "310    5\n",
              "168    0\n",
              "53     1\n",
              "143    1\n",
              "57     3\n",
              "407    1\n",
              "278    4\n",
              "Name: label, dtype: int64"
            ]
          },
          "metadata": {},
          "execution_count": 116
        }
      ]
    },
    {
      "cell_type": "code",
      "source": [
        "!jupyter nbconvert --to html PAD20+ML+Mobv2+2dense\\(95_6\\)\\ \\(1\\).ipynb "
      ],
      "metadata": {
        "id": "0Gq1TL7mjraZ",
        "colab": {
          "base_uri": "https://localhost:8080/"
        },
        "outputId": "00c1683e-c092-4050-b33d-01565b85925e"
      },
      "execution_count": null,
      "outputs": [
        {
          "output_type": "stream",
          "name": "stdout",
          "text": [
            "[NbConvertApp] Converting notebook PAD20+ML+Mobv2+2dense(95_6) (1).ipynb to html\n",
            "[NbConvertApp] Writing 474270 bytes to PAD20+ML+Mobv2+2dense(95_6) (1).html\n"
          ]
        }
      ]
    },
    {
      "cell_type": "code",
      "source": [],
      "metadata": {
        "id": "lg0l9YO3yn1N"
      },
      "execution_count": null,
      "outputs": []
    }
  ]
}